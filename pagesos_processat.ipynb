{
 "cells": [
  {
   "cell_type": "code",
   "execution_count": null,
   "metadata": {},
   "outputs": [],
   "source": [
    "from pathlib import Path # reads paths in the current OS\n",
    "import pandas as pd\n",
    "import numpy as np\n",
    "import utils as ut\n",
    "import yaml\n",
    "import json"
   ]
  },
  {
   "cell_type": "markdown",
   "metadata": {},
   "source": [
    "## Reading"
   ]
  },
  {
   "cell_type": "code",
   "execution_count": null,
   "metadata": {},
   "outputs": [],
   "source": [
    "with open(Path('conf') / 'paths.yaml') as file:\n",
    "    config = yaml.full_load(file)\n",
    "with open(Path('conf') / 'product_list.yaml') as file:\n",
    "    product_cat = yaml.full_load(file)\n",
    "with open(Path('conf') / 'payment_list.yaml') as file:\n",
    "    payment_cat = yaml.full_load(file)\n",
    "with open(Path('conf') / 'sector_list.yaml') as file:\n",
    "    sectors_dict = yaml.full_load(file)\n",
    "    \n",
    "\n",
    "data         = pd.read_json(Path(config['input_path']) / 'db_mesinfo.json', orient='index').fillna('')\n",
    "locations_df = pd.read_csv(Path(config['input_path']) / 'municipis_merge.csv').fillna('')\n",
    "\n",
    "print(data.shape)\n",
    "\n",
    "data.rename(columns={'url':'URL', \n",
    "                     'Nom de la persona productora:':'PRODUCTOR', \n",
    "                     'Marca:':'MARCA', \n",
    "                     'Municipi:':'MUNICIPIO',  \n",
    "                     'On serveix:':'DONDE', \n",
    "                     'Productes disponibles:':'PRODUCTOS', \n",
    "                     'Altres productes alimentaris:':'OTROS',\n",
    "                     'Possibilitats pagament:': 'PAGO', \n",
    "                     'Fruita*:':'FRUTA', \n",
    "                     '*':'NOTAS', \n",
    "                     'Més informació:':'INFO', \n",
    "                     'Carn:':'CARNE', \n",
    "                     'Verdura*:': 'VERDURA', \n",
    "                     'Flor i planta ornamental:':'FLORES'}, inplace=True)\n",
    "\n",
    "data.head()"
   ]
  },
  {
   "cell_type": "code",
   "execution_count": null,
   "metadata": {},
   "outputs": [],
   "source": [
    "stopwords = ut.get_all_stopwords()"
   ]
  },
  {
   "cell_type": "markdown",
   "metadata": {},
   "source": [
    "## Pre-process columns"
   ]
  },
  {
   "cell_type": "code",
   "execution_count": null,
   "metadata": {},
   "outputs": [],
   "source": [
    "ut.run_preprocess_on_cols(data,['OTROS', 'PAGO'],stopwords)"
   ]
  },
  {
   "cell_type": "markdown",
   "metadata": {},
   "source": [
    "## New columns"
   ]
  },
  {
   "cell_type": "markdown",
   "metadata": {},
   "source": [
    "### Binary varibles"
   ]
  },
  {
   "cell_type": "code",
   "execution_count": null,
   "metadata": {},
   "outputs": [],
   "source": [
    "# create binary variables representing whether they have a payment method or not\n",
    "ut.create_binary_var(data,payment_cat,'PAGO'+'_prep')\n",
    "# create binary variables representing whether they have a type of product or not\n",
    "ut.create_binary_var(data,product_cat,'OTROS'+'_prep')\n",
    "\n",
    "## Updating the columns vegetables, fruit, meat and flowers, \n",
    "## since in this dataset are informed in different fields (and not in the main one OTROS)\n",
    "data.loc[data.VERDURA != '', 'vegetables']=1\n",
    "data.loc[data.FRUTA != '', 'fruit']=1\n",
    "data.loc[data.CARNE != '', 'meat']=1\n",
    "data.loc[data.FLORES != '', 'flowers']=1"
   ]
  },
  {
   "cell_type": "markdown",
   "metadata": {},
   "source": [
    "### Sectors\n"
   ]
  },
  {
   "cell_type": "code",
   "execution_count": null,
   "metadata": {},
   "outputs": [],
   "source": [
    "# Create binary variables representing whether the producer belong to a specific sector or not \n",
    "# (according to the products he/she sells and the definition of sectors given in sector_list.yaml)\n",
    "data=ut.create_sectors_col(data,sectors_dict)"
   ]
  },
  {
   "cell_type": "markdown",
   "metadata": {},
   "source": [
    "### Numerical cols"
   ]
  },
  {
   "cell_type": "code",
   "execution_count": null,
   "metadata": {},
   "outputs": [],
   "source": [
    "data = ut.add_numerical_cols(data,more_data=True)\n",
    "\n",
    "## 42 comarcas en total:   \n",
    "    \n",
    "#Alt Camp, Alt Empordà, Alt Penedès, Alt Urgell, Alta Ribagorça, \n",
    "#Anoia, Bages,Baix Camp, Baix Ebre, Baix Empordà,\n",
    "#Baix Llobregat, Baix Penedès, Barcelonès, Berguedà, Cerdanya, \n",
    "#Conca de Barberà, Garraf, Garrigues, Garrotxa, Gironès,\n",
    "#Maresme, Moianès, Montsià, Noguera, Osona / Lluçanès, \n",
    "#Pallars Jussà, Pallars Sobirà, Pla d'Urgell, Pla de l'Estany, Priorat, \n",
    "#Ribera d'Ebre, Ripollès, Segarra, Segrià, Selva,\n",
    "#Solsonès, Tarragonès, Terra Alta, Urgell, Vall d'Aran, \n",
    "#Vallès Occidental,  Vallès Oriental\n",
    "\n",
    "##NB: Hay algunos casos donde hay 41 comarcas, más tarde los consideremos como toda cataluña"
   ]
  },
  {
   "cell_type": "markdown",
   "metadata": {},
   "source": [
    "### Comarca of origin (i.e. of the producer)"
   ]
  },
  {
   "cell_type": "code",
   "execution_count": null,
   "metadata": {},
   "outputs": [],
   "source": [
    "# Dictionary to translate municipis to comarca\n",
    "mun_to_com_dict = locations_df[locations_df['Municipi']!=''].set_index('Municipi')['Comarca'].to_dict()"
   ]
  },
  {
   "cell_type": "code",
   "execution_count": null,
   "metadata": {},
   "outputs": [],
   "source": [
    "data['comarca_origin'] = data['MUNICIPIO'].str.split(')').str.get(-2).str.split('(').str.get(1).fillna('')\n",
    "\n",
    "data['comarca_origin'] = data['comarca_origin'].apply(lambda x: ut.check_comarca_spelling(\n",
    "    x,locations_df['Comarca'],stopwords) if x not in locations_df['Comarca'] else x)"
   ]
  },
  {
   "cell_type": "markdown",
   "metadata": {},
   "source": [
    "## Save"
   ]
  },
  {
   "cell_type": "code",
   "execution_count": null,
   "metadata": {},
   "outputs": [],
   "source": [
    "data.drop(['PAGO_prep','OTROS_prep'],axis=1).to_csv(Path(config['input_path']) / 'pagesos_clean.csv', index=False)"
   ]
  }
 ],
 "metadata": {
  "kernelspec": {
   "display_name": "Python 3",
   "language": "python",
   "name": "python3"
  },
  "language_info": {
   "codemirror_mode": {
    "name": "ipython",
    "version": 3
   },
   "file_extension": ".py",
   "mimetype": "text/x-python",
   "name": "python",
   "nbconvert_exporter": "python",
   "pygments_lexer": "ipython3",
   "version": "3.6.9"
  }
 },
 "nbformat": 4,
 "nbformat_minor": 4
}

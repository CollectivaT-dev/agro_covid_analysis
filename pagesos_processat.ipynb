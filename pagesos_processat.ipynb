{
 "cells": [
  {
   "cell_type": "code",
   "execution_count": 1,
   "metadata": {},
   "outputs": [],
   "source": [
    "from pathlib import Path # reads paths in the current OS\n",
    "import pandas as pd\n",
    "import numpy as np\n",
    "import utils as ut\n",
    "import yaml\n",
    "import json"
   ]
  },
  {
   "cell_type": "markdown",
   "metadata": {},
   "source": [
    "## Reading"
   ]
  },
  {
   "cell_type": "code",
   "execution_count": 2,
   "metadata": {},
   "outputs": [
    {
     "name": "stdout",
     "output_type": "stream",
     "text": [
      "(374, 14)\n"
     ]
    },
    {
     "data": {
      "text/html": [
       "<div>\n",
       "<style scoped>\n",
       "    .dataframe tbody tr th:only-of-type {\n",
       "        vertical-align: middle;\n",
       "    }\n",
       "\n",
       "    .dataframe tbody tr th {\n",
       "        vertical-align: top;\n",
       "    }\n",
       "\n",
       "    .dataframe thead th {\n",
       "        text-align: right;\n",
       "    }\n",
       "</style>\n",
       "<table border=\"1\" class=\"dataframe\">\n",
       "  <thead>\n",
       "    <tr style=\"text-align: right;\">\n",
       "      <th></th>\n",
       "      <th>URL</th>\n",
       "      <th>PRODUCTOR</th>\n",
       "      <th>MARCA</th>\n",
       "      <th>MUNICIPIO</th>\n",
       "      <th>DONDE</th>\n",
       "      <th>PRODUCTOS</th>\n",
       "      <th>OTROS</th>\n",
       "      <th>PAGO</th>\n",
       "      <th>INFO</th>\n",
       "      <th>VERDURA</th>\n",
       "      <th>NOTAS</th>\n",
       "      <th>FRUTA</th>\n",
       "      <th>CARNE</th>\n",
       "      <th>FLORES</th>\n",
       "    </tr>\n",
       "  </thead>\n",
       "  <tbody>\n",
       "    <tr>\n",
       "      <th>piteus-vins-vermuts-i-cava</th>\n",
       "      <td>https://pagesiaacasa.cat/productor/piteus-vins...</td>\n",
       "      <td>PITEUS vins, vermuts i cava</td>\n",
       "      <td>PITEUS</td>\n",
       "      <td>Corbera del Llobregat (Baix Llobregat)</td>\n",
       "      <td>Alt Camp, Alt Empordà, Alt Penedès, Alt Urgell...</td>\n",
       "      <td></td>\n",
       "      <td>Vi</td>\n",
       "      <td>Efectiu, Transferència prèvia, Targeta</td>\n",
       "      <td></td>\n",
       "      <td></td>\n",
       "      <td></td>\n",
       "      <td></td>\n",
       "      <td></td>\n",
       "      <td></td>\n",
       "    </tr>\n",
       "    <tr>\n",
       "      <th>jordi-riera-flores</th>\n",
       "      <td>https://pagesiaacasa.cat/productor/jordi-riera...</td>\n",
       "      <td>Jordi Riera Flores</td>\n",
       "      <td>Molí de Rué</td>\n",
       "      <td>Vinebre (Ribera d’Ebre)</td>\n",
       "      <td>Alt Camp, Alt Empordà, Alt Penedès, Alt Urgell...</td>\n",
       "      <td></td>\n",
       "      <td>Oli, Vi i caves</td>\n",
       "      <td>Efectiu, Bizum, Transferència prèvia, Targeta</td>\n",
       "      <td>&lt;p&gt;Vins DOP Tarragona&lt;/p&gt;</td>\n",
       "      <td></td>\n",
       "      <td></td>\n",
       "      <td></td>\n",
       "      <td></td>\n",
       "      <td></td>\n",
       "    </tr>\n",
       "    <tr>\n",
       "      <th>agusti-segranyes-i-carulla</th>\n",
       "      <td>https://pagesiaacasa.cat/productor/agusti-segr...</td>\n",
       "      <td>Agustí Segranyes i Carulla (Producció ecològica)</td>\n",
       "      <td>La Cabana d'Alcover SL</td>\n",
       "      <td>Ponts (Noguera)</td>\n",
       "      <td>Alt Camp, Alt Empordà, Alt Penedès, Alt Urgell...</td>\n",
       "      <td></td>\n",
       "      <td>Oli</td>\n",
       "      <td>Efectiu, Transferència prèvia</td>\n",
       "      <td></td>\n",
       "      <td></td>\n",
       "      <td></td>\n",
       "      <td></td>\n",
       "      <td></td>\n",
       "      <td></td>\n",
       "    </tr>\n",
       "    <tr>\n",
       "      <th>pilar-comes</th>\n",
       "      <td>https://pagesiaacasa.cat/productor/pilar-comes</td>\n",
       "      <td>Pilar Comes (Producció ecològica)</td>\n",
       "      <td>PARC DE LES OLORS DEL SERRAT</td>\n",
       "      <td>SANTA EULÀLIA DE RONÇANA (Vallès Oriental)</td>\n",
       "      <td>Alt Camp, Alt Empordà, Alt Penedès, Alt Urgell...</td>\n",
       "      <td></td>\n",
       "      <td>Herbes Aromàtiques</td>\n",
       "      <td>Transferència prèvia</td>\n",
       "      <td></td>\n",
       "      <td>Bledes, Calçots, Carxofes, Enciams, Escaroles,...</td>\n",
       "      <td>*Disponibilitat segons temporada</td>\n",
       "      <td></td>\n",
       "      <td></td>\n",
       "      <td></td>\n",
       "    </tr>\n",
       "    <tr>\n",
       "      <th>sergi-martin-garcia</th>\n",
       "      <td>https://pagesiaacasa.cat/productor/sergi-marti...</td>\n",
       "      <td>Sergi Martín García (Producció integrada)</td>\n",
       "      <td>COLLITA DE L'AVI PIÀ</td>\n",
       "      <td>Valls (Alt Camp)</td>\n",
       "      <td>Alt Camp, Alt Empordà, Alt Penedès, Alt Urgell...</td>\n",
       "      <td></td>\n",
       "      <td>Oli</td>\n",
       "      <td>Efectiu, Bizum, Transferència prèvia, Targeta</td>\n",
       "      <td></td>\n",
       "      <td>Cebes, Tomàquets</td>\n",
       "      <td>*Disponibilitat segons temporada</td>\n",
       "      <td></td>\n",
       "      <td></td>\n",
       "      <td></td>\n",
       "    </tr>\n",
       "  </tbody>\n",
       "</table>\n",
       "</div>"
      ],
      "text/plain": [
       "                                                                          URL  \\\n",
       "piteus-vins-vermuts-i-cava  https://pagesiaacasa.cat/productor/piteus-vins...   \n",
       "jordi-riera-flores          https://pagesiaacasa.cat/productor/jordi-riera...   \n",
       "agusti-segranyes-i-carulla  https://pagesiaacasa.cat/productor/agusti-segr...   \n",
       "pilar-comes                    https://pagesiaacasa.cat/productor/pilar-comes   \n",
       "sergi-martin-garcia         https://pagesiaacasa.cat/productor/sergi-marti...   \n",
       "\n",
       "                                                                   PRODUCTOR  \\\n",
       "piteus-vins-vermuts-i-cava                       PITEUS vins, vermuts i cava   \n",
       "jordi-riera-flores                                        Jordi Riera Flores   \n",
       "agusti-segranyes-i-carulla  Agustí Segranyes i Carulla (Producció ecològica)   \n",
       "pilar-comes                                Pilar Comes (Producció ecològica)   \n",
       "sergi-martin-garcia                Sergi Martín García (Producció integrada)   \n",
       "\n",
       "                                                   MARCA  \\\n",
       "piteus-vins-vermuts-i-cava                        PITEUS   \n",
       "jordi-riera-flores                           Molí de Rué   \n",
       "agusti-segranyes-i-carulla        La Cabana d'Alcover SL   \n",
       "pilar-comes                 PARC DE LES OLORS DEL SERRAT   \n",
       "sergi-martin-garcia                 COLLITA DE L'AVI PIÀ   \n",
       "\n",
       "                                                             MUNICIPIO  \\\n",
       "piteus-vins-vermuts-i-cava      Corbera del Llobregat (Baix Llobregat)   \n",
       "jordi-riera-flores                             Vinebre (Ribera d’Ebre)   \n",
       "agusti-segranyes-i-carulla                             Ponts (Noguera)   \n",
       "pilar-comes                 SANTA EULÀLIA DE RONÇANA (Vallès Oriental)   \n",
       "sergi-martin-garcia                                   Valls (Alt Camp)   \n",
       "\n",
       "                                                                        DONDE  \\\n",
       "piteus-vins-vermuts-i-cava  Alt Camp, Alt Empordà, Alt Penedès, Alt Urgell...   \n",
       "jordi-riera-flores          Alt Camp, Alt Empordà, Alt Penedès, Alt Urgell...   \n",
       "agusti-segranyes-i-carulla  Alt Camp, Alt Empordà, Alt Penedès, Alt Urgell...   \n",
       "pilar-comes                 Alt Camp, Alt Empordà, Alt Penedès, Alt Urgell...   \n",
       "sergi-martin-garcia         Alt Camp, Alt Empordà, Alt Penedès, Alt Urgell...   \n",
       "\n",
       "                           PRODUCTOS               OTROS  \\\n",
       "piteus-vins-vermuts-i-cava                            Vi   \n",
       "jordi-riera-flores                       Oli, Vi i caves   \n",
       "agusti-segranyes-i-carulla                           Oli   \n",
       "pilar-comes                           Herbes Aromàtiques   \n",
       "sergi-martin-garcia                                  Oli   \n",
       "\n",
       "                                                                     PAGO  \\\n",
       "piteus-vins-vermuts-i-cava         Efectiu, Transferència prèvia, Targeta   \n",
       "jordi-riera-flores          Efectiu, Bizum, Transferència prèvia, Targeta   \n",
       "agusti-segranyes-i-carulla                  Efectiu, Transferència prèvia   \n",
       "pilar-comes                                          Transferència prèvia   \n",
       "sergi-martin-garcia         Efectiu, Bizum, Transferència prèvia, Targeta   \n",
       "\n",
       "                                                 INFO  \\\n",
       "piteus-vins-vermuts-i-cava                              \n",
       "jordi-riera-flores          <p>Vins DOP Tarragona</p>   \n",
       "agusti-segranyes-i-carulla                              \n",
       "pilar-comes                                             \n",
       "sergi-martin-garcia                                     \n",
       "\n",
       "                                                                      VERDURA  \\\n",
       "piteus-vins-vermuts-i-cava                                                      \n",
       "jordi-riera-flores                                                              \n",
       "agusti-segranyes-i-carulla                                                      \n",
       "pilar-comes                 Bledes, Calçots, Carxofes, Enciams, Escaroles,...   \n",
       "sergi-martin-garcia                                          Cebes, Tomàquets   \n",
       "\n",
       "                                                       NOTAS FRUTA CARNE  \\\n",
       "piteus-vins-vermuts-i-cava                                                 \n",
       "jordi-riera-flores                                                         \n",
       "agusti-segranyes-i-carulla                                                 \n",
       "pilar-comes                 *Disponibilitat segons temporada               \n",
       "sergi-martin-garcia         *Disponibilitat segons temporada               \n",
       "\n",
       "                           FLORES  \n",
       "piteus-vins-vermuts-i-cava         \n",
       "jordi-riera-flores                 \n",
       "agusti-segranyes-i-carulla         \n",
       "pilar-comes                        \n",
       "sergi-martin-garcia                "
      ]
     },
     "execution_count": 2,
     "metadata": {},
     "output_type": "execute_result"
    }
   ],
   "source": [
    "with open(Path('conf') / 'paths.yaml') as file:\n",
    "    config = yaml.full_load(file)\n",
    "with open(Path('conf') / 'product_list.yaml') as file:\n",
    "    product_cat = yaml.full_load(file)\n",
    "with open(Path('conf') / 'payment_list.yaml') as file:\n",
    "    payment_cat = yaml.full_load(file)\n",
    "\n",
    "data         = pd.read_json(Path(config['input_path']) / 'db_mesinfo.json', orient='index').fillna('')\n",
    "locations_df = pd.read_csv(Path(config['input_path']) / 'municipis_merge.csv').fillna('')\n",
    "\n",
    "print(data.shape)\n",
    "\n",
    "data.rename(columns={'url':'URL', \n",
    "                     'Nom de la persona productora:':'PRODUCTOR', \n",
    "                     'Marca:':'MARCA', \n",
    "                     'Municipi:':'MUNICIPIO',  \n",
    "                     'On serveix:':'DONDE', \n",
    "                     'Productes disponibles:':'PRODUCTOS', \n",
    "                     'Altres productes alimentaris:':'OTROS',\n",
    "                     'Possibilitats pagament:': 'PAGO', \n",
    "                     'Fruita*:':'FRUTA', \n",
    "                     '*':'NOTAS', \n",
    "                     'Més informació:':'INFO', \n",
    "                     'Carn:':'CARNE', \n",
    "                     'Verdura*:': 'VERDURA', \n",
    "                     'Flor i planta ornamental:':'FLORES'}, inplace=True)\n",
    "\n",
    "data.head()"
   ]
  },
  {
   "cell_type": "code",
   "execution_count": 3,
   "metadata": {},
   "outputs": [],
   "source": [
    "stopwords = ut.get_all_stopwords()"
   ]
  },
  {
   "cell_type": "markdown",
   "metadata": {},
   "source": [
    "## Pre-process columns"
   ]
  },
  {
   "cell_type": "code",
   "execution_count": 4,
   "metadata": {},
   "outputs": [],
   "source": [
    "ut.run_preprocess_on_cols(data,['OTROS', 'PAGO'],stopwords)"
   ]
  },
  {
   "cell_type": "markdown",
   "metadata": {},
   "source": [
    "## New columns"
   ]
  },
  {
   "cell_type": "markdown",
   "metadata": {},
   "source": [
    "### Binary varibles"
   ]
  },
  {
   "cell_type": "code",
   "execution_count": 5,
   "metadata": {},
   "outputs": [],
   "source": [
    "# create binary variables representing whether they have a payment method or not\n",
    "ut.create_binary_var(data,payment_cat,'PAGO'+'_prep')\n",
    "# create binary variables representing whether they have a type of product or not\n",
    "ut.create_binary_var(data,product_cat,'OTROS'+'_prep')\n",
    "\n",
    "## Updating the columns vegetables, fruit, meat and flowers, \n",
    "## since in this dataset are informed in different fields (and not in the main one OTROS)\n",
    "data.loc[data.VERDURA != '', 'vegetables']=1\n",
    "data.loc[data.FRUTA != '', 'fruit']=1\n",
    "data.loc[data.CARNE != '', 'meat']=1\n",
    "data.loc[data.FLORES != '', 'flowers']=1"
   ]
  },
  {
   "cell_type": "code",
   "execution_count": 6,
   "metadata": {},
   "outputs": [],
   "source": [
    "#data.columns\n",
    "#data[['OTROS','VERDURA', 'CARNE', 'FRUTA','vegetables','meat','fruit','charcuterie','fruit_veggies_products', 'bread_pastries', 'alcohol']].head(10)"
   ]
  },
  {
   "cell_type": "markdown",
   "metadata": {},
   "source": [
    "### Numerical cols"
   ]
  },
  {
   "cell_type": "code",
   "execution_count": 7,
   "metadata": {},
   "outputs": [],
   "source": [
    "data = ut.add_numerical_cols(data)\n",
    "\n",
    "## 42 comarcas en total:   \n",
    "    \n",
    "#Alt Camp, Alt Empordà, Alt Penedès, Alt Urgell, Alta Ribagorça, \n",
    "#Anoia, Bages,Baix Camp, Baix Ebre, Baix Empordà,\n",
    "#Baix Llobregat, Baix Penedès, Barcelonès, Berguedà, Cerdanya, \n",
    "#Conca de Barberà, Garraf, Garrigues, Garrotxa, Gironès,\n",
    "#Maresme, Moianès, Montsià, Noguera, Osona / Lluçanès, \n",
    "#Pallars Jussà, Pallars Sobirà, Pla d'Urgell, Pla de l'Estany, Priorat, \n",
    "#Ribera d'Ebre, Ripollès, Segarra, Segrià, Selva,\n",
    "#Solsonès, Tarragonès, Terra Alta, Urgell, Vall d'Aran, \n",
    "#Vallès Occidental,  Vallès Oriental\n",
    "\n",
    "##NB: Hay algunos casos donde hay 41 comarcas, más tarde los consideremos como toda cataluña"
   ]
  },
  {
   "cell_type": "markdown",
   "metadata": {},
   "source": [
    "### Comarca of origin (i.e. of the producer)"
   ]
  },
  {
   "cell_type": "code",
   "execution_count": 8,
   "metadata": {},
   "outputs": [],
   "source": [
    "# Dictionary to translate municipis to comarca\n",
    "mun_to_com_dict = locations_df[locations_df['Municipi']!=''].set_index('Municipi')['Comarca'].to_dict()"
   ]
  },
  {
   "cell_type": "code",
   "execution_count": 9,
   "metadata": {},
   "outputs": [
    {
     "name": "stdout",
     "output_type": "stream",
     "text": [
      "Not found: \n"
     ]
    }
   ],
   "source": [
    "data['comarca_origin'] = data['MUNICIPIO'].str.split(')').str.get(-2).str.split('(').str.get(1).fillna('')\n",
    "\n",
    "data['comarca_origin'] = data['comarca_origin'].apply(lambda x: ut.check_comarca_spelling(\n",
    "    x,locations_df['Comarca'],stopwords) if x not in locations_df['Comarca'] else x)"
   ]
  },
  {
   "cell_type": "code",
   "execution_count": 10,
   "metadata": {},
   "outputs": [],
   "source": [
    "#data.loc[data.CARNE.isna(), ['PRODUCTOR', 'MUNICIPIO','CARNE', 'FRUTA', 'VERDURA', 'OTROS']]\n",
    "#data.loc[data.CARNE.isna() & data.FRUTA.isna() & data.VERDURA.isna() & data.OTROS.isna(), ['PRODUCTOR', 'MUNICIPIO','INFO','CARNE', 'FRUTA', 'VERDURA', 'OTROS']]\n",
    "##7 prodctores no tienen ni carne, ni fruta, ni verdura ni otros productos\n",
    "\n",
    "#data.loc[data.PRODUCTOR.str.contains('ANA GAYOSO')] #venden shampoo etc. (lo dice en INFO_EXTRA)\n",
    "#data[data.INFO.notna()].shape ## 177 (197 no tienen info)\n",
    "##data.loc[data.INFO.notna(), ['PRODUCTOR', 'MUNICIPIO','INFO','CARNE', 'FRUTA', 'VERDURA', 'OTROS']]\n",
    "\n",
    "#data.INFO.unique()\n",
    "#data.groupby(['INFO']).agg({'PRODUCTOR': ['count']})\n",
    "#data.INFO.head(10)"
   ]
  },
  {
   "cell_type": "code",
   "execution_count": 11,
   "metadata": {},
   "outputs": [],
   "source": [
    "data.drop(['PAGO_prep','OTROS_prep'],axis=1).to_csv(Path(config['input_path']) / 'pagesos_clean.csv', index=False)\n",
    "##data.to_csv(Path(config['input_path']) / 'pagesos_clean.csv', index=False)\n",
    "#print(data.columns)"
   ]
  }
 ],
 "metadata": {
  "kernelspec": {
   "display_name": "Python 3",
   "language": "python",
   "name": "python3"
  },
  "language_info": {
   "codemirror_mode": {
    "name": "ipython",
    "version": 3
   },
   "file_extension": ".py",
   "mimetype": "text/x-python",
   "name": "python",
   "nbconvert_exporter": "python",
   "pygments_lexer": "ipython3",
   "version": "3.7.7"
  }
 },
 "nbformat": 4,
 "nbformat_minor": 4
}

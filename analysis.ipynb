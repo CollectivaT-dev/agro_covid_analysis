{
 "cells": [
  {
   "cell_type": "markdown",
   "metadata": {},
   "source": [
    "## Imports"
   ]
  },
  {
   "cell_type": "code",
   "execution_count": 1,
   "metadata": {},
   "outputs": [],
   "source": [
    "from pathlib import Path # reads paths in the current OS\n",
    "import pandas as pd\n",
    "import numpy as np\n",
    "import yaml\n",
    "import utils as ut\n",
    "import plot_utils as pu\n",
    "import matplotlib.pyplot as plt\n",
    "from PIL import Image"
   ]
  },
  {
   "cell_type": "markdown",
   "metadata": {},
   "source": [
    "## Reading"
   ]
  },
  {
   "cell_type": "code",
   "execution_count": 2,
   "metadata": {},
   "outputs": [],
   "source": [
    "with open(Path('conf') / 'paths.yaml') as file:\n",
    "    config = yaml.full_load(file)\n",
    "\n",
    "data = pd.read_csv(Path(config['input_path']) / \"all_data.csv\", sep=\",\").fillna('')\n",
    "locations_df = pd.read_csv(Path(config['input_path']) /  'municipis_merge.csv').fillna('')"
   ]
  },
  {
   "cell_type": "code",
   "execution_count": 3,
   "metadata": {},
   "outputs": [
    {
     "data": {
      "text/plain": [
       "(540, 36)"
      ]
     },
     "execution_count": 3,
     "metadata": {},
     "output_type": "execute_result"
    }
   ],
   "source": [
    "data.shape"
   ]
  },
  {
   "cell_type": "code",
   "execution_count": 4,
   "metadata": {},
   "outputs": [],
   "source": [
    "vdp = pd.read_csv(Path(config['input_path']\n",
    "                           ) / 'vdp_clean.csv').fillna('')"
   ]
  },
  {
   "cell_type": "markdown",
   "metadata": {},
   "source": [
    "## Pre-process"
   ]
  },
  {
   "cell_type": "code",
   "execution_count": 5,
   "metadata": {},
   "outputs": [],
   "source": [
    "data = data.merge(locations_df[['Comarca','Provincia']].drop_duplicates(), \n",
    "                  left_on = 'comarca_origin',right_on='Comarca',how='left')"
   ]
  },
  {
   "cell_type": "code",
   "execution_count": 6,
   "metadata": {},
   "outputs": [],
   "source": [
    "data['comarca_origin'] = data['comarca_origin'].str.replace(r'^Urgell','Baix Urgell')"
   ]
  },
  {
   "cell_type": "code",
   "execution_count": null,
   "metadata": {},
   "outputs": [],
   "source": [
    "# it takes a minute\n",
    "com_coord = ut.get_comarca_coords(data)"
   ]
  },
  {
   "cell_type": "code",
   "execution_count": null,
   "metadata": {},
   "outputs": [],
   "source": [
    "aux_text = {'total':'en total',\n",
    "            'n_abastiment':'abastiment',\n",
    "            'n_pagesos':'pagesos',\n",
    "            'vegetables':'de verdures',\n",
    "           'fruit':'de fruita',\n",
    "           'meat':'de carn',\n",
    "           'iseco':'ecos',\n",
    "           'n_comarcas_delivery':'comarques amb enviament'}\n",
    "max_size = 40"
   ]
  },
  {
   "cell_type": "code",
   "execution_count": null,
   "metadata": {},
   "outputs": [],
   "source": [
    "n_columns = ['n_main_prod','n_other_prod','n_tot_prod','n_paym_methods','n_comarcas_delivery']"
   ]
  },
  {
   "cell_type": "markdown",
   "metadata": {},
   "source": [
    "## Abastiment + pagesos producers in Venta de Proximitat dataset"
   ]
  },
  {
   "cell_type": "code",
   "execution_count": null,
   "metadata": {},
   "outputs": [],
   "source": [
    "ds_intersection = data[data.marca_vdp != '']\n",
    "ds_intersection.shape"
   ]
  },
  {
   "cell_type": "code",
   "execution_count": null,
   "metadata": {},
   "outputs": [],
   "source": [
    "# plot n not percentages\n",
    "cat = Image.open(Path(config['input_path'])\n",
    "                 /'catalunya3.png')\n",
    "x_low,x_up = 0.18,3.3\n",
    "y_low,y_up = 40.5,42.9"
   ]
  },
  {
   "cell_type": "markdown",
   "metadata": {},
   "source": [
    "## Comparing abastiment+pagesos and venta de proximitat"
   ]
  },
  {
   "cell_type": "code",
   "execution_count": null,
   "metadata": {
    "scrolled": false
   },
   "outputs": [],
   "source": [
    "n_columns_red = ['n_main_prod','n_other_prod','n_tot_prod']\n",
    "aux_text_red = {'total':'en total',\n",
    "            'vegetables':'de verdures',\n",
    "           'fruit':'de fruita',\n",
    "           'meat':'de carn'}\n",
    "to_plot_vdp = ut.dataset_to_plot(vdp,vdp,com_coord,n_columns_red,multiple_origins=False)\n",
    "to_plot = ut.dataset_to_plot(data,vdp,com_coord,n_columns,multiple_origins=True)\n",
    "\n",
    "for col,txt in aux_text_red.items():\n",
    "    #max_value = max(to_plot_vdp[col].max(),to_plot[col].max())\n",
    "    fig = pu.plot_map_comarca_points(to_plot,cat,col,txt,max_size,to_plot[col].max(),\n",
    "                                     x_low,x_up,y_low,y_up,txt.replace('en ','').replace('de ', '').title())\n",
    "    pu.add_trace_plot(fig,to_plot_vdp,col,txt,max_size,to_plot_vdp[col].max(),\n",
    "                      '#022d63',series_name='Venda de proximitat')\n",
    "    name = config['input_path'] + \"/out/\" + \"comparacio_vdp+covid_map_\"+col+\".html\"\n",
    "    fig.write_html(name)\n",
    "    \n",
    "    fig.show()"
   ]
  },
  {
   "cell_type": "markdown",
   "metadata": {},
   "source": [
    "## Noves altes: Abastiment + Pagesos data compared to VdP"
   ]
  },
  {
   "cell_type": "code",
   "execution_count": null,
   "metadata": {},
   "outputs": [],
   "source": [
    "#not in Venta de Proximitat\n",
    "data_new    = data[data.marca_vdp == '']\n",
    "to_plot = ut.dataset_to_plot(data_new,vdp,com_coord,n_columns,multiple_origins=True)"
   ]
  },
  {
   "cell_type": "code",
   "execution_count": null,
   "metadata": {},
   "outputs": [],
   "source": [
    "title_name = 'Noves altes per comarca a venta de proximitat degut a la crisi del Covid-19'\n",
    "fig = pu.create_figure()\n",
    "fig = pu.add_trace_text_plot(fig,to_plot,'pctge_new','nous',max_size,to_plot['pctge_new'].max(),'#63022d')\n",
    "fig = pu.plot_layout(fig,cat,x_low,x_up,y_low,y_up,title_name)\n",
    "fig.write_image(\"noves_altes_comarca_mapa.png\")\n",
    "fig.write_image(\"noves_altes_comarca_mapa.pdf\")\n",
    "fig.show()"
   ]
  },
  {
   "cell_type": "code",
   "execution_count": null,
   "metadata": {},
   "outputs": [],
   "source": [
    "title_name = 'Noves altes per comarca a venta de proximitat degut a la crisi del Covid-19'\n",
    "fig = pu.create_figure()\n",
    "fig = pu.add_trace_text_plot(fig,to_plot,'total','nous',max_size,to_plot['total'].max(),'#63022d')\n",
    "fig = pu.plot_layout(fig,cat,x_low,x_up,y_low,y_up,title_name)\n",
    "fig.write_image(\"num_noves_altes_comarca_mapa.png\")\n",
    "fig.write_image(\"num_noves_altes_comarca_mapa.pdf\")\n",
    "fig.show()"
   ]
  },
  {
   "cell_type": "markdown",
   "metadata": {},
   "source": [
    "## Abastiment + Pagesos data"
   ]
  },
  {
   "cell_type": "code",
   "execution_count": null,
   "metadata": {},
   "outputs": [],
   "source": [
    "to_plot = ut.dataset_to_plot(data,vdp,com_coord,n_columns,multiple_origins=True)"
   ]
  },
  {
   "cell_type": "code",
   "execution_count": null,
   "metadata": {
    "scrolled": false
   },
   "outputs": [],
   "source": [
    "# plot n not percentages\n",
    "cat = Image.open(Path(config['input_path']) /'catalunya3.png')\n",
    "x_low,x_up = 0.18,3.3\n",
    "y_low,y_up = 40.5,42.9\n",
    "\n",
    "\n",
    "for col,txt in aux_text.items():\n",
    "    fig = pu.plot_map_comarca_points(to_plot,cat,col,txt,max_size,to_plot[col].max(),\n",
    "                                     x_low,x_up,y_low,y_up,txt.replace('en ','').replace('de ', '').title())\n",
    "    name = config['input_path'] + \"/out/\" + \"abastiment+pagesos_map_\"+col+\".html\"\n",
    "    fig.write_html(name)\n",
    "    fig.show()"
   ]
  },
  {
   "cell_type": "markdown",
   "metadata": {},
   "source": [
    "## Plots separating dataset origin"
   ]
  },
  {
   "cell_type": "markdown",
   "metadata": {},
   "source": [
    "### Related to columns with counts"
   ]
  },
  {
   "cell_type": "code",
   "execution_count": null,
   "metadata": {
    "scrolled": false
   },
   "outputs": [],
   "source": [
    "aux_text = {'n_tot_prod':'Mitja productes totals',\n",
    "           'n_other_prod':'Mitja productes no principals',\n",
    "           'n_main_prod':'Mitja productes principals',\n",
    "            'n_paym_methods':'Mitja métodes de pagament'}\n",
    "for col,txt in aux_text.items():\n",
    "    fig = pu.bar_perc_separate_datasets(data, col, txt)\n",
    "    name = config['input_path'] + \"/out/\" + \"abastiment+pagesos_bar_\"+col+\".html\"\n",
    "    fig.write_html(name)\n",
    "    fig.show()"
   ]
  },
  {
   "cell_type": "code",
   "execution_count": null,
   "metadata": {},
   "outputs": [],
   "source": [
    "pagament = {\n",
    "    'paym_card':'Targeta',\n",
    "    'paym_cash':'Efectiu',\n",
    "    'paym_bizum':'Bizum',\n",
    "    'paym_trans':'Tranferència',\n",
    "    'card+cash': 'Efectiu + targeta',\n",
    "    'trans+cash': 'Efectiu + tranferència',\n",
    "    'card+trans': 'Transferència + targeta',\n",
    "    'card+bizum': 'Targeta + Bizum',\n",
    "    'cash+bizum': 'Efectiu + Bizum',\n",
    "    'trans+bizum':'Tranferència + Bizum'\n",
    "}"
   ]
  },
  {
   "cell_type": "code",
   "execution_count": null,
   "metadata": {},
   "outputs": [],
   "source": [
    "data = ut.add_payment_types(data,pagament)"
   ]
  },
  {
   "cell_type": "code",
   "execution_count": null,
   "metadata": {},
   "outputs": [],
   "source": [
    "ab_gb,pag_gb = ut.pagament_prep(data,pagament)\n",
    "fig = pu.bar_payment_type(pag_gb,ab_gb)\n",
    "fig.show()"
   ]
  },
  {
   "cell_type": "markdown",
   "metadata": {},
   "source": [
    "### Related to other products with some filters"
   ]
  },
  {
   "cell_type": "code",
   "execution_count": null,
   "metadata": {},
   "outputs": [],
   "source": [
    "'''pu.bar_perc_separate_datasets(data[(data.n_main_prod==0) & (data.n_tot_prod>0)],\n",
    "                         'n_other_prod',aux_text['n_other_prod'])\n",
    "pu.bar_perc_separate_datasets(data[(data.n_main_prod==1)],'n_other_prod',aux_text['n_other_prod'])\n",
    "pu.bar_perc_separate_datasets(data[(data.n_main_prod>=2)],'n_other_prod',aux_text['n_other_prod'])'''"
   ]
  },
  {
   "cell_type": "markdown",
   "metadata": {},
   "source": [
    "Quan no venen productes principals, la majoria venen únicament un producte (no principal).\n",
    "\n",
    "Quan venen un producte principal, la majoria no venen altre tipus de producte.\n",
    "\n",
    "Quan venen més d'un producte principal, acostumen a vendre més tipus de productes."
   ]
  },
  {
   "cell_type": "code",
   "execution_count": null,
   "metadata": {},
   "outputs": [],
   "source": []
  }
 ],
 "metadata": {
  "kernelspec": {
   "display_name": "dadess",
   "language": "python",
   "name": "dadess"
  },
  "language_info": {
   "codemirror_mode": {
    "name": "ipython",
    "version": 3
   },
   "file_extension": ".py",
   "mimetype": "text/x-python",
   "name": "python",
   "nbconvert_exporter": "python",
   "pygments_lexer": "ipython3",
   "version": "3.7.7"
  }
 },
 "nbformat": 4,
 "nbformat_minor": 4
}

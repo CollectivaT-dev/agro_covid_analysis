{
 "cells": [
  {
   "cell_type": "markdown",
   "metadata": {},
   "source": [
    "## Imports"
   ]
  },
  {
   "cell_type": "code",
   "execution_count": 1,
   "metadata": {},
   "outputs": [],
   "source": [
    "from pathlib import Path # reads paths in the current OS\n",
    "import pandas as pd\n",
    "import numpy as np\n",
    "import yaml\n",
    "import matplotlib.pyplot as plt\n",
    "import plot_utils as pu\n",
    "import preprocess as prep"
   ]
  },
  {
   "cell_type": "code",
   "execution_count": 2,
   "metadata": {},
   "outputs": [
    {
     "name": "stdout",
     "output_type": "stream",
     "text": [
      "It looks like you have all the necessary files for the analysis.\n",
      "Do you want to execute the process anyway and update them? (y = yes, n = no): y\n",
      "Reading the initial files\n",
      "Getting \"comarca\" column ready for each file\n",
      "\tComarca not found: Repartim al Bages, Solsonès, Barcelonès i Berguedà\n",
      "Pre-processing columns\n",
      "Add new columns to the datasets\n",
      "Find the duplicates in the datasets and merging the data\n",
      "\t Partial match: BdeGust Beer Cervesa Compromesa vs. BdeGust Cervesa Compromesa . Match ratio: 91 , partial ratio: 81\n",
      "\t Partial match: BIOGRASSFEED vs. Biograssfed . Match ratio: 96 , partial ratio: 91\n",
      "\t Partial match: Tomating vs. Tomàting . Match ratio: 88 , partial ratio: 88\n",
      "\t Partial match: Ramaderia Ecològica ca l'Andreu vs. Ramaderia ecológica ca l’andreu . Match ratio: 94 , partial ratio: 94\n",
      "\t Partial match: L'Enllaç de l'Ebre vs. L'Enllaç de l’Ebre, SCCL . Match ratio: 79 , partial ratio: 89\n",
      "\t Partial match: (Mu)DA Vedella d'Agullana vs. MuDA. Vedella d'Agullana . Match ratio: 94 , partial ratio: 96\n",
      "\t Partial match: Granja de Montmelús vs. Granja i formatgeria de Montmelús . Match ratio: 73 , partial ratio: 84\n",
      "\t Partial match: Safra del Montsec vs. Safrà del Montsec . Match ratio: 94 , partial ratio: 94\n",
      "\t Partial match: Celler Optim vs. Celler Lo . Match ratio: 76 , partial ratio: 89\n",
      "\t Partial match: FORMATGERIA LAURA vs. Formatgeria Tiraval . Match ratio: 78 , partial ratio: 82\n",
      "\t Partial match: Cordú Fruits vs. Cor de fruita . Match ratio: 80 , partial ratio: 83\n",
      "\t Partial match: PLANESES AGRICULTIRA REGENERATIVA vs. Planeses Agricultura Regenerativa . Match ratio: 97 , partial ratio: 97\n",
      "\t Partial match: Granja Can Torrent vs. Granja can Borrell . Match ratio: 83 , partial ratio: 83\n",
      "\t Partial match: Maduixes del Maresme vs. Maduixes de Munt . Match ratio: 72 , partial ratio: 81\n",
      "\t Partial match: Can Terrades Produccio Agraria Ecològica sco vs. Can Terrades, Producció Agrària Ecològica SCP . Match ratio: 92 , partial ratio: 93\n",
      "\t Partial match: El Moli d'en Vendrell vs. El Molí D'en Vendrell . Match ratio: 95 , partial ratio: 95\n",
      "\t Matches considered non-matches:\n",
      "                    marca_inicial          MARCA\n",
      "joan-miret-bonell  Cor de fruita  Cor de fruita\n",
      "Searching matches in column: Nom productor\n",
      "\t Partial match: CAL CIGARRO, SL vs. Cal Cigarro SL . Match ratio: 97 , partial ratio: 93\n",
      "\t Partial match: CAL SERRATS, SCP vs. Cal Serrats SCP . Match ratio: 97 , partial ratio: 93\n",
      "\t Partial match: CAN GEL SCP vs. Can Gual SCP . Match ratio: 87 , partial ratio: 82\n",
      "\t Partial match: CAN GUAL, SCP vs. Can Gual SCP . Match ratio: 96 , partial ratio: 92\n",
      "\t Partial match: CAN MIMO, PASTORS I PRODUCTORS ARTESANS, S.L vs. Can Mimó, Pastors i productors artesans . Match ratio: 92 , partial ratio: 97\n",
      "\t Partial match: CAN MUNNAR CB vs. Can Munnar SC . Match ratio: 92 , partial ratio: 92\n",
      "\t Partial match: CAN TABAQUET, SCP vs. Cal Tabaquet . Match ratio: 76 , partial ratio: 92\n",
      "\t Partial match: CASA BERTRAN SCP vs. Casa Beta . Match ratio: 72 , partial ratio: 89\n",
      "\t Partial match: CELLER CEDO ANGUERA, S.L. vs. CELLER CEDÓ ANGUERA . Match ratio: 82 , partial ratio: 95\n",
      "\t Partial match: CELLER COOPERATIU GANDESA, SCCL vs. Celler Cooperatiu de Gandesa . Match ratio: 85 , partial ratio: 89\n",
      "\t Partial match: CENTRAL PARC DEL BAIX LLOBREGAT S.C.C.L. vs. Central Parc Baix Llobregat . Match ratio: 81 , partial ratio: 85\n",
      "\t Partial match: COLET VITICULTORS, SL vs. Mulet Viticultors . Match ratio: 79 , partial ratio: 88\n",
      "\t Partial match: COLLITA PRÒPIA SCP vs. Collita propia . Match ratio: 81 , partial ratio: 93\n",
      "\t Partial match: COOPERATIVA AGRÍCOLA I CA SANT ISIDRE vs. Cooperativa Agricola Sant Isidre Del Perelló . Match ratio: 77 , partial ratio: 84\n",
      "\t Partial match: EL TROS D'ORDAL, S.L. vs. El Tros dOrdal SL . Match ratio: 87 , partial ratio: 89\n",
      "\t Partial match: ESPELT VITICULTORS, SL vs. Mulet Viticultors . Match ratio: 72 , partial ratio: 82\n",
      "\t Partial match: FAMILIA ESTEVE RAFOLS, SCP vs. Família Esteve Ràfols SCP . Match ratio: 90 , partial ratio: 88\n",
      "\t Partial match: FORMATGES ARTESANS DE PONENT SCP vs. FORMATGES ARTESANS DE PONENT,S L . Match ratio: 91 , partial ratio: 91\n",
      "\t Partial match: FORMATGES ARTESANS DE PONENT, SL vs. FORMATGES ARTESANS DE PONENT,S L . Match ratio: 97 , partial ratio: 97\n",
      "\t Partial match: GRANJA EL ROCALL, S.L. vs. Granja la Roca . Match ratio: 72 , partial ratio: 93\n",
      "\t Partial match: HORT DE LA CISTELLERA, SCP vs. HORT DE CA LA CISTELLERA . Match ratio: 84 , partial ratio: 88\n",
      "\t Partial match: LA CABANA D'ALCOVER,SL vs. La Cabana d'Alcover SL . Match ratio: 95 , partial ratio: 95\n",
      "\t Partial match: M. ASSUMPTA CODINACHS RAMON FONT, CB vs. Assumpta Codinachs i Ramon Font C.B., Aixalda . Match ratio: 79 , partial ratio: 89\n",
      "\t Partial match: MEL DE CA L'ABELLAIRE, SL vs. Mel ca l'abellaire sl. . Match ratio: 89 , partial ratio: 88\n",
      "\t Partial match: RAMADERIA AULINA SL vs. Ramaderia l'Illa . Match ratio: 74 , partial ratio: 81\n",
      "\t Partial match: RAMADERIA CMC, SL vs. ramaderia Mado, scp . Match ratio: 78 , partial ratio: 82\n",
      "\t Partial match: RAMADERIA ECOLOGICA, SL vs. Ramaderia Ecològica ca l'Andreu . Match ratio: 74 , partial ratio: 83\n",
      "\t Partial match: RAMADERIA LA ILLA, SC vs. RAMADERIA LA ILLA SC . Match ratio: 98 , partial ratio: 95\n",
      "\t Partial match: RAMADERIA MADO SCP vs. ramaderia Mado, scp . Match ratio: 97 , partial ratio: 94\n",
      "\t Partial match: RAMADERIA SOLÉ, SCP vs. ramaderia Mado, scp . Match ratio: 84 , partial ratio: 84\n",
      "\t Partial match: SAT PASTURES DEL MONTSENY vs. Pollastre del Montseny . Match ratio: 81 , partial ratio: 86\n",
      "\t Partial match: VERDAGUER OLIVES, SCP vs. Verdaguer Olives scp . Match ratio: 98 , partial ratio: 95\n",
      "\t Matches considered non-matches:\n",
      "                               marca_inicial                                         MARCA\n",
      "410                             CAN GEL SCP                                  Can Gual SCP\n",
      "477                        CASA BERTRAN SCP                                     Casa Beta\n",
      "587                   COLET VITICULTORS, SL                             Mulet Viticultors\n",
      "629   COOPERATIVA AGRÍCOLA I CA SANT ISIDRE  Cooperativa Agricola Sant Isidre Del Perelló\n",
      "774                  ESPELT VITICULTORS, SL                             Mulet Viticultors\n",
      "899        FORMATGES ARTESANS DE PONENT SCP              FORMATGES ARTESANS DE PONENT,S L\n",
      "1050                 GRANJA EL ROCALL, S.L.                                Granja la Roca\n",
      "1730                    RAMADERIA AULINA SL                              Ramaderia l'Illa\n",
      "1733                      RAMADERIA CMC, SL                           ramaderia Mado, scp\n",
      "1735                RAMADERIA ECOLOGICA, SL               Ramaderia Ecològica ca l'Andreu\n",
      "1748                    RAMADERIA SOLÉ, SCP                           ramaderia Mado, scp\n",
      "1947              SAT PASTURES DEL MONTSENY                        Pollastre del Montseny\n",
      "\t =================================\n",
      "\n",
      "\n",
      "Searching matches in column: MARCA\n",
      "\t Partial match: CAL CIGARRO, SL vs. Cal Cigarro SL . Match ratio: 97 , partial ratio: 93\n",
      "\t Partial match: CAL SERRATS, SCP vs. Cal Serrats SCP . Match ratio: 97 , partial ratio: 93\n",
      "\t Partial match: CAN GEL SCP vs. Can Gual SCP . Match ratio: 87 , partial ratio: 82\n",
      "\t Partial match: CAN GUAL, SCP vs. Can Gual SCP . Match ratio: 96 , partial ratio: 92\n",
      "\t Partial match: CAN MIMO, PASTORS I PRODUCTORS ARTESANS, S.L vs. Can Mimó, Pastors i productors artesans . Match ratio: 92 , partial ratio: 97\n",
      "\t Partial match: CAN MUNNAR CB vs. Can Munnar SC . Match ratio: 92 , partial ratio: 92\n",
      "\t Partial match: CAN TABAQUET, SCP vs. Cal Tabaquet . Match ratio: 76 , partial ratio: 92\n",
      "\t Partial match: CASA BERTRAN SCP vs. Casa Beta . Match ratio: 72 , partial ratio: 89\n",
      "\t Partial match: CELLER CEDO ANGUERA, S.L. vs. CELLER CEDÓ ANGUERA . Match ratio: 82 , partial ratio: 95\n",
      "\t Partial match: CELLER COOPERATIU GANDESA, SCCL vs. Celler Cooperatiu de Gandesa . Match ratio: 85 , partial ratio: 89\n",
      "\t Partial match: CENTRAL PARC DEL BAIX LLOBREGAT S.C.C.L. vs. Central Parc Baix Llobregat . Match ratio: 81 , partial ratio: 85\n",
      "\t Partial match: COLET VITICULTORS, SL vs. Mulet Viticultors . Match ratio: 79 , partial ratio: 88\n",
      "\t Partial match: COLLITA PRÒPIA SCP vs. Collita propia . Match ratio: 81 , partial ratio: 93\n"
     ]
    },
    {
     "name": "stdout",
     "output_type": "stream",
     "text": [
      "\t Partial match: COOPERATIVA AGRÍCOLA I CA SANT ISIDRE vs. Cooperativa Agricola Sant Isidre Del Perelló . Match ratio: 77 , partial ratio: 84\n",
      "\t Partial match: EL TROS D'ORDAL, S.L. vs. El Tros dOrdal SL . Match ratio: 87 , partial ratio: 89\n",
      "\t Partial match: ESPELT VITICULTORS, SL vs. Mulet Viticultors . Match ratio: 72 , partial ratio: 82\n",
      "\t Partial match: FAMILIA ESTEVE RAFOLS, SCP vs. Família Esteve Ràfols SCP . Match ratio: 90 , partial ratio: 88\n",
      "\t Partial match: FORMATGES ARTESANS DE PONENT SCP vs. FORMATGES ARTESANS DE PONENT,S L . Match ratio: 91 , partial ratio: 91\n",
      "\t Partial match: FORMATGES ARTESANS DE PONENT, SL vs. FORMATGES ARTESANS DE PONENT,S L . Match ratio: 97 , partial ratio: 97\n",
      "\t Partial match: GRANJA EL ROCALL, S.L. vs. Granja la Roca . Match ratio: 72 , partial ratio: 93\n",
      "\t Partial match: HORT DE LA CISTELLERA, SCP vs. HORT DE CA LA CISTELLERA . Match ratio: 84 , partial ratio: 88\n",
      "\t Partial match: LA CABANA D'ALCOVER,SL vs. La Cabana d'Alcover SL . Match ratio: 95 , partial ratio: 95\n",
      "\t Partial match: M. ASSUMPTA CODINACHS RAMON FONT, CB vs. Assumpta Codinachs i Ramon Font C.B., Aixalda . Match ratio: 79 , partial ratio: 89\n",
      "\t Partial match: MEL DE CA L'ABELLAIRE, SL vs. Mel ca l'abellaire sl. . Match ratio: 89 , partial ratio: 88\n",
      "\t Partial match: RAMADERIA AULINA SL vs. Ramaderia l'Illa . Match ratio: 74 , partial ratio: 81\n",
      "\t Partial match: RAMADERIA CMC, SL vs. ramaderia Mado, scp . Match ratio: 78 , partial ratio: 82\n",
      "\t Partial match: RAMADERIA ECOLOGICA, SL vs. Ramaderia Ecològica ca l'Andreu . Match ratio: 74 , partial ratio: 83\n",
      "\t Partial match: RAMADERIA LA ILLA, SC vs. RAMADERIA LA ILLA SC . Match ratio: 98 , partial ratio: 95\n",
      "\t Partial match: RAMADERIA MADO SCP vs. ramaderia Mado, scp . Match ratio: 97 , partial ratio: 94\n",
      "\t Partial match: RAMADERIA SOLÉ, SCP vs. ramaderia Mado, scp . Match ratio: 84 , partial ratio: 84\n",
      "\t Partial match: SAT PASTURES DEL MONTSENY vs. Pollastre del Montseny . Match ratio: 81 , partial ratio: 86\n",
      "\t Partial match: VERDAGUER OLIVES, SCP vs. Verdaguer Olives scp . Match ratio: 98 , partial ratio: 95\n",
      "\t Matches considered non-matches:\n",
      "                               marca_inicial                                         MARCA\n",
      "410                             CAN GEL SCP                                  Can Gual SCP\n",
      "477                        CASA BERTRAN SCP                                     Casa Beta\n",
      "587                   COLET VITICULTORS, SL                             Mulet Viticultors\n",
      "629   COOPERATIVA AGRÍCOLA I CA SANT ISIDRE  Cooperativa Agricola Sant Isidre Del Perelló\n",
      "774                  ESPELT VITICULTORS, SL                             Mulet Viticultors\n",
      "899        FORMATGES ARTESANS DE PONENT SCP              FORMATGES ARTESANS DE PONENT,S L\n",
      "1730                    RAMADERIA AULINA SL                              Ramaderia l'Illa\n",
      "1733                      RAMADERIA CMC, SL                           ramaderia Mado, scp\n",
      "1735                RAMADERIA ECOLOGICA, SL               Ramaderia Ecològica ca l'Andreu\n",
      "1748                    RAMADERIA SOLÉ, SCP                           ramaderia Mado, scp\n",
      "1947              SAT PASTURES DEL MONTSENY                        Pollastre del Montseny\n",
      "\t =================================\n",
      "\n",
      "\n",
      "\t Number of coincidences with other datasets: 23\n",
      "Obtaining the coordinates of all the comarques\n",
      "Saving the data\n"
     ]
    }
   ],
   "source": [
    "execute = prep.check_output_files()\n",
    "if execute == 'y':\n",
    "    !python get_data_ready.py"
   ]
  },
  {
   "cell_type": "markdown",
   "metadata": {},
   "source": [
    "## Reading"
   ]
  },
  {
   "cell_type": "code",
   "execution_count": 3,
   "metadata": {},
   "outputs": [],
   "source": [
    "data, vdp, com_coord, cat = prep.read_final_data()"
   ]
  },
  {
   "cell_type": "code",
   "execution_count": null,
   "metadata": {},
   "outputs": [],
   "source": [
    "data.shape"
   ]
  },
  {
   "cell_type": "code",
   "execution_count": null,
   "metadata": {},
   "outputs": [],
   "source": [
    "aux_text = {'total':'en total',\n",
    "            'n_abastiment':'abastiment',\n",
    "            'n_pagesos':'pagesos',\n",
    "            'vegetables':'de verdures',\n",
    "           'fruit':'de fruita',\n",
    "           'meat':'de carn',\n",
    "           'iseco':'ecos',\n",
    "           'n_comarcas_delivery':'comarques amb enviament'}\n",
    "n_columns = ['n_main_prod','n_other_prod','n_tot_prod','n_paym_methods','n_comarcas_delivery']\n",
    "n_columns_red = ['n_main_prod','n_other_prod','n_tot_prod']\n",
    "aux_text_red = {'total':'en total',\n",
    "            'vegetables':'de verdures',\n",
    "           'fruit':'de fruita',\n",
    "           'meat':'de carn'}\n",
    "max_size = 40\n",
    "x_low,x_up = 0.18,3.3\n",
    "y_low,y_up = 40.5,42.9"
   ]
  },
  {
   "cell_type": "markdown",
   "metadata": {},
   "source": [
    "## Abastiment + pagesos producers in Venta de Proximitat dataset"
   ]
  },
  {
   "cell_type": "code",
   "execution_count": null,
   "metadata": {},
   "outputs": [],
   "source": [
    "ds_intersection = data[data.marca_vdp != '']\n",
    "ds_intersection.shape"
   ]
  },
  {
   "cell_type": "markdown",
   "metadata": {},
   "source": [
    "## Comparing abastiment+pagesos and venta de proximitat"
   ]
  },
  {
   "cell_type": "code",
   "execution_count": null,
   "metadata": {
    "scrolled": false
   },
   "outputs": [],
   "source": [
    "to_plot_vdp = pu.dataset_to_plot(vdp,vdp,com_coord,n_columns_red,multiple_origins=False)\n",
    "to_plot = pu.dataset_to_plot(data,vdp,com_coord,n_columns,multiple_origins=True)\n",
    "\n",
    "for col,txt in aux_text_red.items():\n",
    "    #max_value = max(to_plot_vdp[col].max(),to_plot[col].max())\n",
    "    fig = pu.plot_map_comarca_points(to_plot,cat,col,txt,max_size,to_plot[col].max(),\n",
    "                                     x_low,x_up,y_low,y_up,txt.replace('en ','').replace('de ', '').title())\n",
    "    pu.add_trace_plot(fig,to_plot_vdp,col,txt,max_size,to_plot_vdp[col].max(),\n",
    "                      '#022d63',series_name='Venda de proximitat')\n",
    "    #name = config['input_path'] + \"/out/\" + \"comparacio_vdp+covid_map_\"+col+\".html\"\n",
    "    #fig.write_html(name)\n",
    "    \n",
    "    fig.show()"
   ]
  },
  {
   "cell_type": "markdown",
   "metadata": {},
   "source": [
    "## Noves altes: Abastiment + Pagesos data compared to VdP"
   ]
  },
  {
   "cell_type": "code",
   "execution_count": null,
   "metadata": {},
   "outputs": [],
   "source": [
    "#not in Venta de Proximitat\n",
    "data_new    = data[data.marca_vdp == '']\n",
    "to_plot = pu.dataset_to_plot(data_new,vdp,com_coord,n_columns,multiple_origins=True)"
   ]
  },
  {
   "cell_type": "code",
   "execution_count": null,
   "metadata": {},
   "outputs": [],
   "source": [
    "title_name = 'Noves altes per comarca a venta de proximitat degut a la crisi del Covid-19'\n",
    "fig = pu.create_figure()\n",
    "fig = pu.add_trace_text_plot(fig,to_plot,'pctge_new','nous',max_size,to_plot['pctge_new'].max(),'#63022d')\n",
    "fig = pu.plot_layout(fig,cat,x_low,x_up,y_low,y_up,title_name)\n",
    "fig.write_image(\"noves_altes_comarca_mapa.png\")\n",
    "fig.write_image(\"noves_altes_comarca_mapa.pdf\")\n",
    "fig.show()"
   ]
  },
  {
   "cell_type": "code",
   "execution_count": null,
   "metadata": {},
   "outputs": [],
   "source": [
    "title_name = 'Noves altes per comarca a venta de proximitat degut a la crisi del Covid-19'\n",
    "fig = pu.create_figure()\n",
    "fig = pu.add_trace_text_plot(fig,to_plot,'total','nous',max_size,to_plot['total'].max(),'#63022d')\n",
    "fig = pu.plot_layout(fig,cat,x_low,x_up,y_low,y_up,title_name)\n",
    "fig.write_image(\"num_noves_altes_comarca_mapa.png\")\n",
    "fig.write_image(\"num_noves_altes_comarca_mapa.pdf\")\n",
    "fig.show()"
   ]
  },
  {
   "cell_type": "markdown",
   "metadata": {},
   "source": [
    "## Impacto por sector"
   ]
  },
  {
   "cell_type": "code",
   "execution_count": null,
   "metadata": {},
   "outputs": [],
   "source": [
    "for sector in ('HORTA','FRUITA', 'RAMADERIA','CEREALS', 'ELABORACIO'):\n",
    "\n",
    "    #only producers of the specific sector\n",
    "    data_sect=data_new[data_new['is'+sector]==1]\n",
    "    vdp_sect=vdp[vdp['is'+sector]==1]\n",
    "\n",
    "    to_plot = ut.dataset_to_plot(data_sect,vdp_sect,com_coord,n_columns,multiple_origins=True)\n",
    "\n",
    "    title_name = 'SECTOR '+sector+':\\n Noves altes per comarca a venta de proximitat degut a la crisi del Covid-19 '\n",
    "    fig = pu.create_figure()\n",
    "    fig = pu.add_trace_text_plot(fig,to_plot,'pctge_new','nous',max_size,to_plot['pctge_new'].max(),'#63022d')\n",
    "    fig = pu.plot_layout(fig,cat,x_low,x_up,y_low,y_up,title_name)\n",
    "    fig.write_image(\"noves_altes_comarca_mapa_\"+sector+\".png\")\n",
    "    fig.show()\n",
    "\n",
    "    title_name = 'SECTOR '+sector+':\\n Noves altes per comarca a venta de proximitat degut a la crisi del Covid-19'\n",
    "    fig = pu.create_figure()\n",
    "    fig = pu.add_trace_text_plot(fig,to_plot,'total','nous',max_size,to_plot['total'].max(),'#63022d')\n",
    "    fig = pu.plot_layout(fig,cat,x_low,x_up,y_low,y_up,title_name)\n",
    "    fig.write_image(\"num_noves_altes_comarca_mapa_\"+sector+\".png\")\n",
    "    fig.show()"
   ]
  },
  {
   "cell_type": "markdown",
   "metadata": {},
   "source": [
    "## Abastiment + Pagesos data"
   ]
  },
  {
   "cell_type": "code",
   "execution_count": null,
   "metadata": {},
   "outputs": [],
   "source": [
    "to_plot = pu.dataset_to_plot(data,vdp,com_coord,n_columns,multiple_origins=True)"
   ]
  },
  {
   "cell_type": "code",
   "execution_count": null,
   "metadata": {
    "scrolled": false
   },
   "outputs": [],
   "source": [
    "# plot n not percentages\n",
    "\n",
    "\n",
    "\n",
    "for col,txt in aux_text.items():\n",
    "    fig = pu.plot_map_comarca_points(to_plot,cat,col,txt,max_size,to_plot[col].max(),\n",
    "                                     x_low,x_up,y_low,y_up,txt.replace('en ','').replace('de ', '').title())\n",
    "    #name = config['input_path'] + \"/out/\" + \"abastiment+pagesos_map_\"+col+\".html\"\n",
    "    #fig.write_html(name)\n",
    "    fig.show()"
   ]
  },
  {
   "cell_type": "markdown",
   "metadata": {},
   "source": [
    "## Abastiment + Pagesos: Logistic connections"
   ]
  },
  {
   "cell_type": "code",
   "execution_count": null,
   "metadata": {},
   "outputs": [],
   "source": [
    "for subset in subset_lists.keys():\n",
    "    print('-----', subset,'subset -----')\n",
    "    dic=subset_lists[subset]\n",
    "        \n",
    "    on_fields=dic['on_fields']\n",
    "    off_fields=dic['off_fields']\n",
    "    label=subset\n",
    "    \n",
    "    if on_fields is None:\n",
    "            if off_fields is None:\n",
    "                print('There are no subset criteria defined, the whole dataset will be considered')\n",
    "                data['isSubset']=1\n",
    "            else:\n",
    "                data['isSubset']=(np.where(data[off_fields].sum(axis=1).eq(0), 1, 0))\n",
    "    else:\n",
    "            print('The sankey diagram will be produced considering only a subset of the whole dataset.')\n",
    "            print('Especifically, considering just those producers with: ', on_fields, 'on')\n",
    "            if off_fields is None:\n",
    "                n_flags_on=len(on_fields)  \n",
    "                data['isSubset']=(np.where(data[on_fields].sum(axis=1).ge(n_flags_on), 1, 0))\n",
    "            else:\n",
    "                print('and the fields: ', off_fields, 'off.')        \n",
    "                n_flags_off=len(off_fields)\n",
    "                n_flags_on=len(on_fields)  \n",
    "                data['flags_on']=(np.where(data[on_fields].sum(axis=1).ge(n_flags_on), 1, 0))\n",
    "                data['flags_off']=(np.where(data[off_fields].sum(axis=1).eq(0), 1, 0))\n",
    "                data['isSubset']=np.where(data[['flags_on', 'flags_off']].sum(axis=1).eq(2),1,0)\n",
    "                data.drop(['flags_on','flags_off'], axis=1, inplace=True) \n",
    "                   \n",
    "\n",
    "    ###-- Selecting only the desired subset of producers\n",
    "    data_sel=data[(data.isSubset==1) & (~data.comarca_origin.str.contains('NOTFOUND'))]\n",
    "    if data_sel is None:\n",
    "        print('There are no producers in the requested subset: ', subset)\n",
    "        continue\n",
    "    else:\n",
    "        print('Dimension of the subset: ', data_sel.shape)\n",
    "        flows=ut.create_df_for_sankey(data_sel)\n",
    "        flows=flows[['source', 'target', 'value']] #it's possible to chose another column as weigth,for example norm_value\n",
    "        ###https://github.com/psychemedia/parlihacks/blob/master/notebooks/MigrantFlow.ipynb)\n",
    "\n",
    "        SankeyWidget(links=flows.to_dict('records'))\n",
    "        \n",
    "        size = dict(width=870, height=1000)\n",
    "\n",
    "        nodes = {\n",
    "            'Comarcas_productoras': ProcessGroup(list(locations_df.Comarca.unique())),\n",
    "            'Comarcas_entrega': ProcessGroup(list(locations_df.Comarca.unique())),\n",
    "        }\n",
    "\n",
    "        ordering = [\n",
    "            ['Comarcas_productoras'],  # put \"Comarcas_productoras\" on the left...\n",
    "            ['Comarcas_entrega'],      # ... and \"Comarcas_entrega\" on the right.\n",
    "        ]\n",
    "\n",
    "        bundles = [\n",
    "            Bundle('Comarcas_productoras', 'Comarcas_entrega'),\n",
    "        ]\n",
    "\n",
    "        comarcas_out = Partition.Simple('process',list(locations_df.Comarca.unique()))\n",
    "        comarcas_in = Partition.Simple('process',list(locations_df.Comarca.unique()))\n",
    "\n",
    "        # Update the ProcessGroup nodes to use the partitions\n",
    "        nodes['Comarcas_productoras'].partition = comarcas_out\n",
    "        nodes['Comarcas_entrega'].partition = comarcas_in\n",
    "\n",
    "                \n",
    "        sdd = SankeyDefinition(nodes, bundles, ordering)\n",
    "\n",
    "        ## New Sankey!\n",
    "        weave(sdd, flows).to_widget(**size) \n",
    "\n",
    "        ## Saving the plot as png\n",
    "        name = config['input_path'] + \"out/\" + \"SankeyDiag_\"+label+\".png\"\n",
    "\n",
    "        print('File saved in: ', name)\n",
    "        display(weave(sdd, flows, link_color=QuantitativeScale('value'), \\\n",
    "          measures='value').to_widget(**size).auto_save_png(name))"
   ]
  },
  {
   "cell_type": "code",
   "execution_count": null,
   "metadata": {},
   "outputs": [],
   "source": []
  },
  {
   "cell_type": "markdown",
   "metadata": {},
   "source": [
    "## Plots separating dataset origin"
   ]
  },
  {
   "cell_type": "markdown",
   "metadata": {},
   "source": [
    "### Related to columns with counts"
   ]
  },
  {
   "cell_type": "code",
   "execution_count": null,
   "metadata": {
    "scrolled": false
   },
   "outputs": [],
   "source": [
    "aux_text = {'n_tot_prod':'Mitja productes totals',\n",
    "           'n_other_prod':'Mitja productes no principals',\n",
    "           'n_main_prod':'Mitja productes principals',\n",
    "            'n_paym_methods':'Mitja métodes de pagament'}\n",
    "for col,txt in aux_text.items():\n",
    "    fig = pu.bar_perc_separate_datasets(data, col, txt)\n",
    "    #name = config['input_path'] + \"/out/\" + \"abastiment+pagesos_bar_\"+col+\".html\"\n",
    "    #fig.write_html(name)\n",
    "    fig.show()"
   ]
  },
  {
   "cell_type": "code",
   "execution_count": null,
   "metadata": {},
   "outputs": [],
   "source": [
    "pagament = {\n",
    "    'targeta':'Targeta',\n",
    "    'efectiu':'Efectiu',\n",
    "    'bizum':'Bizum',\n",
    "    'transferencia previa':'Tranferència',\n",
    "    'card+cash': 'Efectiu + targeta',\n",
    "    'trans+cash': 'Efectiu + tranferència',\n",
    "    'card+trans': 'Transferència + targeta',\n",
    "    'card+bizum': 'Targeta + Bizum',\n",
    "    'cash+bizum': 'Efectiu + Bizum',\n",
    "    'trans+bizum':'Tranferència + Bizum'\n",
    "}"
   ]
  },
  {
   "cell_type": "code",
   "execution_count": null,
   "metadata": {},
   "outputs": [],
   "source": [
    "data.columns"
   ]
  },
  {
   "cell_type": "code",
   "execution_count": null,
   "metadata": {},
   "outputs": [],
   "source": [
    "ab_gb,pag_gb = pu.pagament_prep(data,pagament)\n",
    "fig = pu.bar_payment_type(pag_gb,ab_gb)\n",
    "fig.show()"
   ]
  },
  {
   "cell_type": "markdown",
   "metadata": {},
   "source": [
    "### Related to other products with some filters"
   ]
  },
  {
   "cell_type": "code",
   "execution_count": null,
   "metadata": {},
   "outputs": [],
   "source": [
    "'''pu.bar_perc_separate_datasets(data[(data.n_main_prod==0) & (data.n_tot_prod>0)],\n",
    "                         'n_other_prod',aux_text['n_other_prod'])\n",
    "pu.bar_perc_separate_datasets(data[(data.n_main_prod==1)],'n_other_prod',aux_text['n_other_prod'])\n",
    "pu.bar_perc_separate_datasets(data[(data.n_main_prod>=2)],'n_other_prod',aux_text['n_other_prod'])'''"
   ]
  },
  {
   "cell_type": "markdown",
   "metadata": {},
   "source": [
    "Quan no venen productes principals, la majoria venen únicament un producte (no principal).\n",
    "\n",
    "Quan venen un producte principal, la majoria no venen altre tipus de producte.\n",
    "\n",
    "Quan venen més d'un producte principal, acostumen a vendre més tipus de productes."
   ]
  },
  {
   "cell_type": "code",
   "execution_count": null,
   "metadata": {},
   "outputs": [],
   "source": []
  }
 ],
 "metadata": {
  "kernelspec": {
   "display_name": "dadess",
   "language": "python",
   "name": "dadess"
  },
  "language_info": {
   "codemirror_mode": {
    "name": "ipython",
    "version": 3
   },
   "file_extension": ".py",
   "mimetype": "text/x-python",
   "name": "python",
   "nbconvert_exporter": "python",
   "pygments_lexer": "ipython3",
   "version": "3.7.7"
  }
 },
 "nbformat": 4,
 "nbformat_minor": 4
}

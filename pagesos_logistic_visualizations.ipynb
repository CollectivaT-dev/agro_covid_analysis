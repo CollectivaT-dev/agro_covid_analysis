{
 "cells": [
  {
   "cell_type": "code",
   "execution_count": 1,
   "metadata": {},
   "outputs": [],
   "source": [
    "from pathlib import Path # reads paths in the current OS\n",
    "import pandas as pd\n",
    "import re\n",
    "import json\n",
    "import yaml\n",
    "import utils as ut\n",
    "from ipysankeywidget import SankeyWidget\n",
    "import floweaver as fw\n",
    "from floweaver import *\n",
    "import numpy as np"
   ]
  },
  {
   "cell_type": "code",
   "execution_count": 2,
   "metadata": {},
   "outputs": [],
   "source": [
    "with open('paths.yaml') as file:\n",
    "    config = yaml.full_load(file)\n",
    "\n",
    "data = pd.read_csv(Path(config['input_path']) / \"pagesos_clean.csv\", sep=\",\").fillna('')\n",
    "#locations_df = pd.read_csv(Path(config['input_path']) /  'municipis_merge.csv').fillna('')\n",
    "\n",
    "comarcas_df = pd.read_csv(Path(config['input_path']) / \"comarcas_catalunya_2019.csv\", sep=\";\")\n",
    "\n",
    "\n",
    "#comarcas_df.head()\n",
    "#comarcas_df.Comarca.unique()\n"
   ]
  },
  {
   "cell_type": "code",
   "execution_count": 3,
   "metadata": {},
   "outputs": [],
   "source": [
    "specific_subset=False ##(must be set when running the script)\n",
    "##TODO: specific_subset= True at the moment it is not working correclty, NEED TO BE FIXED!!!\n",
    "\n",
    "\n",
    "if specific_subset:\n",
    "\n",
    "    on_fields=list(['fruit', 'vegetables']) ## must be set when running the script, if specific_subset=True\n",
    "    off_fields=list(['n_other_prod', 'meat']) ## must be set when running the script, if specific_subset=True\n",
    "\n",
    "    if len(off_fields)>0:\n",
    "        data['flag']=np.where(data[on_fields].gt(0), 1, 0) & np.where(all(data[off_fields].eq(0)), 1, 0)\n",
    "    else:\n",
    "        data['flag']=np.where(data[on_fields].gt(0), 1, 0)\n",
    "else:\n",
    "    data['flag']=1\n",
    "    \n",
    "#data.tail(10)"
   ]
  },
  {
   "cell_type": "markdown",
   "metadata": {},
   "source": [
    "## Connections between comarcas\n",
    "Creating the dataframe needed for sankey diagram (i.e. the list of all the edges between two comarcas),\n",
    "it will have the following columns: source, target, value."
   ]
  },
  {
   "cell_type": "markdown",
   "metadata": {},
   "source": [
    "#### Selecting only the desired subset of producers"
   ]
  },
  {
   "cell_type": "code",
   "execution_count": 4,
   "metadata": {},
   "outputs": [
    {
     "name": "stdout",
     "output_type": "stream",
     "text": [
      "(373, 46)\n"
     ]
    }
   ],
   "source": [
    "data_sel=data[(data.flag==1) & (~data.comarca_origin.str.contains('NOTFOUND'))]\n",
    "\n",
    "print(data_sel.shape)\n",
    "#data[['meat', 'vegetables', 'fruit', 'n_main_prod', 'n_other_prod','n_tot_prod', 'flag']].tail(40)\n",
    "\n",
    "\n",
    "\n",
    "##print(data.shape)\n",
    "##data.drop(data[data.flag == 0].index, inplace=True)\n",
    "##print(data[data.flag==1].shape)"
   ]
  },
  {
   "cell_type": "markdown",
   "metadata": {},
   "source": [
    "#### Extracting all the target comarcas from the field 'DONDE' "
   ]
  },
  {
   "cell_type": "code",
   "execution_count": 5,
   "metadata": {},
   "outputs": [],
   "source": [
    "df=[]\n",
    "\n",
    "for j in range(0,data_sel.shape[0]):\n",
    "\n",
    "    targets=data_sel.DONDE.iloc[j].split(\", \")\n",
    "    n_targets=len(targets)\n",
    "    \n",
    "    if(n_targets>=40):\n",
    "        df.append((data_sel.comarca_origin.iloc[j], 'Tota Catalunya', 1))\n",
    "    else:\n",
    "        for i in range(0,n_targets):\n",
    "            df.append((data_sel.comarca_origin.iloc[j], targets[i], 1))\n",
    "    \n",
    "\n",
    "df = pd.DataFrame(df, columns=('source', 'target', 'value'))\n",
    "\n",
    "\n",
    "## Removing records which have no info in the target or in the source field\n",
    "df=df[~(df.target=='')]\n",
    "df=df[~(df.source=='')]\n",
    "\n",
    "\n",
    "## Uniformizing names of comarcas between the pagesos dataset and the cataloninan comarcas dataset (comarcas_df)\n",
    "standard_names = {'Osona / Lluçanès':'Osona', 'Ribera d’Ebre': 'Ribera d\\'Ebre', \n",
    "                  'Pla de l’Estany':'Pla de l\\'Estany', 'Pla d’Urgell': 'Pla d\\'Urgell'}\n",
    "df['target'] = df['target'].replace(standard_names)\n",
    "df['source'] = df['source'].replace(standard_names)"
   ]
  },
  {
   "cell_type": "markdown",
   "metadata": {},
   "source": [
    "#### Creation of the final df by grouping by (source, target) couples  "
   ]
  },
  {
   "cell_type": "code",
   "execution_count": 6,
   "metadata": {},
   "outputs": [
    {
     "data": {
      "text/html": [
       "<div>\n",
       "<style scoped>\n",
       "    .dataframe tbody tr th:only-of-type {\n",
       "        vertical-align: middle;\n",
       "    }\n",
       "\n",
       "    .dataframe tbody tr th {\n",
       "        vertical-align: top;\n",
       "    }\n",
       "\n",
       "    .dataframe thead th {\n",
       "        text-align: right;\n",
       "    }\n",
       "</style>\n",
       "<table border=\"1\" class=\"dataframe\">\n",
       "  <thead>\n",
       "    <tr style=\"text-align: right;\">\n",
       "      <th></th>\n",
       "      <th>source</th>\n",
       "      <th>target</th>\n",
       "      <th>value</th>\n",
       "      <th>norm_factor</th>\n",
       "      <th>norm_value</th>\n",
       "    </tr>\n",
       "  </thead>\n",
       "  <tbody>\n",
       "    <tr>\n",
       "      <th>0</th>\n",
       "      <td>Vallès Oriental</td>\n",
       "      <td>Vallès Oriental</td>\n",
       "      <td>20</td>\n",
       "      <td>55</td>\n",
       "      <td>36.363636</td>\n",
       "    </tr>\n",
       "    <tr>\n",
       "      <th>10</th>\n",
       "      <td>Baix Llobregat</td>\n",
       "      <td>Baix Llobregat</td>\n",
       "      <td>17</td>\n",
       "      <td>42</td>\n",
       "      <td>40.476190</td>\n",
       "    </tr>\n",
       "    <tr>\n",
       "      <th>19</th>\n",
       "      <td>Alt Penedès</td>\n",
       "      <td>Tota Catalunya</td>\n",
       "      <td>15</td>\n",
       "      <td>64</td>\n",
       "      <td>23.437500</td>\n",
       "    </tr>\n",
       "    <tr>\n",
       "      <th>34</th>\n",
       "      <td>Bages</td>\n",
       "      <td>Bages</td>\n",
       "      <td>13</td>\n",
       "      <td>43</td>\n",
       "      <td>30.232558</td>\n",
       "    </tr>\n",
       "    <tr>\n",
       "      <th>51</th>\n",
       "      <td>Priorat</td>\n",
       "      <td>Tota Catalunya</td>\n",
       "      <td>12</td>\n",
       "      <td>24</td>\n",
       "      <td>50.000000</td>\n",
       "    </tr>\n",
       "    <tr>\n",
       "      <th>20</th>\n",
       "      <td>Alt Penedès</td>\n",
       "      <td>Alt Penedès</td>\n",
       "      <td>11</td>\n",
       "      <td>64</td>\n",
       "      <td>17.187500</td>\n",
       "    </tr>\n",
       "    <tr>\n",
       "      <th>61</th>\n",
       "      <td>Alt Empordà</td>\n",
       "      <td>Alt Empordà</td>\n",
       "      <td>11</td>\n",
       "      <td>47</td>\n",
       "      <td>23.404255</td>\n",
       "    </tr>\n",
       "    <tr>\n",
       "      <th>80</th>\n",
       "      <td>Anoia</td>\n",
       "      <td>Anoia</td>\n",
       "      <td>10</td>\n",
       "      <td>49</td>\n",
       "      <td>20.408163</td>\n",
       "    </tr>\n",
       "    <tr>\n",
       "      <th>99</th>\n",
       "      <td>Noguera</td>\n",
       "      <td>Tota Catalunya</td>\n",
       "      <td>9</td>\n",
       "      <td>12</td>\n",
       "      <td>75.000000</td>\n",
       "    </tr>\n",
       "    <tr>\n",
       "      <th>102</th>\n",
       "      <td>Osona</td>\n",
       "      <td>Osona</td>\n",
       "      <td>9</td>\n",
       "      <td>40</td>\n",
       "      <td>22.500000</td>\n",
       "    </tr>\n",
       "  </tbody>\n",
       "</table>\n",
       "</div>"
      ],
      "text/plain": [
       "              source           target  value  norm_factor  norm_value\n",
       "0    Vallès Oriental  Vallès Oriental     20           55   36.363636\n",
       "10    Baix Llobregat   Baix Llobregat     17           42   40.476190\n",
       "19       Alt Penedès   Tota Catalunya     15           64   23.437500\n",
       "34             Bages            Bages     13           43   30.232558\n",
       "51           Priorat   Tota Catalunya     12           24   50.000000\n",
       "20       Alt Penedès      Alt Penedès     11           64   17.187500\n",
       "61       Alt Empordà      Alt Empordà     11           47   23.404255\n",
       "80             Anoia            Anoia     10           49   20.408163\n",
       "99           Noguera   Tota Catalunya      9           12   75.000000\n",
       "102            Osona            Osona      9           40   22.500000"
      ]
     },
     "execution_count": 6,
     "metadata": {},
     "output_type": "execute_result"
    }
   ],
   "source": [
    "## Getting the normalization factor (i.e. the total number of connections per comarca of origin)  \n",
    "df_norm=df.groupby(['source'])['value'] \\\n",
    "                             .sum() \\\n",
    "                             .reset_index(name='norm_factor') \n",
    "\n",
    "\n",
    "## Grouping by the connections with same source-target: \n",
    "df_edges=df.groupby(['source', 'target'])['value'] \\\n",
    "                             .sum() \\\n",
    "                             .reset_index(name='value') \\\n",
    "                             .sort_values(['value'], ascending=False) \\\n",
    "\n",
    "\n",
    "\n",
    "## Adding the normalized factor to the edges df:\n",
    "df_edges=pd.merge(df_edges, df_norm, how='inner', left_on='source', right_on='source')\n",
    "df_edges['norm_value']=df_edges['value'].astype(float)/df_edges['norm_factor'].astype(float)*100\n",
    "\n",
    "\n",
    "#print(df_edges.head())\n",
    "#print(df_edges.shape)\n",
    "df_edges.sort_values(by=['value'], ascending=False).head(10)\n",
    "\n"
   ]
  },
  {
   "cell_type": "markdown",
   "metadata": {},
   "source": [
    "## Sankey diagram"
   ]
  },
  {
   "cell_type": "code",
   "execution_count": 7,
   "metadata": {},
   "outputs": [
    {
     "data": {
      "application/vnd.jupyter.widget-view+json": {
       "model_id": "be0ba220363d46c2ac12c639ef731057",
       "version_major": 2,
       "version_minor": 0
      },
      "text/plain": [
       "SankeyWidget(groups=[{'id': 'Comarcas_productoras', 'type': 'process', 'title': '', 'nodes': ['Comarcas_produc…"
      ]
     },
     "metadata": {},
     "output_type": "display_data"
    }
   ],
   "source": [
    "###https://github.com/psychemedia/parlihacks/blob/master/notebooks/MigrantFlow.ipynb)\n",
    "\n",
    "flows=df_edges[['source', 'target', 'value']]\n",
    "\n",
    "SankeyWidget(links=flows.to_dict('records'))\n",
    "\n",
    "size = dict(width=870, height=1000)\n",
    "\n",
    "nodes = {\n",
    "    'Comarcas_productoras': ProcessGroup(list(comarcas_df.Comarca.unique())),\n",
    "    'Comarcas_entrega': ProcessGroup(list(comarcas_df.Comarca.unique())),\n",
    "}\n",
    "\n",
    "ordering = [\n",
    "    ['Comarcas_productoras'],       # put \"Comarcas_productoras\" on the left...\n",
    "    ['Comarcas_entrega'],   # ... and \"Comarcas_entrega\" on the right.\n",
    "]\n",
    "\n",
    "bundles = [\n",
    "    Bundle('Comarcas_productoras', 'Comarcas_entrega'),\n",
    "]\n",
    "\n",
    "\n",
    "#sdd = SankeyDefinition(nodesA, bundles, ordering)\n",
    "#weave(sdd, flows).to_widget(**size)\n",
    "\n",
    "\n",
    "comarcas_out = Partition.Simple('process',list(comarcas_df.Comarca.unique()))\n",
    "comarcas_in = Partition.Simple('process',list(comarcas_df.Comarca.unique()))\n",
    "\n",
    "\n",
    "# Update the ProcessGroup nodes to use the partitions\n",
    "nodes['Comarcas_productoras'].partition = comarcas_out\n",
    "nodes['Comarcas_entrega'].partition = comarcas_in\n",
    "\n",
    "\n",
    "sdd = SankeyDefinition(nodes, bundles, ordering)\n",
    "\n",
    "## New Sankey!\n",
    "#weave(sdd, flows).to_widget(**size) \n",
    "\n",
    "## Saving the plot as png\n",
    "weave(sdd, flows, link_color=QuantitativeScale('value'), \\\n",
    "      measures='value').to_widget(**size).auto_save_png('mySankey.png')\n",
    "\n",
    "\n"
   ]
  }
 ],
 "metadata": {
  "kernelspec": {
   "display_name": "Python 3",
   "language": "python",
   "name": "python3"
  },
  "language_info": {
   "codemirror_mode": {
    "name": "ipython",
    "version": 3
   },
   "file_extension": ".py",
   "mimetype": "text/x-python",
   "name": "python",
   "nbconvert_exporter": "python",
   "pygments_lexer": "ipython3",
   "version": "3.6.9"
  }
 },
 "nbformat": 4,
 "nbformat_minor": 4
}

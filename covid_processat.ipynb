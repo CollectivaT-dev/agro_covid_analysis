{
 "cells": [
  {
   "cell_type": "markdown",
   "metadata": {},
   "source": [
    "## Imports"
   ]
  },
  {
   "cell_type": "code",
   "execution_count": null,
   "metadata": {},
   "outputs": [],
   "source": [
    "from pathlib import Path # reads paths in the current OS\n",
    "import pandas as pd\n",
    "import numpy as np\n",
    "import yaml\n",
    "import utils as ut"
   ]
  },
  {
   "cell_type": "markdown",
   "metadata": {},
   "source": [
    "## Reading"
   ]
  },
  {
   "cell_type": "code",
   "execution_count": null,
   "metadata": {},
   "outputs": [],
   "source": [
    "with open(Path('conf') / 'paths.yaml') as file:\n",
    "    config = yaml.full_load(file)\n",
    "with open(Path('conf') / 'com_comprar_kw.yaml') as file:\n",
    "    com_comprar = yaml.full_load(file)\n",
    "with open(Path('conf') / 'product_list.yaml') as file:\n",
    "    product_cat = yaml.full_load(file)\n",
    "with open(Path('conf') / 'payment_list.yaml') as file:\n",
    "    payment_cat = yaml.full_load(file)   \n",
    "with open(Path('conf') / 'sector_list.yaml') as file:\n",
    "    sectors_dict = yaml.full_load(file)\n",
    "    \n",
    "data         = pd.read_csv(Path(config['input_path']) / \"abastiment.csv\", sep=\",\").fillna('')\n",
    "locations_df = pd.read_csv(Path(config['input_path']) /  'municipis_merge.csv').fillna('')\n",
    "\n",
    "print(data.shape)\n",
    "\n",
    "data.head()"
   ]
  },
  {
   "cell_type": "code",
   "execution_count": null,
   "metadata": {},
   "outputs": [],
   "source": [
    "data_gen = pd.read_csv(Path(config['input_path']\n",
    "                           ) / 'Productors_adherits_a_la_venda_de_proximitat.csv').fillna('')\n",
    "data_gen.rename(columns={'Marca Comercial':'MARCA'},inplace=True)\n",
    "print(data_gen.shape)\n",
    "data_gen.head()"
   ]
  },
  {
   "cell_type": "code",
   "execution_count": null,
   "metadata": {},
   "outputs": [],
   "source": [
    "stopwords = ut.get_all_stopwords()"
   ]
  },
  {
   "cell_type": "code",
   "execution_count": null,
   "metadata": {},
   "outputs": [],
   "source": [
    "delivery_patt = ['repart', 'domicil', 'envi', 'recoll', 'dist']"
   ]
  },
  {
   "cell_type": "code",
   "execution_count": null,
   "metadata": {},
   "outputs": [],
   "source": [
    "imp_cols = ['COM COMPRAR', 'OBSERVACIONS','PRODUCTE(S)']"
   ]
  },
  {
   "cell_type": "code",
   "execution_count": null,
   "metadata": {},
   "outputs": [],
   "source": [
    "com_typos = {\n",
    "    'Al Urgell':'Alt Urgell',\n",
    "    'Bages-Moianès':'Moianès',\n",
    "    'Moianes-Bages':'Moianès',\n",
    "    'Barcelona':'Barcelonès',\n",
    "    'Maresme-Barcelonès':'Maresme',\n",
    "    'Tarragona':'Tarragonès',\n",
    "    'Baix Montseny':'Vallès Oriental',\n",
    "    'Baixa Cerdanya':'Cerdanya',\n",
    "    'Vall Aran':\"Vall d'Aran\",\n",
    "    'Alt Maresme':'Maresme',\n",
    "    'Penedès':'Alt Penedès',\n",
    "    \"Val D'Aran\": \"Vall d'Aran\",\n",
    "    'Lluçanès':'Osona', #should we consider it a comarca?\n",
    "            }"
   ]
  },
  {
   "cell_type": "markdown",
   "metadata": {},
   "source": [
    "## Pre-process columns"
   ]
  },
  {
   "cell_type": "code",
   "execution_count": null,
   "metadata": {},
   "outputs": [],
   "source": [
    "data_gen['comarca_origin'] = data_gen['Comarca'].str.title().replace(com_typos)\n",
    "data_gen['comarca_origin'] = data_gen['comarca_origin'].apply(lambda x: ut.check_comarca_spelling(\n",
    "    x,locations_df['Comarca'],stopwords) if x not in locations_df['Comarca'] else x)"
   ]
  },
  {
   "cell_type": "code",
   "execution_count": null,
   "metadata": {},
   "outputs": [],
   "source": [
    "data['comarca_origin'] = data['COMARCA'].replace(com_typos)\n",
    "data['comarca_origin'] = data['comarca_origin'].apply(lambda x: ut.check_comarca_spelling(\n",
    "    x,locations_df['Comarca'],stopwords) if x not in locations_df['Comarca'] else x)"
   ]
  },
  {
   "cell_type": "code",
   "execution_count": null,
   "metadata": {},
   "outputs": [],
   "source": [
    "ut.run_preprocess_on_cols(data_gen,['Productes','Grups Productes'],stopwords)"
   ]
  },
  {
   "cell_type": "code",
   "execution_count": null,
   "metadata": {},
   "outputs": [],
   "source": [
    "ut.run_preprocess_on_cols(data,imp_cols+['comarca_origin'],stopwords)\n",
    "ut.run_preprocess_on_cols(locations_df,['Municipi', 'Comarca', 'Capital', 'Provincia'],stopwords)"
   ]
  },
  {
   "cell_type": "markdown",
   "metadata": {},
   "source": [
    "## New columns"
   ]
  },
  {
   "cell_type": "markdown",
   "metadata": {},
   "source": [
    "### Payment"
   ]
  },
  {
   "cell_type": "code",
   "execution_count": null,
   "metadata": {},
   "outputs": [],
   "source": [
    "data = ut.get_payment_methods(data,imp_cols)"
   ]
  },
  {
   "cell_type": "markdown",
   "metadata": {},
   "source": [
    "### Locations"
   ]
  },
  {
   "cell_type": "code",
   "execution_count": null,
   "metadata": {},
   "outputs": [],
   "source": [
    "# Dictionary to translate municipis to comarca\n",
    "mun_to_com_dict = locations_df[locations_df['Municipi']!=''].set_index('Municipi')['Comarca'].to_dict()"
   ]
  },
  {
   "cell_type": "code",
   "execution_count": null,
   "metadata": {},
   "outputs": [],
   "source": [
    "ut.run_text_locations(data, locations_df, imp_cols, delivery_patt)"
   ]
  },
  {
   "cell_type": "code",
   "execution_count": null,
   "metadata": {},
   "outputs": [],
   "source": [
    "data = ut.create_donde_col(data,mun_to_com_dict)"
   ]
  },
  {
   "cell_type": "markdown",
   "metadata": {},
   "source": [
    "### Binary variables"
   ]
  },
  {
   "cell_type": "code",
   "execution_count": null,
   "metadata": {},
   "outputs": [],
   "source": [
    "ut.create_binary_var(data_gen,product_cat,'Productes'+'_prep')"
   ]
  },
  {
   "cell_type": "code",
   "execution_count": null,
   "metadata": {},
   "outputs": [],
   "source": [
    "# create binary variables representing whether they have a payment method or not\n",
    "ut.create_binary_var(data,payment_cat,'PAGO')\n",
    "# create binary variables representing whether they have a type of product (1) or not\n",
    "ut.create_binary_var(data,product_cat,'PRODUCTE(S)'+'_prep')\n",
    "# create binary variables representing whether they have a type payment method, contact info... (1) or not\n",
    "ut.create_binary_var(data,com_comprar,'COM COMPRAR'+'_prep')\n",
    "\n",
    "# improve the website and social network searches adding another column\n",
    "data.loc[(data['web']!=1) & (data['OBSERVACIONS'+'_prep'].str.contains(\n",
    "    r'\\b'+r'\\b|\\b'.join(com_comprar['web'])+r'\\b')),'web'] = 1\n",
    "data.loc[(data['socialnet']!=1) & (data['OBSERVACIONS'+'_prep'].str.contains(\n",
    "    r'\\b'+r'\\b|\\b'.join(com_comprar['socialnet'])+r'\\b')),'socialnet'] = 1\n",
    "# improve iseco category\n",
    "data.loc[(data['iseco'] == 0) & (data['CCPAE'].isin(['Sí','En conversió'])),'iseco'] = 1"
   ]
  },
  {
   "cell_type": "markdown",
   "metadata": {},
   "source": [
    "### Sectors"
   ]
  },
  {
   "cell_type": "code",
   "execution_count": null,
   "metadata": {},
   "outputs": [],
   "source": [
    "# Create binary variables representing whether the producer belong to a specific sector or not \n",
    "# (according to the products he/she sells and the definition of sectors given in sector_list.yaml)\n",
    "data_gen=ut.create_sectors_col(data_gen,sectors_dict)\n",
    "data=ut.create_sectors_col(data,sectors_dict)"
   ]
  },
  {
   "cell_type": "markdown",
   "metadata": {},
   "source": [
    "### Numerical columns"
   ]
  },
  {
   "cell_type": "code",
   "execution_count": null,
   "metadata": {},
   "outputs": [],
   "source": [
    "data_gen = ut.add_numerical_cols(data_gen,more_data=False)"
   ]
  },
  {
   "cell_type": "code",
   "execution_count": null,
   "metadata": {},
   "outputs": [],
   "source": [
    "data = ut.add_numerical_cols(data,more_data=True)\n",
    "data.loc[data['n_paym_methods']==0,'n_paym_methods'] = np.nan"
   ]
  },
  {
   "cell_type": "markdown",
   "metadata": {},
   "source": [
    "## Save"
   ]
  },
  {
   "cell_type": "code",
   "execution_count": null,
   "metadata": {},
   "outputs": [],
   "source": [
    "data_gen.drop(['Productes_prep', 'Grups Productes_prep'],axis=1\n",
    "             ).to_csv(Path(config['input_path']) / 'vdp_clean.csv', index=False)"
   ]
  },
  {
   "cell_type": "code",
   "execution_count": null,
   "metadata": {},
   "outputs": [],
   "source": [
    "data.drop(['PRODUCTE(S)_prep','OBSERVACIONS_prep','COM COMPRAR_prep'],axis=1\n",
    "         ).to_csv(Path(config['input_path']) / 'abastiment_clean.csv', index=False)"
   ]
  }
 ],
 "metadata": {
  "kernelspec": {
   "display_name": "Python 3",
   "language": "python",
   "name": "python3"
  },
  "language_info": {
   "codemirror_mode": {
    "name": "ipython",
    "version": 3
   },
   "file_extension": ".py",
   "mimetype": "text/x-python",
   "name": "python",
   "nbconvert_exporter": "python",
   "pygments_lexer": "ipython3",
   "version": "3.6.9"
  }
 },
 "nbformat": 4,
 "nbformat_minor": 4
}

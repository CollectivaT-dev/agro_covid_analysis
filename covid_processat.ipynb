{
 "cells": [
  {
   "cell_type": "markdown",
   "metadata": {},
   "source": [
    "## Imports"
   ]
  },
  {
   "cell_type": "code",
   "execution_count": 1,
   "metadata": {},
   "outputs": [],
   "source": [
    "from pathlib import Path # reads paths in the current OS\n",
    "import pandas as pd\n",
    "import numpy as np\n",
    "import yaml\n",
    "import utils as ut"
   ]
  },
  {
   "cell_type": "markdown",
   "metadata": {},
   "source": [
    "## Reading"
   ]
  },
  {
   "cell_type": "code",
   "execution_count": 2,
   "metadata": {},
   "outputs": [
    {
     "name": "stdout",
     "output_type": "stream",
     "text": [
      "(226, 8)\n"
     ]
    },
    {
     "data": {
      "text/html": [
       "<div>\n",
       "<style scoped>\n",
       "    .dataframe tbody tr th:only-of-type {\n",
       "        vertical-align: middle;\n",
       "    }\n",
       "\n",
       "    .dataframe tbody tr th {\n",
       "        vertical-align: top;\n",
       "    }\n",
       "\n",
       "    .dataframe thead th {\n",
       "        text-align: right;\n",
       "    }\n",
       "</style>\n",
       "<table border=\"1\" class=\"dataframe\">\n",
       "  <thead>\n",
       "    <tr style=\"text-align: right;\">\n",
       "      <th></th>\n",
       "      <th>PROJECTE</th>\n",
       "      <th>URGENT</th>\n",
       "      <th>PRODUCTE(S)</th>\n",
       "      <th>MUNICIPI</th>\n",
       "      <th>COM COMPRAR</th>\n",
       "      <th>OBSERVACIONS</th>\n",
       "      <th>CCPAE</th>\n",
       "      <th>COMARCA</th>\n",
       "    </tr>\n",
       "  </thead>\n",
       "  <tbody>\n",
       "    <tr>\n",
       "      <th>0</th>\n",
       "      <td>3 Fermentats I Un Destí</td>\n",
       "      <td>Sí</td>\n",
       "      <td>1 Pa de Massa Mare Natural de 2kg 2 Vins Natur...</td>\n",
       "      <td>Torelló</td>\n",
       "      <td>Ho repartim a domicili per tot Osona resta de ...</td>\n",
       "      <td>Ens fa il.lusió poder colaborar per oferir-vos...</td>\n",
       "      <td>Sí</td>\n",
       "      <td>Osona</td>\n",
       "    </tr>\n",
       "    <tr>\n",
       "      <th>1</th>\n",
       "      <td>30 Cabres</td>\n",
       "      <td></td>\n",
       "      <td>Formatges de llet crua de cabres que pasturen ...</td>\n",
       "      <td>Bellver de Cerdanya</td>\n",
       "      <td>Contacta per telefon, mail o xarxes socials (@...</td>\n",
       "      <td>Tots els nostres formatges estan elaborats amb...</td>\n",
       "      <td></td>\n",
       "      <td>Cerdanya</td>\n",
       "    </tr>\n",
       "    <tr>\n",
       "      <th>2</th>\n",
       "      <td>7 de Ribera Hostal-Agrobotiga</td>\n",
       "      <td>Sí</td>\n",
       "      <td>Verdures de producció propia</td>\n",
       "      <td>Móra d'Ebre</td>\n",
       "      <td>A l'agrobotiga dijous i divendres de 10:00 a 1...</td>\n",
       "      <td>www.biosferacomestible.cat</td>\n",
       "      <td></td>\n",
       "      <td>Ribera d’Ebre</td>\n",
       "    </tr>\n",
       "    <tr>\n",
       "      <th>3</th>\n",
       "      <td>A Granel</td>\n",
       "      <td></td>\n",
       "      <td>Cosmètica, productes d’higiène i neteja ecològics</td>\n",
       "      <td>Barcelona</td>\n",
       "      <td>Venda directa i en punts de recollida per tota...</td>\n",
       "      <td></td>\n",
       "      <td>Sí</td>\n",
       "      <td>Barcelona</td>\n",
       "    </tr>\n",
       "    <tr>\n",
       "      <th>4</th>\n",
       "      <td>AgroMontserratí - Cooperativa del Montserratí</td>\n",
       "      <td></td>\n",
       "      <td>Fruita, verdura, transformats, elaborats, pins...</td>\n",
       "      <td>Olesa de Montserrat</td>\n",
       "      <td>A través del Whatsap i Telèfon - XXXXXXXXX A l...</td>\n",
       "      <td>www.agromontserrati.cat</td>\n",
       "      <td></td>\n",
       "      <td>Baix Llobregat</td>\n",
       "    </tr>\n",
       "  </tbody>\n",
       "</table>\n",
       "</div>"
      ],
      "text/plain": [
       "                                        PROJECTE URGENT  \\\n",
       "0                        3 Fermentats I Un Destí     Sí   \n",
       "1                                      30 Cabres          \n",
       "2                  7 de Ribera Hostal-Agrobotiga     Sí   \n",
       "3                                       A Granel          \n",
       "4  AgroMontserratí - Cooperativa del Montserratí          \n",
       "\n",
       "                                         PRODUCTE(S)             MUNICIPI  \\\n",
       "0  1 Pa de Massa Mare Natural de 2kg 2 Vins Natur...              Torelló   \n",
       "1  Formatges de llet crua de cabres que pasturen ...  Bellver de Cerdanya   \n",
       "2                       Verdures de producció propia          Móra d'Ebre   \n",
       "3  Cosmètica, productes d’higiène i neteja ecològics            Barcelona   \n",
       "4  Fruita, verdura, transformats, elaborats, pins...  Olesa de Montserrat   \n",
       "\n",
       "                                         COM COMPRAR  \\\n",
       "0  Ho repartim a domicili per tot Osona resta de ...   \n",
       "1  Contacta per telefon, mail o xarxes socials (@...   \n",
       "2  A l'agrobotiga dijous i divendres de 10:00 a 1...   \n",
       "3  Venda directa i en punts de recollida per tota...   \n",
       "4  A través del Whatsap i Telèfon - XXXXXXXXX A l...   \n",
       "\n",
       "                                        OBSERVACIONS CCPAE         COMARCA  \n",
       "0  Ens fa il.lusió poder colaborar per oferir-vos...    Sí           Osona  \n",
       "1  Tots els nostres formatges estan elaborats amb...              Cerdanya  \n",
       "2                         www.biosferacomestible.cat         Ribera d’Ebre  \n",
       "3                                                       Sí       Barcelona  \n",
       "4                            www.agromontserrati.cat        Baix Llobregat  "
      ]
     },
     "execution_count": 2,
     "metadata": {},
     "output_type": "execute_result"
    }
   ],
   "source": [
    "with open(Path('conf') / 'paths.yaml') as file:\n",
    "    config = yaml.full_load(file)\n",
    "with open(Path('conf') / 'com_comprar_kw.yaml') as file:\n",
    "    com_comprar = yaml.full_load(file)\n",
    "with open(Path('conf') / 'product_list.yaml') as file:\n",
    "    product_cat = yaml.full_load(file)\n",
    "with open(Path('conf') / 'payment_list.yaml') as file:\n",
    "    payment_cat = yaml.full_load(file)\n",
    "    \n",
    "data         = pd.read_csv(Path(config['input_path']) / \"abastiment.csv\", sep=\",\").fillna('')\n",
    "locations_df = pd.read_csv(Path(config['input_path']) /  'municipis_merge.csv').fillna('')\n",
    "\n",
    "print(data.shape)\n",
    "\n",
    "data.head()"
   ]
  },
  {
   "cell_type": "code",
   "execution_count": 3,
   "metadata": {},
   "outputs": [],
   "source": [
    "stopwords = ut.get_all_stopwords()"
   ]
  },
  {
   "cell_type": "code",
   "execution_count": 4,
   "metadata": {},
   "outputs": [],
   "source": [
    "delivery_patt = ['repart', 'domicil', 'envi', 'recoll', 'dist']"
   ]
  },
  {
   "cell_type": "code",
   "execution_count": 5,
   "metadata": {},
   "outputs": [],
   "source": [
    "\n",
    "imp_cols = ['COM COMPRAR', 'OBSERVACIONS','PRODUCTE(S)']"
   ]
  },
  {
   "cell_type": "code",
   "execution_count": 6,
   "metadata": {},
   "outputs": [],
   "source": [
    "com_typos = {\n",
    "    'Al Urgell':'Alt Urgell',\n",
    "    'Bages-Moianès':'Moianès',\n",
    "    'Moianes-Bages':'Moianès',\n",
    "    'Barcelona':'Barcelonès',\n",
    "    'Maresme-Barcelonès':'Maresme',\n",
    "    'Tarragona':'Tarragonès',\n",
    "    'Baix Montseny':'Vallès Oriental',\n",
    "    'Baixa Cerdanya':'Cerdanya',\n",
    "    'Vall Aran':\"Vall d'Aran\",\n",
    "    'Alt Maresme':'Maresme',\n",
    "    'Penedès':'Alt Penedès',\n",
    "    'Lluçanès':'Osona', #should we consider it a comarca?\n",
    "            }"
   ]
  },
  {
   "cell_type": "markdown",
   "metadata": {},
   "source": [
    "## Pre-process columns"
   ]
  },
  {
   "cell_type": "code",
   "execution_count": 7,
   "metadata": {},
   "outputs": [],
   "source": [
    "data['comarca_origin'] = data['COMARCA'].replace(com_typos)"
   ]
  },
  {
   "cell_type": "code",
   "execution_count": 8,
   "metadata": {},
   "outputs": [
    {
     "name": "stdout",
     "output_type": "stream",
     "text": [
      "Not found: Repartim al Bages, Solsonès, Barcelonès i Berguedà\n"
     ]
    }
   ],
   "source": [
    "data['comarca_origin'] = data['comarca_origin'].apply(lambda x: ut.check_comarca_spelling(\n",
    "    x,locations_df['Comarca'],stopwords) if x not in locations_df['Comarca'] else x)"
   ]
  },
  {
   "cell_type": "code",
   "execution_count": 9,
   "metadata": {},
   "outputs": [],
   "source": [
    "ut.run_preprocess_on_cols(data,imp_cols+['comarca_origin'],stopwords)\n",
    "ut.run_preprocess_on_cols(locations_df,['Municipi', 'Comarca', 'Capital', 'Provincia'],stopwords)"
   ]
  },
  {
   "cell_type": "markdown",
   "metadata": {},
   "source": [
    "## New columns"
   ]
  },
  {
   "cell_type": "markdown",
   "metadata": {},
   "source": [
    "### Payment"
   ]
  },
  {
   "cell_type": "code",
   "execution_count": 10,
   "metadata": {},
   "outputs": [],
   "source": [
    "data = ut.get_payment_methods(data,imp_cols)"
   ]
  },
  {
   "cell_type": "markdown",
   "metadata": {},
   "source": [
    "### Locations"
   ]
  },
  {
   "cell_type": "code",
   "execution_count": 11,
   "metadata": {},
   "outputs": [],
   "source": [
    "# Dictionary to translate municipis to comarca\n",
    "mun_to_com_dict = locations_df[locations_df['Municipi']!=''].set_index('Municipi')['Comarca'].to_dict()"
   ]
  },
  {
   "cell_type": "code",
   "execution_count": 12,
   "metadata": {},
   "outputs": [],
   "source": [
    "ut.run_text_locations(data, locations_df, imp_cols, delivery_patt)"
   ]
  },
  {
   "cell_type": "code",
   "execution_count": 13,
   "metadata": {},
   "outputs": [],
   "source": [
    "data = ut.create_donde_col(data,mun_to_com_dict)"
   ]
  },
  {
   "cell_type": "markdown",
   "metadata": {},
   "source": [
    "### Binary variables"
   ]
  },
  {
   "cell_type": "code",
   "execution_count": 14,
   "metadata": {},
   "outputs": [],
   "source": [
    "# create binary variables representing whether they have a payment method or not\n",
    "ut.create_binary_var(data,payment_cat,'PAGO')\n",
    "# create binary variables representing whether they have a type of product (1) or not\n",
    "ut.create_binary_var(data,product_cat,'PRODUCTE(S)'+'_prep')\n",
    "# create binary variables representing whether they have a type payment method, contact info... (1) or not\n",
    "ut.create_binary_var(data,com_comprar,'COM COMPRAR'+'_prep')\n",
    "\n",
    "# improve the website and social network searches adding another column\n",
    "data.loc[(data['web']!=1) & (data['OBSERVACIONS'+'_prep'].str.contains(\n",
    "    r'\\b'+r'\\b|\\b'.join(com_comprar['web'])+r'\\b')),'web'] = 1\n",
    "data.loc[(data['socialnet']!=1) & (data['OBSERVACIONS'+'_prep'].str.contains(\n",
    "    r'\\b'+r'\\b|\\b'.join(com_comprar['socialnet'])+r'\\b')),'socialnet'] = 1"
   ]
  },
  {
   "cell_type": "markdown",
   "metadata": {},
   "source": [
    "### Numerical columns"
   ]
  },
  {
   "cell_type": "code",
   "execution_count": 15,
   "metadata": {},
   "outputs": [],
   "source": [
    "data = ut.add_numerical_cols(data)"
   ]
  },
  {
   "cell_type": "markdown",
   "metadata": {},
   "source": [
    "## Save"
   ]
  },
  {
   "cell_type": "code",
   "execution_count": 17,
   "metadata": {},
   "outputs": [],
   "source": [
    "data.drop(['PRODUCTE(S)_prep','OBSERVACIONS_prep','COM COMPRAR_prep'],axis=1\n",
    "         ).to_csv(Path(config['input_path']) / 'abastiment_clean.csv', index=False)"
   ]
  },
  {
   "cell_type": "code",
   "execution_count": 18,
   "metadata": {},
   "outputs": [
    {
     "name": "stdout",
     "output_type": "stream",
     "text": [
      "Index(['PROJECTE', 'URGENT', 'PRODUCTE(S)', 'MUNICIPI', 'COM COMPRAR',\n",
      "       'OBSERVACIONS', 'CCPAE', 'COMARCA', 'comarca_origin',\n",
      "       'COM COMPRAR_prep', 'OBSERVACIONS_prep', 'PRODUCTE(S)_prep', 'PAGO',\n",
      "       'DONDE', 'paym_card', 'paym_cash', 'paym_bizum', 'paym_transf', 'fruit',\n",
      "       'vegetables', 'legumes', 'meat', 'charcuterie', 'mushrooms', 'rice',\n",
      "       'flour_cereals', 'oil_olives_vinager', 'eggs', 'dairies',\n",
      "       'herbs_spices', 'hygiene_medicines', 'alcohol',\n",
      "       'fruit_veggies_products', 'drinks', 'flowers', 'bread_pastries',\n",
      "       'pasta', 'others', 'iseco', 'delivery', 'mail', 'web', 'pickup', 'shop',\n",
      "       'market', 'phone', 'orders', 'whatsapp', 'socialnet', 'n_main_prod',\n",
      "       'n_other_prod', 'n_tot_prod', 'n_paym_methods', 'n_comarcas_delivery'],\n",
      "      dtype='object')\n"
     ]
    },
    {
     "data": {
      "text/html": [
       "<div>\n",
       "<style scoped>\n",
       "    .dataframe tbody tr th:only-of-type {\n",
       "        vertical-align: middle;\n",
       "    }\n",
       "\n",
       "    .dataframe tbody tr th {\n",
       "        vertical-align: top;\n",
       "    }\n",
       "\n",
       "    .dataframe thead th {\n",
       "        text-align: right;\n",
       "    }\n",
       "</style>\n",
       "<table border=\"1\" class=\"dataframe\">\n",
       "  <thead>\n",
       "    <tr style=\"text-align: right;\">\n",
       "      <th></th>\n",
       "      <th>PROJECTE</th>\n",
       "      <th>URGENT</th>\n",
       "      <th>PRODUCTE(S)</th>\n",
       "      <th>MUNICIPI</th>\n",
       "      <th>COM COMPRAR</th>\n",
       "      <th>OBSERVACIONS</th>\n",
       "      <th>CCPAE</th>\n",
       "      <th>COMARCA</th>\n",
       "      <th>comarca_origin</th>\n",
       "      <th>COM COMPRAR_prep</th>\n",
       "      <th>...</th>\n",
       "      <th>market</th>\n",
       "      <th>phone</th>\n",
       "      <th>orders</th>\n",
       "      <th>whatsapp</th>\n",
       "      <th>socialnet</th>\n",
       "      <th>n_main_prod</th>\n",
       "      <th>n_other_prod</th>\n",
       "      <th>n_tot_prod</th>\n",
       "      <th>n_paym_methods</th>\n",
       "      <th>n_comarcas_delivery</th>\n",
       "    </tr>\n",
       "  </thead>\n",
       "  <tbody>\n",
       "    <tr>\n",
       "      <th>0</th>\n",
       "      <td>3 Fermentats I Un Destí</td>\n",
       "      <td>Sí</td>\n",
       "      <td>1 Pa de Massa Mare Natural de 2kg 2 Vins Natur...</td>\n",
       "      <td>Torelló</td>\n",
       "      <td>Ho repartim a domicili per tot Osona resta de ...</td>\n",
       "      <td>Ens fa il.lusió poder colaborar per oferir-vos...</td>\n",
       "      <td>Sí</td>\n",
       "      <td>Osona</td>\n",
       "      <td>Osona</td>\n",
       "      <td>repartim domicili osona resta catalunya consul...</td>\n",
       "      <td>...</td>\n",
       "      <td>0</td>\n",
       "      <td>0</td>\n",
       "      <td>0</td>\n",
       "      <td>0</td>\n",
       "      <td>0</td>\n",
       "      <td>0</td>\n",
       "      <td>3</td>\n",
       "      <td>3</td>\n",
       "      <td>0</td>\n",
       "      <td>2</td>\n",
       "    </tr>\n",
       "    <tr>\n",
       "      <th>1</th>\n",
       "      <td>30 Cabres</td>\n",
       "      <td></td>\n",
       "      <td>Formatges de llet crua de cabres que pasturen ...</td>\n",
       "      <td>Bellver de Cerdanya</td>\n",
       "      <td>Contacta per telefon, mail o xarxes socials (@...</td>\n",
       "      <td>Tots els nostres formatges estan elaborats amb...</td>\n",
       "      <td></td>\n",
       "      <td>Cerdanya</td>\n",
       "      <td>Cerdanya</td>\n",
       "      <td>contacta telefon mail xarxes socials cabres mi...</td>\n",
       "      <td>...</td>\n",
       "      <td>0</td>\n",
       "      <td>1</td>\n",
       "      <td>0</td>\n",
       "      <td>0</td>\n",
       "      <td>1</td>\n",
       "      <td>0</td>\n",
       "      <td>1</td>\n",
       "      <td>1</td>\n",
       "      <td>0</td>\n",
       "      <td>1</td>\n",
       "    </tr>\n",
       "    <tr>\n",
       "      <th>2</th>\n",
       "      <td>7 de Ribera Hostal-Agrobotiga</td>\n",
       "      <td>Sí</td>\n",
       "      <td>Verdures de producció propia</td>\n",
       "      <td>Móra d'Ebre</td>\n",
       "      <td>A l'agrobotiga dijous i divendres de 10:00 a 1...</td>\n",
       "      <td>www.biosferacomestible.cat</td>\n",
       "      <td></td>\n",
       "      <td>Ribera d’Ebre</td>\n",
       "      <td>Ribera d'Ebre</td>\n",
       "      <td>agrobotiga dijous divendres dijous tarde repar...</td>\n",
       "      <td>...</td>\n",
       "      <td>0</td>\n",
       "      <td>0</td>\n",
       "      <td>0</td>\n",
       "      <td>0</td>\n",
       "      <td>0</td>\n",
       "      <td>1</td>\n",
       "      <td>0</td>\n",
       "      <td>1</td>\n",
       "      <td>0</td>\n",
       "      <td>1</td>\n",
       "    </tr>\n",
       "    <tr>\n",
       "      <th>3</th>\n",
       "      <td>A Granel</td>\n",
       "      <td></td>\n",
       "      <td>Cosmètica, productes d’higiène i neteja ecològics</td>\n",
       "      <td>Barcelona</td>\n",
       "      <td>Venda directa i en punts de recollida per tota...</td>\n",
       "      <td></td>\n",
       "      <td>Sí</td>\n",
       "      <td>Barcelona</td>\n",
       "      <td>Barcelonès</td>\n",
       "      <td>venda directa punts recollida tota catalunya d...</td>\n",
       "      <td>...</td>\n",
       "      <td>0</td>\n",
       "      <td>0</td>\n",
       "      <td>0</td>\n",
       "      <td>0</td>\n",
       "      <td>0</td>\n",
       "      <td>0</td>\n",
       "      <td>1</td>\n",
       "      <td>1</td>\n",
       "      <td>0</td>\n",
       "      <td>1</td>\n",
       "    </tr>\n",
       "    <tr>\n",
       "      <th>4</th>\n",
       "      <td>AgroMontserratí - Cooperativa del Montserratí</td>\n",
       "      <td></td>\n",
       "      <td>Fruita, verdura, transformats, elaborats, pins...</td>\n",
       "      <td>Olesa de Montserrat</td>\n",
       "      <td>A través del Whatsap i Telèfon - XXXXXXXXX A l...</td>\n",
       "      <td>www.agromontserrati.cat</td>\n",
       "      <td></td>\n",
       "      <td>Baix Llobregat</td>\n",
       "      <td>Baix Llobregat</td>\n",
       "      <td>traves whatsap telefon xxxxxxxxx agrobotiga c ...</td>\n",
       "      <td>...</td>\n",
       "      <td>0</td>\n",
       "      <td>1</td>\n",
       "      <td>0</td>\n",
       "      <td>1</td>\n",
       "      <td>0</td>\n",
       "      <td>2</td>\n",
       "      <td>2</td>\n",
       "      <td>4</td>\n",
       "      <td>0</td>\n",
       "      <td>1</td>\n",
       "    </tr>\n",
       "  </tbody>\n",
       "</table>\n",
       "<p>5 rows × 54 columns</p>\n",
       "</div>"
      ],
      "text/plain": [
       "                                        PROJECTE URGENT  \\\n",
       "0                        3 Fermentats I Un Destí     Sí   \n",
       "1                                      30 Cabres          \n",
       "2                  7 de Ribera Hostal-Agrobotiga     Sí   \n",
       "3                                       A Granel          \n",
       "4  AgroMontserratí - Cooperativa del Montserratí          \n",
       "\n",
       "                                         PRODUCTE(S)             MUNICIPI  \\\n",
       "0  1 Pa de Massa Mare Natural de 2kg 2 Vins Natur...              Torelló   \n",
       "1  Formatges de llet crua de cabres que pasturen ...  Bellver de Cerdanya   \n",
       "2                       Verdures de producció propia          Móra d'Ebre   \n",
       "3  Cosmètica, productes d’higiène i neteja ecològics            Barcelona   \n",
       "4  Fruita, verdura, transformats, elaborats, pins...  Olesa de Montserrat   \n",
       "\n",
       "                                         COM COMPRAR  \\\n",
       "0  Ho repartim a domicili per tot Osona resta de ...   \n",
       "1  Contacta per telefon, mail o xarxes socials (@...   \n",
       "2  A l'agrobotiga dijous i divendres de 10:00 a 1...   \n",
       "3  Venda directa i en punts de recollida per tota...   \n",
       "4  A través del Whatsap i Telèfon - XXXXXXXXX A l...   \n",
       "\n",
       "                                        OBSERVACIONS CCPAE         COMARCA  \\\n",
       "0  Ens fa il.lusió poder colaborar per oferir-vos...    Sí           Osona   \n",
       "1  Tots els nostres formatges estan elaborats amb...              Cerdanya   \n",
       "2                         www.biosferacomestible.cat         Ribera d’Ebre   \n",
       "3                                                       Sí       Barcelona   \n",
       "4                            www.agromontserrati.cat        Baix Llobregat   \n",
       "\n",
       "   comarca_origin                                   COM COMPRAR_prep  ...  \\\n",
       "0           Osona  repartim domicili osona resta catalunya consul...  ...   \n",
       "1        Cerdanya  contacta telefon mail xarxes socials cabres mi...  ...   \n",
       "2   Ribera d'Ebre  agrobotiga dijous divendres dijous tarde repar...  ...   \n",
       "3      Barcelonès  venda directa punts recollida tota catalunya d...  ...   \n",
       "4  Baix Llobregat  traves whatsap telefon xxxxxxxxx agrobotiga c ...  ...   \n",
       "\n",
       "  market phone orders whatsapp  socialnet  n_main_prod  n_other_prod  \\\n",
       "0      0     0      0        0          0            0             3   \n",
       "1      0     1      0        0          1            0             1   \n",
       "2      0     0      0        0          0            1             0   \n",
       "3      0     0      0        0          0            0             1   \n",
       "4      0     1      0        1          0            2             2   \n",
       "\n",
       "   n_tot_prod  n_paym_methods  n_comarcas_delivery  \n",
       "0           3               0                    2  \n",
       "1           1               0                    1  \n",
       "2           1               0                    1  \n",
       "3           1               0                    1  \n",
       "4           4               0                    1  \n",
       "\n",
       "[5 rows x 54 columns]"
      ]
     },
     "execution_count": 18,
     "metadata": {},
     "output_type": "execute_result"
    }
   ],
   "source": [
    "print(data.columns)\n",
    "data.head()"
   ]
  }
 ],
 "metadata": {
  "kernelspec": {
   "display_name": "Python 3",
   "language": "python",
   "name": "python3"
  },
  "language_info": {
   "codemirror_mode": {
    "name": "ipython",
    "version": 3
   },
   "file_extension": ".py",
   "mimetype": "text/x-python",
   "name": "python",
   "nbconvert_exporter": "python",
   "pygments_lexer": "ipython3",
   "version": "3.7.7"
  }
 },
 "nbformat": 4,
 "nbformat_minor": 4
}

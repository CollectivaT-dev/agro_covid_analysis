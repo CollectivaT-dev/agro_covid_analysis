{
 "cells": [
  {
   "cell_type": "markdown",
   "metadata": {},
   "source": [
    "## Imports"
   ]
  },
  {
   "cell_type": "code",
   "execution_count": 1,
   "metadata": {},
   "outputs": [
    {
     "name": "stderr",
     "output_type": "stream",
     "text": [
      "/home/afab/timeoverflow/env/lib/python3.6/site-packages/fuzzywuzzy/fuzz.py:11: UserWarning: Using slow pure-python SequenceMatcher. Install python-Levenshtein to remove this warning\n",
      "  warnings.warn('Using slow pure-python SequenceMatcher. Install python-Levenshtein to remove this warning')\n"
     ]
    }
   ],
   "source": [
    "from pathlib import Path # reads paths in the current OS\n",
    "import pandas as pd\n",
    "import numpy as np\n",
    "import yaml\n",
    "import utils as ut"
   ]
  },
  {
   "cell_type": "markdown",
   "metadata": {},
   "source": [
    "## Reading"
   ]
  },
  {
   "cell_type": "code",
   "execution_count": 2,
   "metadata": {},
   "outputs": [
    {
     "name": "stdout",
     "output_type": "stream",
     "text": [
      "(226, 8)\n"
     ]
    },
    {
     "data": {
      "text/html": [
       "<div>\n",
       "<style scoped>\n",
       "    .dataframe tbody tr th:only-of-type {\n",
       "        vertical-align: middle;\n",
       "    }\n",
       "\n",
       "    .dataframe tbody tr th {\n",
       "        vertical-align: top;\n",
       "    }\n",
       "\n",
       "    .dataframe thead th {\n",
       "        text-align: right;\n",
       "    }\n",
       "</style>\n",
       "<table border=\"1\" class=\"dataframe\">\n",
       "  <thead>\n",
       "    <tr style=\"text-align: right;\">\n",
       "      <th></th>\n",
       "      <th>PROJECTE</th>\n",
       "      <th>URGENT</th>\n",
       "      <th>PRODUCTE(S)</th>\n",
       "      <th>MUNICIPI</th>\n",
       "      <th>COM COMPRAR</th>\n",
       "      <th>OBSERVACIONS</th>\n",
       "      <th>CCPAE</th>\n",
       "      <th>COMARCA</th>\n",
       "    </tr>\n",
       "  </thead>\n",
       "  <tbody>\n",
       "    <tr>\n",
       "      <th>0</th>\n",
       "      <td>3 Fermentats I Un Destí</td>\n",
       "      <td>Sí</td>\n",
       "      <td>1 Pa de Massa Mare Natural de 2kg 2 Vins Natur...</td>\n",
       "      <td>Torelló</td>\n",
       "      <td>Ho repartim a domicili per tot Osona resta de ...</td>\n",
       "      <td>Ens fa il.lusió poder colaborar per oferir-vos...</td>\n",
       "      <td>Sí</td>\n",
       "      <td>Osona</td>\n",
       "    </tr>\n",
       "    <tr>\n",
       "      <th>1</th>\n",
       "      <td>30 Cabres</td>\n",
       "      <td></td>\n",
       "      <td>Formatges de llet crua de cabres que pasturen ...</td>\n",
       "      <td>Bellver de Cerdanya</td>\n",
       "      <td>Contacta per telefon, mail o xarxes socials (@...</td>\n",
       "      <td>Tots els nostres formatges estan elaborats amb...</td>\n",
       "      <td></td>\n",
       "      <td>Cerdanya</td>\n",
       "    </tr>\n",
       "    <tr>\n",
       "      <th>2</th>\n",
       "      <td>7 de Ribera Hostal-Agrobotiga</td>\n",
       "      <td>Sí</td>\n",
       "      <td>Verdures de producció propia</td>\n",
       "      <td>Móra d'Ebre</td>\n",
       "      <td>A l'agrobotiga dijous i divendres de 10:00 a 1...</td>\n",
       "      <td>www.biosferacomestible.cat</td>\n",
       "      <td></td>\n",
       "      <td>Ribera d’Ebre</td>\n",
       "    </tr>\n",
       "    <tr>\n",
       "      <th>3</th>\n",
       "      <td>A Granel</td>\n",
       "      <td></td>\n",
       "      <td>Cosmètica, productes d’higiène i neteja ecològics</td>\n",
       "      <td>Barcelona</td>\n",
       "      <td>Venda directa i en punts de recollida per tota...</td>\n",
       "      <td></td>\n",
       "      <td>Sí</td>\n",
       "      <td>Barcelona</td>\n",
       "    </tr>\n",
       "    <tr>\n",
       "      <th>4</th>\n",
       "      <td>AgroMontserratí - Cooperativa del Montserratí</td>\n",
       "      <td></td>\n",
       "      <td>Fruita, verdura, transformats, elaborats, pins...</td>\n",
       "      <td>Olesa de Montserrat</td>\n",
       "      <td>A través del Whatsap i Telèfon - XXXXXXXXX A l...</td>\n",
       "      <td>www.agromontserrati.cat</td>\n",
       "      <td></td>\n",
       "      <td>Baix Llobregat</td>\n",
       "    </tr>\n",
       "  </tbody>\n",
       "</table>\n",
       "</div>"
      ],
      "text/plain": [
       "                                        PROJECTE URGENT  \\\n",
       "0                        3 Fermentats I Un Destí     Sí   \n",
       "1                                      30 Cabres          \n",
       "2                  7 de Ribera Hostal-Agrobotiga     Sí   \n",
       "3                                       A Granel          \n",
       "4  AgroMontserratí - Cooperativa del Montserratí          \n",
       "\n",
       "                                         PRODUCTE(S)             MUNICIPI  \\\n",
       "0  1 Pa de Massa Mare Natural de 2kg 2 Vins Natur...              Torelló   \n",
       "1  Formatges de llet crua de cabres que pasturen ...  Bellver de Cerdanya   \n",
       "2                       Verdures de producció propia          Móra d'Ebre   \n",
       "3  Cosmètica, productes d’higiène i neteja ecològics            Barcelona   \n",
       "4  Fruita, verdura, transformats, elaborats, pins...  Olesa de Montserrat   \n",
       "\n",
       "                                         COM COMPRAR  \\\n",
       "0  Ho repartim a domicili per tot Osona resta de ...   \n",
       "1  Contacta per telefon, mail o xarxes socials (@...   \n",
       "2  A l'agrobotiga dijous i divendres de 10:00 a 1...   \n",
       "3  Venda directa i en punts de recollida per tota...   \n",
       "4  A través del Whatsap i Telèfon - XXXXXXXXX A l...   \n",
       "\n",
       "                                        OBSERVACIONS CCPAE         COMARCA  \n",
       "0  Ens fa il.lusió poder colaborar per oferir-vos...    Sí           Osona  \n",
       "1  Tots els nostres formatges estan elaborats amb...              Cerdanya  \n",
       "2                         www.biosferacomestible.cat         Ribera d’Ebre  \n",
       "3                                                       Sí       Barcelona  \n",
       "4                            www.agromontserrati.cat        Baix Llobregat  "
      ]
     },
     "execution_count": 2,
     "metadata": {},
     "output_type": "execute_result"
    }
   ],
   "source": [
    "with open(Path('conf') / 'paths.yaml') as file:\n",
    "    config = yaml.full_load(file)\n",
    "with open(Path('conf') / 'com_comprar_kw.yaml') as file:\n",
    "    com_comprar = yaml.full_load(file)\n",
    "with open(Path('conf') / 'product_list.yaml') as file:\n",
    "    product_cat = yaml.full_load(file)\n",
    "with open(Path('conf') / 'payment_list.yaml') as file:\n",
    "    payment_cat = yaml.full_load(file)   \n",
    "with open(Path('conf') / 'sector_list.yaml') as file:\n",
    "    sectors_dict = yaml.full_load(file)\n",
    "    \n",
    "data         = pd.read_csv(Path(config['input_path']) / \"abastiment.csv\", sep=\",\").fillna('')\n",
    "locations_df = pd.read_csv(Path(config['input_path']) /  'municipis_merge.csv').fillna('')\n",
    "\n",
    "print(data.shape)\n",
    "\n",
    "data.head()"
   ]
  },
  {
   "cell_type": "code",
   "execution_count": 3,
   "metadata": {},
   "outputs": [
    {
     "name": "stdout",
     "output_type": "stream",
     "text": [
      "(2256, 16)\n"
     ]
    },
    {
     "data": {
      "text/html": [
       "<div>\n",
       "<style scoped>\n",
       "    .dataframe tbody tr th:only-of-type {\n",
       "        vertical-align: middle;\n",
       "    }\n",
       "\n",
       "    .dataframe tbody tr th {\n",
       "        vertical-align: top;\n",
       "    }\n",
       "\n",
       "    .dataframe thead th {\n",
       "        text-align: right;\n",
       "    }\n",
       "</style>\n",
       "<table border=\"1\" class=\"dataframe\">\n",
       "  <thead>\n",
       "    <tr style=\"text-align: right;\">\n",
       "      <th></th>\n",
       "      <th>Nom productor</th>\n",
       "      <th>Núm. acreditació</th>\n",
       "      <th>Persona jurídica</th>\n",
       "      <th>Persona física</th>\n",
       "      <th>NIF</th>\n",
       "      <th>Adreça</th>\n",
       "      <th>Codi postal</th>\n",
       "      <th>Municipi</th>\n",
       "      <th>Comarca</th>\n",
       "      <th>Productes</th>\n",
       "      <th>Grups Productes</th>\n",
       "      <th>Venda directa</th>\n",
       "      <th>Venda circuit curt</th>\n",
       "      <th>Telèfon</th>\n",
       "      <th>Correu electrònic</th>\n",
       "      <th>MARCA</th>\n",
       "    </tr>\n",
       "  </thead>\n",
       "  <tbody>\n",
       "    <tr>\n",
       "      <th>0</th>\n",
       "      <td>A. TORRES S.C.P.</td>\n",
       "      <td>VP/P/2693/2017</td>\n",
       "      <td>X</td>\n",
       "      <td></td>\n",
       "      <td>J43991181</td>\n",
       "      <td>C MAJOR 1</td>\n",
       "      <td>43424</td>\n",
       "      <td>SARRAL</td>\n",
       "      <td>CONCA DE BARBERÀ</td>\n",
       "      <td>Carn, embotits i derivats carnis de cabrum, Ca...</td>\n",
       "      <td>CEREALS, LLEGUMINOSES, VINYA</td>\n",
       "      <td>Venda directa</td>\n",
       "      <td>Venda circuit curt</td>\n",
       "      <td>6.76214e+08</td>\n",
       "      <td>antorres85@hotmail.com</td>\n",
       "      <td></td>\n",
       "    </tr>\n",
       "    <tr>\n",
       "      <th>1</th>\n",
       "      <td>A.R. SOLDEVILA, S.C.P..</td>\n",
       "      <td>VP/P/0512/2013</td>\n",
       "      <td>X</td>\n",
       "      <td></td>\n",
       "      <td>J60727948</td>\n",
       "      <td>Lloc Fontdeconangla 0</td>\n",
       "      <td>8573</td>\n",
       "      <td>ORÍS</td>\n",
       "      <td>OSONA</td>\n",
       "      <td>BLAT TOU, PATATA, CARABASSA</td>\n",
       "      <td>CEREALS D'ESTIU, CEREALS, HORTÍCOLES</td>\n",
       "      <td>Venda directa</td>\n",
       "      <td></td>\n",
       "      <td>9.38591e+08</td>\n",
       "      <td>jordisoldevilarifa@yahoo.es</td>\n",
       "      <td></td>\n",
       "    </tr>\n",
       "    <tr>\n",
       "      <th>2</th>\n",
       "      <td>ABEL MULLERAS, JORDI</td>\n",
       "      <td>VP/P/0868/2013</td>\n",
       "      <td></td>\n",
       "      <td>X</td>\n",
       "      <td></td>\n",
       "      <td></td>\n",
       "      <td>17240</td>\n",
       "      <td>LLAGOSTERA</td>\n",
       "      <td>GIRONÈS</td>\n",
       "      <td>Mel</td>\n",
       "      <td></td>\n",
       "      <td>Venda directa</td>\n",
       "      <td></td>\n",
       "      <td></td>\n",
       "      <td></td>\n",
       "      <td></td>\n",
       "    </tr>\n",
       "    <tr>\n",
       "      <th>3</th>\n",
       "      <td>ABELLI DALMAU, JAUME</td>\n",
       "      <td>VP/P/0867/2013</td>\n",
       "      <td></td>\n",
       "      <td>X</td>\n",
       "      <td></td>\n",
       "      <td></td>\n",
       "      <td>17251</td>\n",
       "      <td>CALONGE</td>\n",
       "      <td>BAIX EMPORDÀ</td>\n",
       "      <td>ORDI, CIVADA, PATATA, OLIVES, RAÏM VI, PRESSEC...</td>\n",
       "      <td>CEREALS, FRUITA DOLÇA, FRUITS DE CLOSCA, HORTÍ...</td>\n",
       "      <td>Venda directa</td>\n",
       "      <td></td>\n",
       "      <td></td>\n",
       "      <td></td>\n",
       "      <td>COPERATIVA SORT</td>\n",
       "    </tr>\n",
       "    <tr>\n",
       "      <th>4</th>\n",
       "      <td>ACTEL, SCCL.AGRUP.COOP.AGR.TERRES LLEIDA</td>\n",
       "      <td>VP/AP/0031/2013</td>\n",
       "      <td>X</td>\n",
       "      <td></td>\n",
       "      <td>F25023938</td>\n",
       "      <td>CTRA. VALL D'ARAN, KM. 3 (ACTEL 2)</td>\n",
       "      <td>25196</td>\n",
       "      <td>ALFARRÀS</td>\n",
       "      <td>SEGRIÀ</td>\n",
       "      <td></td>\n",
       "      <td></td>\n",
       "      <td>Venda directa</td>\n",
       "      <td>Venda circuit curt</td>\n",
       "      <td>9.73701e+08</td>\n",
       "      <td>dmontagut@actel.es</td>\n",
       "      <td>MOLI CAL PAU</td>\n",
       "    </tr>\n",
       "  </tbody>\n",
       "</table>\n",
       "</div>"
      ],
      "text/plain": [
       "                              Nom productor Núm. acreditació Persona jurídica  \\\n",
       "0                          A. TORRES S.C.P.   VP/P/2693/2017                X   \n",
       "1                   A.R. SOLDEVILA, S.C.P..   VP/P/0512/2013                X   \n",
       "2                      ABEL MULLERAS, JORDI   VP/P/0868/2013                    \n",
       "3                      ABELLI DALMAU, JAUME   VP/P/0867/2013                    \n",
       "4  ACTEL, SCCL.AGRUP.COOP.AGR.TERRES LLEIDA  VP/AP/0031/2013                X   \n",
       "\n",
       "  Persona física        NIF                              Adreça  Codi postal  \\\n",
       "0                 J43991181                           C MAJOR 1        43424   \n",
       "1                 J60727948               Lloc Fontdeconangla 0         8573   \n",
       "2              X                                                       17240   \n",
       "3              X                                                       17251   \n",
       "4                 F25023938  CTRA. VALL D'ARAN, KM. 3 (ACTEL 2)        25196   \n",
       "\n",
       "     Municipi           Comarca  \\\n",
       "0      SARRAL  CONCA DE BARBERÀ   \n",
       "1        ORÍS             OSONA   \n",
       "2  LLAGOSTERA           GIRONÈS   \n",
       "3     CALONGE      BAIX EMPORDÀ   \n",
       "4    ALFARRÀS            SEGRIÀ   \n",
       "\n",
       "                                           Productes  \\\n",
       "0  Carn, embotits i derivats carnis de cabrum, Ca...   \n",
       "1                        BLAT TOU, PATATA, CARABASSA   \n",
       "2                                                Mel   \n",
       "3  ORDI, CIVADA, PATATA, OLIVES, RAÏM VI, PRESSEC...   \n",
       "4                                                      \n",
       "\n",
       "                                     Grups Productes  Venda directa  \\\n",
       "0                       CEREALS, LLEGUMINOSES, VINYA  Venda directa   \n",
       "1               CEREALS D'ESTIU, CEREALS, HORTÍCOLES  Venda directa   \n",
       "2                                                     Venda directa   \n",
       "3  CEREALS, FRUITA DOLÇA, FRUITS DE CLOSCA, HORTÍ...  Venda directa   \n",
       "4                                                     Venda directa   \n",
       "\n",
       "   Venda circuit curt      Telèfon            Correu electrònic  \\\n",
       "0  Venda circuit curt  6.76214e+08       antorres85@hotmail.com   \n",
       "1                      9.38591e+08  jordisoldevilarifa@yahoo.es   \n",
       "2                                                                 \n",
       "3                                                                 \n",
       "4  Venda circuit curt  9.73701e+08           dmontagut@actel.es   \n",
       "\n",
       "             MARCA  \n",
       "0                   \n",
       "1                   \n",
       "2                   \n",
       "3  COPERATIVA SORT  \n",
       "4     MOLI CAL PAU  "
      ]
     },
     "execution_count": 3,
     "metadata": {},
     "output_type": "execute_result"
    }
   ],
   "source": [
    "data_gen = pd.read_csv(Path(config['input_path']\n",
    "                           ) / 'Productors_adherits_a_la_venda_de_proximitat.csv').fillna('')\n",
    "data_gen.rename(columns={'Marca Comercial':'MARCA'},inplace=True)\n",
    "print(data_gen.shape)\n",
    "data_gen.head()"
   ]
  },
  {
   "cell_type": "code",
   "execution_count": 4,
   "metadata": {},
   "outputs": [],
   "source": [
    "stopwords = ut.get_all_stopwords()"
   ]
  },
  {
   "cell_type": "code",
   "execution_count": 5,
   "metadata": {},
   "outputs": [],
   "source": [
    "delivery_patt = ['repart', 'domicil', 'envi', 'recoll', 'dist']"
   ]
  },
  {
   "cell_type": "code",
   "execution_count": 6,
   "metadata": {},
   "outputs": [],
   "source": [
    "imp_cols = ['COM COMPRAR', 'OBSERVACIONS','PRODUCTE(S)']"
   ]
  },
  {
   "cell_type": "code",
   "execution_count": 7,
   "metadata": {},
   "outputs": [],
   "source": [
    "com_typos = {\n",
    "    'Al Urgell':'Alt Urgell',\n",
    "    'Bages-Moianès':'Moianès',\n",
    "    'Moianes-Bages':'Moianès',\n",
    "    'Barcelona':'Barcelonès',\n",
    "    'Maresme-Barcelonès':'Maresme',\n",
    "    'Tarragona':'Tarragonès',\n",
    "    'Baix Montseny':'Vallès Oriental',\n",
    "    'Baixa Cerdanya':'Cerdanya',\n",
    "    'Vall Aran':\"Vall d'Aran\",\n",
    "    'Alt Maresme':'Maresme',\n",
    "    'Penedès':'Alt Penedès',\n",
    "    \"Val D'Aran\": \"Vall d'Aran\",\n",
    "    'Lluçanès':'Osona', #should we consider it a comarca?\n",
    "    \"La Seu d'Urgell\": 'Alt Urgell',\n",
    "    'El Vendrell': 'Baix Penedès',\n",
    "    'Baix Llobregates':'Baix Llobregat'\n",
    "            }"
   ]
  },
  {
   "cell_type": "markdown",
   "metadata": {},
   "source": [
    "## Pre-process columns"
   ]
  },
  {
   "cell_type": "code",
   "execution_count": 8,
   "metadata": {},
   "outputs": [
    {
     "name": "stdout",
     "output_type": "stream",
     "text": [
      "Not found: \n",
      "Not found: \n",
      "Not found: \n",
      "Not found: \n",
      "Not found: \n",
      "Not found: \n",
      "Not found: \n",
      "Not found: \n",
      "Not found: \n",
      "Not found: \n",
      "Not found: \n"
     ]
    }
   ],
   "source": [
    "data_gen['comarca_origin'] = data_gen['Comarca'].str.title().replace(com_typos)\n",
    "data_gen['comarca_origin'] = data_gen['comarca_origin'].apply(lambda x: ut.check_comarca_spelling(\n",
    "    x,locations_df['Comarca'],stopwords) if x not in locations_df['Comarca'] else x)"
   ]
  },
  {
   "cell_type": "code",
   "execution_count": 9,
   "metadata": {},
   "outputs": [
    {
     "name": "stdout",
     "output_type": "stream",
     "text": [
      "Not found: Repartim al Bages, Solsonès, Barcelonès i Berguedà\n"
     ]
    }
   ],
   "source": [
    "data['comarca_origin'] = data['COMARCA'].replace(com_typos)\n",
    "data['comarca_origin'] = data['comarca_origin'].apply(lambda x: ut.check_comarca_spelling(\n",
    "    x,locations_df['Comarca'],stopwords) if x not in locations_df['Comarca'] else x)"
   ]
  },
  {
   "cell_type": "code",
   "execution_count": 10,
   "metadata": {},
   "outputs": [],
   "source": [
    "ut.run_preprocess_on_cols(data_gen,['Productes','Grups Productes'],stopwords)"
   ]
  },
  {
   "cell_type": "code",
   "execution_count": 11,
   "metadata": {},
   "outputs": [],
   "source": [
    "ut.run_preprocess_on_cols(data,imp_cols+['comarca_origin'],stopwords)\n",
    "ut.run_preprocess_on_cols(locations_df,['Municipi', 'Comarca', 'Capital', 'Provincia'],stopwords)"
   ]
  },
  {
   "cell_type": "markdown",
   "metadata": {},
   "source": [
    "## New columns"
   ]
  },
  {
   "cell_type": "markdown",
   "metadata": {},
   "source": [
    "### Payment"
   ]
  },
  {
   "cell_type": "code",
   "execution_count": 12,
   "metadata": {},
   "outputs": [],
   "source": [
    "data = ut.get_payment_methods(data,imp_cols)"
   ]
  },
  {
   "cell_type": "markdown",
   "metadata": {},
   "source": [
    "### Locations"
   ]
  },
  {
   "cell_type": "code",
   "execution_count": 13,
   "metadata": {},
   "outputs": [],
   "source": [
    "# Dictionary to translate municipis to comarca\n",
    "mun_to_com_dict = locations_df[locations_df['Municipi']!=''].set_index('Municipi')['Comarca'].to_dict()"
   ]
  },
  {
   "cell_type": "code",
   "execution_count": 14,
   "metadata": {},
   "outputs": [],
   "source": [
    "ut.run_text_locations(data, locations_df, imp_cols, delivery_patt)"
   ]
  },
  {
   "cell_type": "code",
   "execution_count": 15,
   "metadata": {},
   "outputs": [],
   "source": [
    "data = ut.create_donde_col(data,mun_to_com_dict)"
   ]
  },
  {
   "cell_type": "markdown",
   "metadata": {},
   "source": [
    "### Binary variables"
   ]
  },
  {
   "cell_type": "code",
   "execution_count": 16,
   "metadata": {},
   "outputs": [],
   "source": [
    "ut.create_binary_var(data_gen,product_cat,'Productes'+'_prep')"
   ]
  },
  {
   "cell_type": "code",
   "execution_count": 17,
   "metadata": {},
   "outputs": [],
   "source": [
    "# create binary variables representing whether they have a payment method or not\n",
    "ut.create_binary_var(data,payment_cat,'PAGO')\n",
    "# create binary variables representing whether they have a type of product (1) or not\n",
    "ut.create_binary_var(data,product_cat,'PRODUCTE(S)'+'_prep')\n",
    "# create binary variables representing whether they have a type payment method, contact info... (1) or not\n",
    "ut.create_binary_var(data,com_comprar,'COM COMPRAR'+'_prep')\n",
    "\n",
    "# improve the website and social network searches adding another column\n",
    "data.loc[(data['web']!=1) & (data['OBSERVACIONS'+'_prep'].str.contains(\n",
    "    r'\\b'+r'\\b|\\b'.join(com_comprar['web'])+r'\\b')),'web'] = 1\n",
    "data.loc[(data['socialnet']!=1) & (data['OBSERVACIONS'+'_prep'].str.contains(\n",
    "    r'\\b'+r'\\b|\\b'.join(com_comprar['socialnet'])+r'\\b')),'socialnet'] = 1\n",
    "# improve iseco category\n",
    "data.loc[(data['iseco'] == 0) & (data['CCPAE'].isin(['Sí','En conversió'])),'iseco'] = 1"
   ]
  },
  {
   "cell_type": "markdown",
   "metadata": {},
   "source": [
    "### Sectors"
   ]
  },
  {
   "cell_type": "code",
   "execution_count": 18,
   "metadata": {},
   "outputs": [],
   "source": [
    "# Create binary variables representing whether the producer belong to a specific sector or not \n",
    "# (according to the products he/she sells and the definition of sectors given in sector_list.yaml)\n",
    "data_gen=ut.create_sectors_col(data_gen,sectors_dict)\n",
    "data=ut.create_sectors_col(data,sectors_dict)"
   ]
  },
  {
   "cell_type": "markdown",
   "metadata": {},
   "source": [
    "### Numerical columns"
   ]
  },
  {
   "cell_type": "code",
   "execution_count": 19,
   "metadata": {},
   "outputs": [],
   "source": [
    "data_gen = ut.add_numerical_cols(data_gen,more_data=False)"
   ]
  },
  {
   "cell_type": "code",
   "execution_count": 20,
   "metadata": {},
   "outputs": [],
   "source": [
    "data = ut.add_numerical_cols(data,more_data=True)\n",
    "data.loc[data['n_paym_methods']==0,'n_paym_methods'] = np.nan"
   ]
  },
  {
   "cell_type": "markdown",
   "metadata": {},
   "source": [
    "## Save"
   ]
  },
  {
   "cell_type": "code",
   "execution_count": 21,
   "metadata": {},
   "outputs": [],
   "source": [
    "data_gen.drop(['Productes_prep', 'Grups Productes_prep'],axis=1\n",
    "             ).to_csv(Path(config['input_path']) / 'vdp_clean.csv', index=False)"
   ]
  },
  {
   "cell_type": "code",
   "execution_count": 22,
   "metadata": {},
   "outputs": [],
   "source": [
    "data.drop(['PRODUCTE(S)_prep','OBSERVACIONS_prep','COM COMPRAR_prep'],axis=1\n",
    "         ).to_csv(Path(config['input_path']) / 'abastiment_clean.csv', index=False)"
   ]
  }
 ],
 "metadata": {
  "kernelspec": {
   "display_name": "Python 3",
   "language": "python",
   "name": "python3"
  },
  "language_info": {
   "codemirror_mode": {
    "name": "ipython",
    "version": 3
   },
   "file_extension": ".py",
   "mimetype": "text/x-python",
   "name": "python",
   "nbconvert_exporter": "python",
   "pygments_lexer": "ipython3",
   "version": "3.6.9"
  }
 },
 "nbformat": 4,
 "nbformat_minor": 4
}

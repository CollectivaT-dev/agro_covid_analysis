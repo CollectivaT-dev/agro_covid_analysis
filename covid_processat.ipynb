{
 "cells": [
  {
   "cell_type": "markdown",
   "metadata": {},
   "source": [
    "## Imports"
   ]
  },
  {
   "cell_type": "code",
   "execution_count": 1,
   "metadata": {},
   "outputs": [
    {
     "name": "stderr",
     "output_type": "stream",
     "text": [
      "/Users/work/.virtualenvs/dadess/lib/python3.7/site-packages/fuzzywuzzy/fuzz.py:11: UserWarning: Using slow pure-python SequenceMatcher. Install python-Levenshtein to remove this warning\n",
      "  warnings.warn('Using slow pure-python SequenceMatcher. Install python-Levenshtein to remove this warning')\n"
     ]
    }
   ],
   "source": [
    "from pathlib import Path # reads paths in the current OS\n",
    "import unicodedata\n",
    "import pandas as pd\n",
    "import numpy as np\n",
    "import json\n",
    "import re\n",
    "import yaml\n",
    "import utils as ut\n",
    "from stop_words import get_stop_words\n",
    "from unidecode import unidecode"
   ]
  },
  {
   "cell_type": "markdown",
   "metadata": {},
   "source": [
    "## Reading"
   ]
  },
  {
   "cell_type": "code",
   "execution_count": 2,
   "metadata": {},
   "outputs": [],
   "source": [
    "with open('paths.yaml') as file:\n",
    "    config = yaml.full_load(file)\n",
    "\n",
    "data         = pd.read_csv(Path(config['input_path']) / \"abastiment.csv\", sep=\",\").fillna('')\n",
    "locations_df = pd.read_csv(Path(config['input_path']) /  'municipis_merge.csv').fillna('')\n",
    "\n",
    "with open('com_comprar_kw.yaml') as file:\n",
    "    com_comprar = yaml.full_load(file)\n",
    "with open('product_list.yaml') as file:\n",
    "    product_cat = yaml.full_load(file)\n",
    "with open('payment_list.yaml') as file:\n",
    "    payment_cat = yaml.full_load(file)"
   ]
  },
  {
   "cell_type": "code",
   "execution_count": 3,
   "metadata": {},
   "outputs": [
    {
     "data": {
      "text/html": [
       "<div>\n",
       "<style scoped>\n",
       "    .dataframe tbody tr th:only-of-type {\n",
       "        vertical-align: middle;\n",
       "    }\n",
       "\n",
       "    .dataframe tbody tr th {\n",
       "        vertical-align: top;\n",
       "    }\n",
       "\n",
       "    .dataframe thead th {\n",
       "        text-align: right;\n",
       "    }\n",
       "</style>\n",
       "<table border=\"1\" class=\"dataframe\">\n",
       "  <thead>\n",
       "    <tr style=\"text-align: right;\">\n",
       "      <th></th>\n",
       "      <th>PROJECTE</th>\n",
       "      <th>URGENT</th>\n",
       "      <th>PRODUCTE(S)</th>\n",
       "      <th>MUNICIPI</th>\n",
       "      <th>COM COMPRAR</th>\n",
       "      <th>OBSERVACIONS</th>\n",
       "      <th>CCPAE</th>\n",
       "      <th>COMARCA</th>\n",
       "    </tr>\n",
       "  </thead>\n",
       "  <tbody>\n",
       "    <tr>\n",
       "      <th>0</th>\n",
       "      <td>3 Fermentats I Un Destí</td>\n",
       "      <td>Sí</td>\n",
       "      <td>1 Pa de Massa Mare Natural de 2kg 2 Vins Natur...</td>\n",
       "      <td>Torelló</td>\n",
       "      <td>Ho repartim a domicili per tot Osona resta de ...</td>\n",
       "      <td>Ens fa il.lusió poder colaborar per oferir-vos...</td>\n",
       "      <td>Sí</td>\n",
       "      <td>Osona</td>\n",
       "    </tr>\n",
       "    <tr>\n",
       "      <th>1</th>\n",
       "      <td>30 Cabres</td>\n",
       "      <td></td>\n",
       "      <td>Formatges de llet crua de cabres que pasturen ...</td>\n",
       "      <td>Bellver de Cerdanya</td>\n",
       "      <td>Contacta per telefon, mail o xarxes socials (@...</td>\n",
       "      <td>Tots els nostres formatges estan elaborats amb...</td>\n",
       "      <td></td>\n",
       "      <td>Cerdanya</td>\n",
       "    </tr>\n",
       "    <tr>\n",
       "      <th>2</th>\n",
       "      <td>7 de Ribera Hostal-Agrobotiga</td>\n",
       "      <td>Sí</td>\n",
       "      <td>Verdures de producció propia</td>\n",
       "      <td>Móra d'Ebre</td>\n",
       "      <td>A l'agrobotiga dijous i divendres de 10:00 a 1...</td>\n",
       "      <td>www.biosferacomestible.cat</td>\n",
       "      <td></td>\n",
       "      <td>Ribera d’Ebre</td>\n",
       "    </tr>\n",
       "    <tr>\n",
       "      <th>3</th>\n",
       "      <td>A Granel</td>\n",
       "      <td></td>\n",
       "      <td>Cosmètica, productes d’higiène i neteja ecològics</td>\n",
       "      <td>Barcelona</td>\n",
       "      <td>Venda directa i en punts de recollida per tota...</td>\n",
       "      <td></td>\n",
       "      <td>Sí</td>\n",
       "      <td>Barcelona</td>\n",
       "    </tr>\n",
       "    <tr>\n",
       "      <th>4</th>\n",
       "      <td>AgroMontserratí - Cooperativa del Montserratí</td>\n",
       "      <td></td>\n",
       "      <td>Fruita, verdura, transformats, elaborats, pins...</td>\n",
       "      <td>Olesa de Montserrat</td>\n",
       "      <td>A través del Whatsap i Telèfon - XXXXXXXXX A l...</td>\n",
       "      <td>www.agromontserrati.cat</td>\n",
       "      <td></td>\n",
       "      <td>Baix Llobregat</td>\n",
       "    </tr>\n",
       "  </tbody>\n",
       "</table>\n",
       "</div>"
      ],
      "text/plain": [
       "                                        PROJECTE URGENT  \\\n",
       "0                        3 Fermentats I Un Destí     Sí   \n",
       "1                                      30 Cabres          \n",
       "2                  7 de Ribera Hostal-Agrobotiga     Sí   \n",
       "3                                       A Granel          \n",
       "4  AgroMontserratí - Cooperativa del Montserratí          \n",
       "\n",
       "                                         PRODUCTE(S)             MUNICIPI  \\\n",
       "0  1 Pa de Massa Mare Natural de 2kg 2 Vins Natur...              Torelló   \n",
       "1  Formatges de llet crua de cabres que pasturen ...  Bellver de Cerdanya   \n",
       "2                       Verdures de producció propia          Móra d'Ebre   \n",
       "3  Cosmètica, productes d’higiène i neteja ecològics            Barcelona   \n",
       "4  Fruita, verdura, transformats, elaborats, pins...  Olesa de Montserrat   \n",
       "\n",
       "                                         COM COMPRAR  \\\n",
       "0  Ho repartim a domicili per tot Osona resta de ...   \n",
       "1  Contacta per telefon, mail o xarxes socials (@...   \n",
       "2  A l'agrobotiga dijous i divendres de 10:00 a 1...   \n",
       "3  Venda directa i en punts de recollida per tota...   \n",
       "4  A través del Whatsap i Telèfon - XXXXXXXXX A l...   \n",
       "\n",
       "                                        OBSERVACIONS CCPAE         COMARCA  \n",
       "0  Ens fa il.lusió poder colaborar per oferir-vos...    Sí           Osona  \n",
       "1  Tots els nostres formatges estan elaborats amb...              Cerdanya  \n",
       "2                         www.biosferacomestible.cat         Ribera d’Ebre  \n",
       "3                                                       Sí       Barcelona  \n",
       "4                            www.agromontserrati.cat        Baix Llobregat  "
      ]
     },
     "execution_count": 3,
     "metadata": {},
     "output_type": "execute_result"
    }
   ],
   "source": [
    "data.head()"
   ]
  },
  {
   "cell_type": "code",
   "execution_count": 4,
   "metadata": {},
   "outputs": [
    {
     "data": {
      "text/html": [
       "<div>\n",
       "<style scoped>\n",
       "    .dataframe tbody tr th:only-of-type {\n",
       "        vertical-align: middle;\n",
       "    }\n",
       "\n",
       "    .dataframe tbody tr th {\n",
       "        vertical-align: top;\n",
       "    }\n",
       "\n",
       "    .dataframe thead th {\n",
       "        text-align: right;\n",
       "    }\n",
       "</style>\n",
       "<table border=\"1\" class=\"dataframe\">\n",
       "  <thead>\n",
       "    <tr style=\"text-align: right;\">\n",
       "      <th></th>\n",
       "      <th>Municipi</th>\n",
       "      <th>Comarca</th>\n",
       "      <th>Capital</th>\n",
       "      <th>Provincia</th>\n",
       "    </tr>\n",
       "  </thead>\n",
       "  <tbody>\n",
       "    <tr>\n",
       "      <th>0</th>\n",
       "      <td>Abella de la Conca</td>\n",
       "      <td>Pallars Jussà</td>\n",
       "      <td>Tremp</td>\n",
       "      <td>Lleida</td>\n",
       "    </tr>\n",
       "    <tr>\n",
       "      <th>1</th>\n",
       "      <td>Castell de Mur</td>\n",
       "      <td>Pallars Jussà</td>\n",
       "      <td>Tremp</td>\n",
       "      <td>Lleida</td>\n",
       "    </tr>\n",
       "    <tr>\n",
       "      <th>2</th>\n",
       "      <td>Conca de Dalt</td>\n",
       "      <td>Pallars Jussà</td>\n",
       "      <td>Tremp</td>\n",
       "      <td>Lleida</td>\n",
       "    </tr>\n",
       "    <tr>\n",
       "      <th>3</th>\n",
       "      <td>Gavet de la Conca</td>\n",
       "      <td>Pallars Jussà</td>\n",
       "      <td>Tremp</td>\n",
       "      <td>Lleida</td>\n",
       "    </tr>\n",
       "    <tr>\n",
       "      <th>4</th>\n",
       "      <td>Isona i Conca Dellà</td>\n",
       "      <td>Pallars Jussà</td>\n",
       "      <td>Tremp</td>\n",
       "      <td>Lleida</td>\n",
       "    </tr>\n",
       "  </tbody>\n",
       "</table>\n",
       "</div>"
      ],
      "text/plain": [
       "              Municipi        Comarca Capital Provincia\n",
       "0   Abella de la Conca  Pallars Jussà   Tremp    Lleida\n",
       "1       Castell de Mur  Pallars Jussà   Tremp    Lleida\n",
       "2        Conca de Dalt  Pallars Jussà   Tremp    Lleida\n",
       "3    Gavet de la Conca  Pallars Jussà   Tremp    Lleida\n",
       "4  Isona i Conca Dellà  Pallars Jussà   Tremp    Lleida"
      ]
     },
     "execution_count": 4,
     "metadata": {},
     "output_type": "execute_result"
    }
   ],
   "source": [
    "locations_df.head()"
   ]
  },
  {
   "cell_type": "code",
   "execution_count": 5,
   "metadata": {},
   "outputs": [],
   "source": [
    "#load a set of stop words\n",
    "stopwords = get_stop_words('catalan')\n",
    "#add new stopwords\n",
    "newStopWords = ['que','des', 'al', 'del', 'ho', 'd', 'l','per','tambe', 'fins',\n",
    "               'a', 'cap', 'hi', 'ni', 'no']\n",
    "stopwords.extend(newStopWords)"
   ]
  },
  {
   "cell_type": "code",
   "execution_count": 6,
   "metadata": {},
   "outputs": [],
   "source": [
    "delivery_patt = ['repart', 'domicil', 'envi', 'recoll', 'dist']"
   ]
  },
  {
   "cell_type": "code",
   "execution_count": 7,
   "metadata": {},
   "outputs": [],
   "source": [
    "# comarca_new is necessary because it contains some \"repartim a...\" text\n",
    "cols_to_extract_locs = ['COM COMPRAR', 'OBSERVACIONS', 'comarca_new']"
   ]
  },
  {
   "cell_type": "code",
   "execution_count": 8,
   "metadata": {},
   "outputs": [],
   "source": [
    "com_typos = {\n",
    "    'Al Urgell':'Alt Urgell',\n",
    "    'Bages-Moianès':'Moianès',\n",
    "    'Moianes-Bages':'Moianès',\n",
    "    'Barcelona':'Barcelonès',\n",
    "    'Maresme-Barcelonès':'Maresme',\n",
    "    'Tarragona':'Tarragonès',\n",
    "    'Baix Montseny':'Vallès Oriental',\n",
    "    'Baixa Cerdanya':'Cerdanya',\n",
    "    'Vall Aran':\"Vall d'Aran\",\n",
    "    'Alt Maresme':'Maresme',\n",
    "    'Penedès':'Alt Penedès',\n",
    "    'Lluçanès':'Osona', #should we consider it a comarca?\n",
    "            }"
   ]
  },
  {
   "cell_type": "markdown",
   "metadata": {},
   "source": [
    "## Pre-process columns"
   ]
  },
  {
   "cell_type": "code",
   "execution_count": 9,
   "metadata": {},
   "outputs": [],
   "source": [
    "data['comarca_new'] = data['COMARCA'].replace(com_typos)"
   ]
  },
  {
   "cell_type": "code",
   "execution_count": 10,
   "metadata": {},
   "outputs": [
    {
     "name": "stdout",
     "output_type": "stream",
     "text": [
      "Not found: Repartim al Bages, Solsonès, Barcelonès i Berguedà\n"
     ]
    }
   ],
   "source": [
    "data['comarca_new'] = data['comarca_new'].apply(lambda x: ut.check_comarca_spelling(\n",
    "    x,locations_df['Comarca'],stopwords) if x not in locations_df['Comarca'] else x)"
   ]
  },
  {
   "cell_type": "code",
   "execution_count": 11,
   "metadata": {},
   "outputs": [],
   "source": [
    "## Creating the field 'comarca_origin': a clean version of 'COMARCA'\n",
    "data=pd.merge(data,locations_df[['Municipi', 'Comarca']], how='left', left_on='MUNICIPI', right_on='Municipi')\n",
    "\n",
    "data['comarca_origin']=data.comarca_new\n",
    "data.loc[data.comarca_origin.str.contains('NOTFOUND'), 'comarca_origin']=data.Comarca\n",
    "data.drop(['Municipi', 'Comarca'],axis=1,inplace=True)\n",
    "\n",
    "##TODO: improve this part using the dict municipio to comarca..."
   ]
  },
  {
   "cell_type": "code",
   "execution_count": 12,
   "metadata": {},
   "outputs": [],
   "source": [
    "#data[data.COMARCA=='Repartim al Bages, Solsonès, Barcelonès i Berguedà'].head()"
   ]
  },
  {
   "cell_type": "code",
   "execution_count": 13,
   "metadata": {},
   "outputs": [],
   "source": [
    "for col in cols_to_extract_locs+['PRODUCTE(S)']:\n",
    "    data[col+'_prep'] = data[col].apply(lambda x: ut.pre_process(x, stopwords,sw=True))\n",
    "\n",
    "for col in ['Municipi', 'Comarca', 'Capital', 'Provincia']:\n",
    "    locations_df[col+'_prep'] = locations_df[col].apply(lambda x: ut.pre_process(x, stopwords,sw=True))"
   ]
  },
  {
   "cell_type": "markdown",
   "metadata": {},
   "source": [
    "## New columns"
   ]
  },
  {
   "cell_type": "markdown",
   "metadata": {},
   "source": [
    "### Payment"
   ]
  },
  {
   "cell_type": "code",
   "execution_count": 14,
   "metadata": {},
   "outputs": [],
   "source": [
    "data['PAGO'] = ''\n",
    "pago = {'efectiu':'efectiu', \n",
    "        'bizum':'bizum', \n",
    "        'transferencia previa':'transferencia', \n",
    "        'targeta':'targeta'}\n",
    "for c in ['COM COMPRAR_prep', 'OBSERVACIONS_prep']:\n",
    "    for k,v in pago.items():\n",
    "        if data[data[c].str.contains(r'\\b'+v+r'\\b')].shape[0]!=0:\n",
    "            ind = data[data[c].str.contains(r'\\b'+v+r'\\b')].index\n",
    "            data.loc[ind,'PAGO'] = data.loc[ind]['PAGO'] +','+ k\n",
    "data['PAGO'] = data['PAGO'].str.strip(',')"
   ]
  },
  {
   "cell_type": "markdown",
   "metadata": {},
   "source": [
    "### Locations"
   ]
  },
  {
   "cell_type": "code",
   "execution_count": 15,
   "metadata": {},
   "outputs": [],
   "source": [
    "for data_field in cols_to_extract_locs:\n",
    "    for loc in ['Comarca','Capital','Provincia','Municipi']:\n",
    "        # obtain the locations from the free text fields\n",
    "        ut.get_text_locations(data, loc.lower(),data_field,locations_df,loc,delivery_patt)"
   ]
  },
  {
   "cell_type": "code",
   "execution_count": 16,
   "metadata": {},
   "outputs": [],
   "source": [
    "# Dictionary to translate municipis to comarca\n",
    "mun_to_com_dict = locations_df[locations_df['Municipi']!=''].set_index('Municipi')['Comarca'].to_dict()"
   ]
  },
  {
   "cell_type": "code",
   "execution_count": 17,
   "metadata": {},
   "outputs": [],
   "source": [
    "data[['capital','municipi']] = data[['capital','municipi']].replace(mun_to_com_dict,regex=True)\n",
    "data['DONDE']        = (data['capital']+','+data['municipi']+','+data['comarca']\n",
    "                               ).str.strip(',').str.split(',')\n",
    "data.drop(['capital','municipi', 'comarca_new_prep','comarca_new','comarca'],axis=1,inplace=True)"
   ]
  },
  {
   "cell_type": "code",
   "execution_count": 18,
   "metadata": {},
   "outputs": [],
   "source": [
    "data['DONDE'] = data['DONDE'].apply(lambda x: ','.join(set(x)))\n",
    "data['DONDE'] = data['DONDE'].str.replace(r'\\bCatalunya\\b','Tota Catalunya')"
   ]
  },
  {
   "cell_type": "markdown",
   "metadata": {},
   "source": [
    "### Number of delivery regions"
   ]
  },
  {
   "cell_type": "code",
   "execution_count": 19,
   "metadata": {},
   "outputs": [],
   "source": [
    "# Creating variable about number of comarcas where they deliver:\n",
    "data['n_comarcas_delivery']=data['DONDE'].apply(lambda x: x.count(',')+1 if 'Catalunya' not in x else 42)\n"
   ]
  },
  {
   "cell_type": "markdown",
   "metadata": {},
   "source": [
    "### Binary variables"
   ]
  },
  {
   "cell_type": "code",
   "execution_count": 20,
   "metadata": {},
   "outputs": [],
   "source": [
    "# create binary variables representing whether they have a payment method or not\n",
    "for key, val in payment_cat.items():\n",
    "    data[key]=0\n",
    "    data.loc[data['PAGO'].str.contains(r'\\b'+r'\\b|\\b'.join(val)+r'\\b'),key] = 1\n",
    "    \n",
    "# create binary variables representing whether they have a type of product (1) or not\n",
    "for key, val in product_cat.items():\n",
    "    data[key]=0\n",
    "    data.loc[data['PRODUCTE(S)'+'_prep'].str.contains(r'\\b'+r'\\b|\\b'.join(val)+r'\\b'),key] = 1\n",
    "    \n",
    "# create binary variables representing whether they have a type payment method, contact info... (1) or not\n",
    "for key, val in com_comprar.items():\n",
    "    data[key]=0\n",
    "    data.loc[data['COM COMPRAR'+'_prep'].str.contains(r'\\b'+r'\\b|\\b'.join(val)+r'\\b'),key] = 1\n",
    "# improve the website and social network searches adding another column\n",
    "data.loc[(data['web']!=1) & (data['OBSERVACIONS'+'_prep'].str.contains(\n",
    "    r'\\b'+r'\\b|\\b'.join(com_comprar['web'])+r'\\b')),'web'] = 1\n",
    "data.loc[(data['socialnet']!=1) & (data['OBSERVACIONS'+'_prep'].str.contains(\n",
    "    r'\\b'+r'\\b|\\b'.join(com_comprar['socialnet'])+r'\\b')),'socialnet'] = 1"
   ]
  },
  {
   "cell_type": "markdown",
   "metadata": {},
   "source": [
    "### Number of type of products"
   ]
  },
  {
   "cell_type": "code",
   "execution_count": 21,
   "metadata": {},
   "outputs": [],
   "source": [
    "# Creating variables about number of products sold:\n",
    "data['n_main_prod'] = data['meat'] + data['fruit'] + data['vegetables']\n",
    "data['n_other_prod'] = data['flowers'] + data['charcuterie'] + data['legumes'] + data['mushrooms'] + data['rice'] +\\\n",
    "    data['flour_cereals'] + data['oil_olives_vinager'] + data['eggs'] + data['dairies'] +\\\n",
    "    data['herbs_spices'] + data['hygiene_medicines'] + data['alcohol'] +\\\n",
    "    data['fruit_veggies_products'] + data['drinks'] + data['bread_pastries'] +\\\n",
    "    data['pasta'] + data['others']\n",
    "data['n_tot_prod'] = data['n_main_prod'] + data['n_other_prod']"
   ]
  },
  {
   "cell_type": "markdown",
   "metadata": {},
   "source": [
    "### Number of payment methods"
   ]
  },
  {
   "cell_type": "code",
   "execution_count": 22,
   "metadata": {},
   "outputs": [],
   "source": [
    "# Creating variable about number of payment methods:\n",
    "data['n_paym_methods']=data.paym_bizum+data.paym_cash+data.paym_card+data.paym_transf"
   ]
  },
  {
   "cell_type": "markdown",
   "metadata": {},
   "source": [
    "## Save"
   ]
  },
  {
   "cell_type": "code",
   "execution_count": 23,
   "metadata": {},
   "outputs": [],
   "source": [
    "data.drop(['PRODUCTE(S)_prep','OBSERVACIONS_prep','COM COMPRAR_prep'],axis=1\n",
    "         ).to_csv(Path(config['input_path']) / 'abastiment_new.csv', index=False)"
   ]
  },
  {
   "cell_type": "code",
   "execution_count": 24,
   "metadata": {},
   "outputs": [
    {
     "name": "stdout",
     "output_type": "stream",
     "text": [
      "Index(['PROJECTE', 'URGENT', 'PRODUCTE(S)', 'MUNICIPI', 'COM COMPRAR',\n",
      "       'OBSERVACIONS', 'CCPAE', 'COMARCA', 'comarca_origin',\n",
      "       'COM COMPRAR_prep', 'OBSERVACIONS_prep', 'PRODUCTE(S)_prep', 'PAGO',\n",
      "       'provincia', 'DONDE', 'n_comarcas_delivery', 'paym_card', 'paym_cash',\n",
      "       'paym_bizum', 'paym_transf', 'fruit', 'vegetables', 'legumes', 'meat',\n",
      "       'charcuterie', 'mushrooms', 'rice', 'flour_cereals',\n",
      "       'oil_olives_vinager', 'eggs', 'dairies', 'herbs_spices',\n",
      "       'hygiene_medicines', 'alcohol', 'fruit_veggies_products', 'drinks',\n",
      "       'flowers', 'bread_pastries', 'pasta', 'others', 'iseco', 'delivery',\n",
      "       'mail', 'web', 'pickup', 'shop', 'market', 'phone', 'orders',\n",
      "       'whatsapp', 'socialnet', 'n_main_prod', 'n_other_prod', 'n_tot_prod',\n",
      "       'n_paym_methods'],\n",
      "      dtype='object')\n"
     ]
    },
    {
     "data": {
      "text/html": [
       "<div>\n",
       "<style scoped>\n",
       "    .dataframe tbody tr th:only-of-type {\n",
       "        vertical-align: middle;\n",
       "    }\n",
       "\n",
       "    .dataframe tbody tr th {\n",
       "        vertical-align: top;\n",
       "    }\n",
       "\n",
       "    .dataframe thead th {\n",
       "        text-align: right;\n",
       "    }\n",
       "</style>\n",
       "<table border=\"1\" class=\"dataframe\">\n",
       "  <thead>\n",
       "    <tr style=\"text-align: right;\">\n",
       "      <th></th>\n",
       "      <th>PROJECTE</th>\n",
       "      <th>URGENT</th>\n",
       "      <th>PRODUCTE(S)</th>\n",
       "      <th>MUNICIPI</th>\n",
       "      <th>COM COMPRAR</th>\n",
       "      <th>OBSERVACIONS</th>\n",
       "      <th>CCPAE</th>\n",
       "      <th>COMARCA</th>\n",
       "      <th>comarca_origin</th>\n",
       "      <th>COM COMPRAR_prep</th>\n",
       "      <th>...</th>\n",
       "      <th>shop</th>\n",
       "      <th>market</th>\n",
       "      <th>phone</th>\n",
       "      <th>orders</th>\n",
       "      <th>whatsapp</th>\n",
       "      <th>socialnet</th>\n",
       "      <th>n_main_prod</th>\n",
       "      <th>n_other_prod</th>\n",
       "      <th>n_tot_prod</th>\n",
       "      <th>n_paym_methods</th>\n",
       "    </tr>\n",
       "  </thead>\n",
       "  <tbody>\n",
       "    <tr>\n",
       "      <th>0</th>\n",
       "      <td>3 Fermentats I Un Destí</td>\n",
       "      <td>Sí</td>\n",
       "      <td>1 Pa de Massa Mare Natural de 2kg 2 Vins Natur...</td>\n",
       "      <td>Torelló</td>\n",
       "      <td>Ho repartim a domicili per tot Osona resta de ...</td>\n",
       "      <td>Ens fa il.lusió poder colaborar per oferir-vos...</td>\n",
       "      <td>Sí</td>\n",
       "      <td>Osona</td>\n",
       "      <td>Osona</td>\n",
       "      <td>repartim domicili osona resta catalunya consul...</td>\n",
       "      <td>...</td>\n",
       "      <td>0</td>\n",
       "      <td>0</td>\n",
       "      <td>0</td>\n",
       "      <td>0</td>\n",
       "      <td>0</td>\n",
       "      <td>0</td>\n",
       "      <td>0</td>\n",
       "      <td>3</td>\n",
       "      <td>3</td>\n",
       "      <td>0</td>\n",
       "    </tr>\n",
       "    <tr>\n",
       "      <th>1</th>\n",
       "      <td>30 Cabres</td>\n",
       "      <td></td>\n",
       "      <td>Formatges de llet crua de cabres que pasturen ...</td>\n",
       "      <td>Bellver de Cerdanya</td>\n",
       "      <td>Contacta per telefon, mail o xarxes socials (@...</td>\n",
       "      <td>Tots els nostres formatges estan elaborats amb...</td>\n",
       "      <td></td>\n",
       "      <td>Cerdanya</td>\n",
       "      <td>Cerdanya</td>\n",
       "      <td>contacta telefon mail xarxes socials cabres mi...</td>\n",
       "      <td>...</td>\n",
       "      <td>0</td>\n",
       "      <td>0</td>\n",
       "      <td>1</td>\n",
       "      <td>0</td>\n",
       "      <td>0</td>\n",
       "      <td>1</td>\n",
       "      <td>0</td>\n",
       "      <td>1</td>\n",
       "      <td>1</td>\n",
       "      <td>0</td>\n",
       "    </tr>\n",
       "    <tr>\n",
       "      <th>2</th>\n",
       "      <td>7 de Ribera Hostal-Agrobotiga</td>\n",
       "      <td>Sí</td>\n",
       "      <td>Verdures de producció propia</td>\n",
       "      <td>Móra d'Ebre</td>\n",
       "      <td>A l'agrobotiga dijous i divendres de 10:00 a 1...</td>\n",
       "      <td>www.biosferacomestible.cat</td>\n",
       "      <td></td>\n",
       "      <td>Ribera d’Ebre</td>\n",
       "      <td>Ribera d'Ebre</td>\n",
       "      <td>agrobotiga dijous divendres dijous tarde repar...</td>\n",
       "      <td>...</td>\n",
       "      <td>1</td>\n",
       "      <td>0</td>\n",
       "      <td>0</td>\n",
       "      <td>0</td>\n",
       "      <td>0</td>\n",
       "      <td>0</td>\n",
       "      <td>1</td>\n",
       "      <td>0</td>\n",
       "      <td>1</td>\n",
       "      <td>0</td>\n",
       "    </tr>\n",
       "    <tr>\n",
       "      <th>3</th>\n",
       "      <td>A Granel</td>\n",
       "      <td></td>\n",
       "      <td>Cosmètica, productes d’higiène i neteja ecològics</td>\n",
       "      <td>Barcelona</td>\n",
       "      <td>Venda directa i en punts de recollida per tota...</td>\n",
       "      <td></td>\n",
       "      <td>Sí</td>\n",
       "      <td>Barcelona</td>\n",
       "      <td>Barcelonès</td>\n",
       "      <td>venda directa punts recollida tota catalunya d...</td>\n",
       "      <td>...</td>\n",
       "      <td>0</td>\n",
       "      <td>0</td>\n",
       "      <td>0</td>\n",
       "      <td>0</td>\n",
       "      <td>0</td>\n",
       "      <td>0</td>\n",
       "      <td>0</td>\n",
       "      <td>1</td>\n",
       "      <td>1</td>\n",
       "      <td>0</td>\n",
       "    </tr>\n",
       "    <tr>\n",
       "      <th>4</th>\n",
       "      <td>AgroMontserratí - Cooperativa del Montserratí</td>\n",
       "      <td></td>\n",
       "      <td>Fruita, verdura, transformats, elaborats, pins...</td>\n",
       "      <td>Olesa de Montserrat</td>\n",
       "      <td>A través del Whatsap i Telèfon - XXXXXXXXX A l...</td>\n",
       "      <td>www.agromontserrati.cat</td>\n",
       "      <td></td>\n",
       "      <td>Baix Llobregat</td>\n",
       "      <td>Baix Llobregat</td>\n",
       "      <td>traves whatsap telefon xxxxxxxxx agrobotiga c ...</td>\n",
       "      <td>...</td>\n",
       "      <td>1</td>\n",
       "      <td>0</td>\n",
       "      <td>1</td>\n",
       "      <td>0</td>\n",
       "      <td>1</td>\n",
       "      <td>0</td>\n",
       "      <td>2</td>\n",
       "      <td>2</td>\n",
       "      <td>4</td>\n",
       "      <td>0</td>\n",
       "    </tr>\n",
       "  </tbody>\n",
       "</table>\n",
       "<p>5 rows × 55 columns</p>\n",
       "</div>"
      ],
      "text/plain": [
       "                                        PROJECTE URGENT  \\\n",
       "0                        3 Fermentats I Un Destí     Sí   \n",
       "1                                      30 Cabres          \n",
       "2                  7 de Ribera Hostal-Agrobotiga     Sí   \n",
       "3                                       A Granel          \n",
       "4  AgroMontserratí - Cooperativa del Montserratí          \n",
       "\n",
       "                                         PRODUCTE(S)             MUNICIPI  \\\n",
       "0  1 Pa de Massa Mare Natural de 2kg 2 Vins Natur...              Torelló   \n",
       "1  Formatges de llet crua de cabres que pasturen ...  Bellver de Cerdanya   \n",
       "2                       Verdures de producció propia          Móra d'Ebre   \n",
       "3  Cosmètica, productes d’higiène i neteja ecològics            Barcelona   \n",
       "4  Fruita, verdura, transformats, elaborats, pins...  Olesa de Montserrat   \n",
       "\n",
       "                                         COM COMPRAR  \\\n",
       "0  Ho repartim a domicili per tot Osona resta de ...   \n",
       "1  Contacta per telefon, mail o xarxes socials (@...   \n",
       "2  A l'agrobotiga dijous i divendres de 10:00 a 1...   \n",
       "3  Venda directa i en punts de recollida per tota...   \n",
       "4  A través del Whatsap i Telèfon - XXXXXXXXX A l...   \n",
       "\n",
       "                                        OBSERVACIONS CCPAE         COMARCA  \\\n",
       "0  Ens fa il.lusió poder colaborar per oferir-vos...    Sí           Osona   \n",
       "1  Tots els nostres formatges estan elaborats amb...              Cerdanya   \n",
       "2                         www.biosferacomestible.cat         Ribera d’Ebre   \n",
       "3                                                       Sí       Barcelona   \n",
       "4                            www.agromontserrati.cat        Baix Llobregat   \n",
       "\n",
       "   comarca_origin                                   COM COMPRAR_prep  ...  \\\n",
       "0           Osona  repartim domicili osona resta catalunya consul...  ...   \n",
       "1        Cerdanya  contacta telefon mail xarxes socials cabres mi...  ...   \n",
       "2   Ribera d'Ebre  agrobotiga dijous divendres dijous tarde repar...  ...   \n",
       "3      Barcelonès  venda directa punts recollida tota catalunya d...  ...   \n",
       "4  Baix Llobregat  traves whatsap telefon xxxxxxxxx agrobotiga c ...  ...   \n",
       "\n",
       "  shop market phone orders whatsapp  socialnet  n_main_prod  n_other_prod  \\\n",
       "0    0      0     0      0        0          0            0             3   \n",
       "1    0      0     1      0        0          1            0             1   \n",
       "2    1      0     0      0        0          0            1             0   \n",
       "3    0      0     0      0        0          0            0             1   \n",
       "4    1      0     1      0        1          0            2             2   \n",
       "\n",
       "   n_tot_prod  n_paym_methods  \n",
       "0           3               0  \n",
       "1           1               0  \n",
       "2           1               0  \n",
       "3           1               0  \n",
       "4           4               0  \n",
       "\n",
       "[5 rows x 55 columns]"
      ]
     },
     "execution_count": 24,
     "metadata": {},
     "output_type": "execute_result"
    }
   ],
   "source": [
    "print(data.columns)\n",
    "data.head()"
   ]
  }
 ],
 "metadata": {
  "kernelspec": {
   "display_name": "Python 3",
   "language": "python",
   "name": "python3"
  },
  "language_info": {
   "codemirror_mode": {
    "name": "ipython",
    "version": 3
   },
   "file_extension": ".py",
   "mimetype": "text/x-python",
   "name": "python",
   "nbconvert_exporter": "python",
   "pygments_lexer": "ipython3",
   "version": "3.7.7"
  }
 },
 "nbformat": 4,
 "nbformat_minor": 4
}

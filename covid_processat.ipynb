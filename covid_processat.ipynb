{
 "cells": [
  {
   "cell_type": "markdown",
   "metadata": {},
   "source": [
    "## Imports"
   ]
  },
  {
   "cell_type": "code",
   "execution_count": 1,
   "metadata": {},
   "outputs": [],
   "source": [
    "from pathlib import Path # reads paths in the current OS\n",
    "import unicodedata\n",
    "import pandas as pd\n",
    "import numpy as np\n",
    "import json\n",
    "import re\n",
    "import utils as ut\n",
    "from stop_words import get_stop_words\n",
    "from unidecode import unidecode"
   ]
  },
  {
   "cell_type": "markdown",
   "metadata": {},
   "source": [
    "## Reading"
   ]
  },
  {
   "cell_type": "code",
   "execution_count": 2,
   "metadata": {},
   "outputs": [],
   "source": [
    "config       = json.load(open('paths.cfg'))\n",
    "\n",
    "data         = pd.read_csv(Path(config['input_path']) / \"abastiment.csv\", sep=\",\").fillna('')\n",
    "locations_df = pd.read_csv(Path(config['input_path']) /  'municipis_merge.csv').fillna('')\n",
    "\n",
    "com_comprar  = json.load(open('com_comprar_kw.cfg'))\n",
    "product_cat  = json.load(open('product_list.cfg'))"
   ]
  },
  {
   "cell_type": "code",
   "execution_count": 3,
   "metadata": {},
   "outputs": [
    {
     "data": {
      "text/html": [
       "<div>\n",
       "<style scoped>\n",
       "    .dataframe tbody tr th:only-of-type {\n",
       "        vertical-align: middle;\n",
       "    }\n",
       "\n",
       "    .dataframe tbody tr th {\n",
       "        vertical-align: top;\n",
       "    }\n",
       "\n",
       "    .dataframe thead th {\n",
       "        text-align: right;\n",
       "    }\n",
       "</style>\n",
       "<table border=\"1\" class=\"dataframe\">\n",
       "  <thead>\n",
       "    <tr style=\"text-align: right;\">\n",
       "      <th></th>\n",
       "      <th>PROJECTE</th>\n",
       "      <th>URGENT</th>\n",
       "      <th>PRODUCTE(S)</th>\n",
       "      <th>MUNICIPI</th>\n",
       "      <th>COM COMPRAR</th>\n",
       "      <th>OBSERVACIONS</th>\n",
       "      <th>CCPAE</th>\n",
       "      <th>COMARCA</th>\n",
       "    </tr>\n",
       "  </thead>\n",
       "  <tbody>\n",
       "    <tr>\n",
       "      <th>0</th>\n",
       "      <td>3 Fermentats I Un Destí</td>\n",
       "      <td>Sí</td>\n",
       "      <td>1 Pa de Massa Mare Natural de 2kg 2 Vins Natur...</td>\n",
       "      <td>Torelló</td>\n",
       "      <td>Ho repartim a domicili per tot Osona resta de ...</td>\n",
       "      <td>Ens fa il.lusió poder colaborar per oferir-vos...</td>\n",
       "      <td>Sí</td>\n",
       "      <td>Osona</td>\n",
       "    </tr>\n",
       "    <tr>\n",
       "      <th>1</th>\n",
       "      <td>30 Cabres</td>\n",
       "      <td></td>\n",
       "      <td>Formatges de llet crua de cabres que pasturen ...</td>\n",
       "      <td>Bellver de Cerdanya</td>\n",
       "      <td>Contacta per telefon, mail o xarxes socials (@...</td>\n",
       "      <td>Tots els nostres formatges estan elaborats amb...</td>\n",
       "      <td></td>\n",
       "      <td>Cerdanya</td>\n",
       "    </tr>\n",
       "    <tr>\n",
       "      <th>2</th>\n",
       "      <td>7 de Ribera Hostal-Agrobotiga</td>\n",
       "      <td>Sí</td>\n",
       "      <td>Verdures de producció propia</td>\n",
       "      <td>Móra d'Ebre</td>\n",
       "      <td>A l'agrobotiga dijous i divendres de 10:00 a 1...</td>\n",
       "      <td>www.biosferacomestible.cat</td>\n",
       "      <td></td>\n",
       "      <td>Ribera d’Ebre</td>\n",
       "    </tr>\n",
       "    <tr>\n",
       "      <th>3</th>\n",
       "      <td>A Granel</td>\n",
       "      <td></td>\n",
       "      <td>Cosmètica, productes d’higiène i neteja ecològics</td>\n",
       "      <td>Barcelona</td>\n",
       "      <td>Venda directa i en punts de recollida per tota...</td>\n",
       "      <td></td>\n",
       "      <td>Sí</td>\n",
       "      <td>Barcelona</td>\n",
       "    </tr>\n",
       "    <tr>\n",
       "      <th>4</th>\n",
       "      <td>AgroMontserratí - Cooperativa del Montserratí</td>\n",
       "      <td></td>\n",
       "      <td>Fruita, verdura, transformats, elaborats, pins...</td>\n",
       "      <td>Olesa de Montserrat</td>\n",
       "      <td>A través del Whatsap i Telèfon - XXXXXXXXX A l...</td>\n",
       "      <td>www.agromontserrati.cat</td>\n",
       "      <td></td>\n",
       "      <td>Baix Llobregat</td>\n",
       "    </tr>\n",
       "  </tbody>\n",
       "</table>\n",
       "</div>"
      ],
      "text/plain": [
       "                                        PROJECTE URGENT  \\\n",
       "0                        3 Fermentats I Un Destí     Sí   \n",
       "1                                      30 Cabres          \n",
       "2                  7 de Ribera Hostal-Agrobotiga     Sí   \n",
       "3                                       A Granel          \n",
       "4  AgroMontserratí - Cooperativa del Montserratí          \n",
       "\n",
       "                                         PRODUCTE(S)             MUNICIPI  \\\n",
       "0  1 Pa de Massa Mare Natural de 2kg 2 Vins Natur...              Torelló   \n",
       "1  Formatges de llet crua de cabres que pasturen ...  Bellver de Cerdanya   \n",
       "2                       Verdures de producció propia          Móra d'Ebre   \n",
       "3  Cosmètica, productes d’higiène i neteja ecològics            Barcelona   \n",
       "4  Fruita, verdura, transformats, elaborats, pins...  Olesa de Montserrat   \n",
       "\n",
       "                                         COM COMPRAR  \\\n",
       "0  Ho repartim a domicili per tot Osona resta de ...   \n",
       "1  Contacta per telefon, mail o xarxes socials (@...   \n",
       "2  A l'agrobotiga dijous i divendres de 10:00 a 1...   \n",
       "3  Venda directa i en punts de recollida per tota...   \n",
       "4  A través del Whatsap i Telèfon - XXXXXXXXX A l...   \n",
       "\n",
       "                                        OBSERVACIONS CCPAE         COMARCA  \n",
       "0  Ens fa il.lusió poder colaborar per oferir-vos...    Sí           Osona  \n",
       "1  Tots els nostres formatges estan elaborats amb...              Cerdanya  \n",
       "2                         www.biosferacomestible.cat         Ribera d’Ebre  \n",
       "3                                                       Sí       Barcelona  \n",
       "4                            www.agromontserrati.cat        Baix Llobregat  "
      ]
     },
     "execution_count": 3,
     "metadata": {},
     "output_type": "execute_result"
    }
   ],
   "source": [
    "data.head()"
   ]
  },
  {
   "cell_type": "code",
   "execution_count": 4,
   "metadata": {},
   "outputs": [
    {
     "data": {
      "text/html": [
       "<div>\n",
       "<style scoped>\n",
       "    .dataframe tbody tr th:only-of-type {\n",
       "        vertical-align: middle;\n",
       "    }\n",
       "\n",
       "    .dataframe tbody tr th {\n",
       "        vertical-align: top;\n",
       "    }\n",
       "\n",
       "    .dataframe thead th {\n",
       "        text-align: right;\n",
       "    }\n",
       "</style>\n",
       "<table border=\"1\" class=\"dataframe\">\n",
       "  <thead>\n",
       "    <tr style=\"text-align: right;\">\n",
       "      <th></th>\n",
       "      <th>Municipi</th>\n",
       "      <th>Comarca</th>\n",
       "      <th>Capital</th>\n",
       "      <th>Provincia</th>\n",
       "    </tr>\n",
       "  </thead>\n",
       "  <tbody>\n",
       "    <tr>\n",
       "      <th>0</th>\n",
       "      <td>Abella de la Conca</td>\n",
       "      <td>Pallars Jussà</td>\n",
       "      <td>Tremp</td>\n",
       "      <td>Lleida</td>\n",
       "    </tr>\n",
       "    <tr>\n",
       "      <th>1</th>\n",
       "      <td>Castell de Mur</td>\n",
       "      <td>Pallars Jussà</td>\n",
       "      <td>Tremp</td>\n",
       "      <td>Lleida</td>\n",
       "    </tr>\n",
       "    <tr>\n",
       "      <th>2</th>\n",
       "      <td>Conca de Dalt</td>\n",
       "      <td>Pallars Jussà</td>\n",
       "      <td>Tremp</td>\n",
       "      <td>Lleida</td>\n",
       "    </tr>\n",
       "    <tr>\n",
       "      <th>3</th>\n",
       "      <td>Gavet de la Conca</td>\n",
       "      <td>Pallars Jussà</td>\n",
       "      <td>Tremp</td>\n",
       "      <td>Lleida</td>\n",
       "    </tr>\n",
       "    <tr>\n",
       "      <th>4</th>\n",
       "      <td>Isona i Conca Dellà</td>\n",
       "      <td>Pallars Jussà</td>\n",
       "      <td>Tremp</td>\n",
       "      <td>Lleida</td>\n",
       "    </tr>\n",
       "  </tbody>\n",
       "</table>\n",
       "</div>"
      ],
      "text/plain": [
       "              Municipi        Comarca Capital Provincia\n",
       "0   Abella de la Conca  Pallars Jussà   Tremp    Lleida\n",
       "1       Castell de Mur  Pallars Jussà   Tremp    Lleida\n",
       "2        Conca de Dalt  Pallars Jussà   Tremp    Lleida\n",
       "3    Gavet de la Conca  Pallars Jussà   Tremp    Lleida\n",
       "4  Isona i Conca Dellà  Pallars Jussà   Tremp    Lleida"
      ]
     },
     "execution_count": 4,
     "metadata": {},
     "output_type": "execute_result"
    }
   ],
   "source": [
    "locations_df.head()"
   ]
  },
  {
   "cell_type": "code",
   "execution_count": 5,
   "metadata": {},
   "outputs": [],
   "source": [
    "#load a set of stop words\n",
    "stopwords = get_stop_words('catalan')\n",
    "#add new stopwords\n",
    "newStopWords = ['que','des', 'al', 'del', 'ho', 'd', 'l','per','tambe', 'fins',\n",
    "               'a', 'cap', 'hi', 'ni', 'no']\n",
    "stopwords.extend(newStopWords)"
   ]
  },
  {
   "cell_type": "code",
   "execution_count": 6,
   "metadata": {},
   "outputs": [],
   "source": [
    "delivery_patt = ['repart', 'domicil', 'envi', 'recoll', 'dist']"
   ]
  },
  {
   "cell_type": "markdown",
   "metadata": {},
   "source": [
    "## Pre-process columns"
   ]
  },
  {
   "cell_type": "code",
   "execution_count": 7,
   "metadata": {},
   "outputs": [],
   "source": [
    "for col in ['COM COMPRAR', 'PRODUCTE(S)', 'OBSERVACIONS']:\n",
    "    data[col] = data[col].apply(lambda x: ut.pre_process(x, stopwords,sw=True))\n",
    "data['MUNICIPI'] = data['MUNICIPI'].apply(lambda x: ut.pre_process(x))\n",
    "\n",
    "for col in ['Municipi', 'Comarca', 'Capital', 'Provincia']:\n",
    "    locations_df[col] = locations_df[col].apply(lambda x: ut.pre_process(x, stopwords,sw=True))"
   ]
  },
  {
   "cell_type": "code",
   "execution_count": 8,
   "metadata": {},
   "outputs": [],
   "source": [
    "com_typos = {\n",
    "    'Al Urgell':'Alt Urgell',\n",
    "    'Bages-Moianes':'Moianes',\n",
    "    'Moianes-Bages':'Moianes',\n",
    "    'Barcelona':'Barcelones',\n",
    "    'Maresme-Barcelones':'Maresme',\n",
    "    'Tarragona':'Tarragones',\n",
    "    'Baix Montseny':'Valles Oriental',\n",
    "    'Baixa Cerdanya':'Cerdanya'\n",
    "            }\n",
    "data['comarca_new'] = data['COMARCA'].apply(lambda row: re.sub(\"[\\u0300-\\u036f]\", \"\", \n",
    "                                                           unicodedata.normalize('NFD', row))).replace(com_typos)"
   ]
  },
  {
   "cell_type": "markdown",
   "metadata": {},
   "source": [
    "## New columns"
   ]
  },
  {
   "cell_type": "code",
   "execution_count": 9,
   "metadata": {},
   "outputs": [],
   "source": [
    "# get a list of all possible locations at all levels (municipality, province...)\n",
    "locations = locations_df['Municipi'].unique().tolist()+locations_df['Comarca'].unique().tolist() + locations_df[\n",
    "    'Capital'].unique().tolist() + locations_df['Provincia'].unique().tolist()\n",
    "locations = [x for x in locations if x != '']"
   ]
  },
  {
   "cell_type": "markdown",
   "metadata": {},
   "source": [
    "### Locations"
   ]
  },
  {
   "cell_type": "code",
   "execution_count": 10,
   "metadata": {},
   "outputs": [],
   "source": [
    "# obtain the locations from the free text fields\n",
    "ut.get_text_locations(data, 'locations','COM COMPRAR',locations,delivery_patt)\n",
    "ut.get_text_locations(data, 'comarca','COM COMPRAR',\n",
    "                   locations_df['Comarca'].unique().tolist(),delivery_patt)\n",
    "ut.get_text_locations(data, 'capital','COM COMPRAR',\n",
    "                   locations_df['Capital'].unique().tolist(),delivery_patt)\n",
    "ut.get_text_locations(data, 'provincia','COM COMPRAR',\n",
    "                   locations_df['Provincia'].unique().tolist(),delivery_patt)"
   ]
  },
  {
   "cell_type": "markdown",
   "metadata": {},
   "source": [
    "### Binary variables"
   ]
  },
  {
   "cell_type": "code",
   "execution_count": 11,
   "metadata": {},
   "outputs": [],
   "source": [
    "# create binary variables representing whether they have a type of product (1) or not\n",
    "for key, val in product_cat.items():\n",
    "    data[key]=0\n",
    "    data.loc[data['PRODUCTE(S)'].str.contains('|'.join(val)),key] = 1\n",
    "    \n",
    "# create binary variables representing whether they have a type payment method, contact info... (1) or not\n",
    "for key, val in com_comprar.items():\n",
    "    data[key]=0\n",
    "    data.loc[data['COM COMPRAR'].str.contains('|'.join(val)),key] = 1\n",
    "# improve the website and social network searches adding another column\n",
    "data.loc[(data['web']!=1) & (data['OBSERVACIONS'].str.contains('|'.join(com_comprar['web']))),\n",
    "  'web'] = 1\n",
    "data.loc[(data['socialnet']!=1) & (data['OBSERVACIONS'].str.contains('|'.join(com_comprar['socialnet']))),\n",
    "  'socialnet'] = 1"
   ]
  },
  {
   "cell_type": "markdown",
   "metadata": {},
   "source": [
    "### Number of type of products"
   ]
  },
  {
   "cell_type": "code",
   "execution_count": 12,
   "metadata": {},
   "outputs": [],
   "source": [
    "# Creating variables about number of products sold:\n",
    "data['n_prod_princ'] = data['meat'] + data['fruit'] + data['vegetables']\n",
    "data['n_prod_others'] = data['flowers'] + data['legumes'] + data['mushrooms'] + data['rice'] +\\\n",
    "    data['flour_cereals'] + data['oil_olives_vinager'] + data['eggs'] + data['dairies'] +\\\n",
    "    data['herbs_spices'] + data['hygiene_medicines'] + data['alcohol'] +\\\n",
    "    data['fruit_veggies_products'] + data['drinks'] + data['bread_pastries'] +\\\n",
    "    data['pasta'] + data['others']\n",
    "data['n_prod_tot'] = data['n_prod_princ'] + data['n_prod_others']"
   ]
  },
  {
   "cell_type": "markdown",
   "metadata": {},
   "source": [
    "## Save"
   ]
  },
  {
   "cell_type": "code",
   "execution_count": 13,
   "metadata": {},
   "outputs": [],
   "source": [
    "data.to_csv(Path(config['input_path']) / 'abastiment_new.csv', index=False)"
   ]
  },
  {
   "cell_type": "code",
   "execution_count": null,
   "metadata": {},
   "outputs": [],
   "source": []
  }
 ],
 "metadata": {
  "kernelspec": {
   "display_name": "dadess",
   "language": "python",
   "name": "dadess"
  },
  "language_info": {
   "codemirror_mode": {
    "name": "ipython",
    "version": 3
   },
   "file_extension": ".py",
   "mimetype": "text/x-python",
   "name": "python",
   "nbconvert_exporter": "python",
   "pygments_lexer": "ipython3",
   "version": "3.7.7"
  }
 },
 "nbformat": 4,
 "nbformat_minor": 4
}

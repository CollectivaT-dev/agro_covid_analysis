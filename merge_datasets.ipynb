{
 "cells": [
  {
   "cell_type": "code",
   "execution_count": 1,
   "metadata": {},
   "outputs": [],
   "source": [
    "from pathlib import Path # reads paths in the current OS\n",
    "import pandas as pd\n",
    "import numpy as np\n",
    "import yaml\n",
    "import utils as ut"
   ]
  },
  {
   "cell_type": "code",
   "execution_count": 2,
   "metadata": {},
   "outputs": [],
   "source": [
    "with open(Path('conf') / 'paths.yaml') as file:\n",
    "    config = yaml.full_load(file)\n",
    "\n",
    "abastiment = pd.read_csv(Path(config['input_path']) / \"abastiment_clean.csv\", sep=\",\").fillna('')\n",
    "pagesos    = pd.read_csv(Path(config['input_path']) / \"pagesos_clean.csv\", sep=\",\").fillna('')"
   ]
  },
  {
   "cell_type": "code",
   "execution_count": 3,
   "metadata": {},
   "outputs": [],
   "source": [
    "abastiment.rename(columns={'PROJECTE':'MARCA'},inplace=True)\n",
    "pagesos['dataset']    = 'pagesos'\n",
    "abastiment['dataset'] = 'abastiment'"
   ]
  },
  {
   "cell_type": "code",
   "execution_count": 4,
   "metadata": {},
   "outputs": [],
   "source": [
    "vdp = pd.read_csv(Path(config['input_path']\n",
    "                           ) / 'vdp_clean.csv').fillna('')"
   ]
  },
  {
   "cell_type": "code",
   "execution_count": 5,
   "metadata": {},
   "outputs": [
    {
     "name": "stdout",
     "output_type": "stream",
     "text": [
      "Partial match: BdeGust Beer Cervesa Compromesa vs. BdeGust Cervesa Compromesa 91 81\n",
      "Partial match: BIOGRASSFEED vs. Biograssfed 96 91\n",
      "Partial match: Tomating vs. Tomàting 88 88\n",
      "Partial match: Ramaderia Ecològica ca l'Andreu vs. Ramaderia ecológica ca l’andreu 94 94\n",
      "Partial match: L'Enllaç de l'Ebre vs. L'Enllaç de l’Ebre, SCCL 79 89\n",
      "Partial match: (Mu)DA Vedella d'Agullana vs. MuDA. Vedella d'Agullana 94 96\n",
      "Partial match: Granja de Montmelús vs. Granja i formatgeria de Montmelús 73 84\n",
      "Partial match: Safra del Montsec vs. Safrà del Montsec 94 94\n",
      "Partial match: Celler Optim vs. Celler Lo 76 89\n",
      "Partial match: FORMATGERIA LAURA vs. Formatgeria Tiraval 78 82\n",
      "Partial match: Cordú Fruits vs. Cor de fruita 80 83\n",
      "Partial match: PLANESES AGRICULTIRA REGENERATIVA vs. Planeses Agricultura Regenerativa 97 97\n",
      "Partial match: Granja Can Torrent vs. Granja can Borrell 83 83\n",
      "Partial match: Maduixes del Maresme vs. Maduixes de Munt 72 81\n",
      "Partial match: Can Terrades Produccio Agraria Ecològica sco vs. Can Terrades, Producció Agrària Ecològica SCP 92 93\n",
      "Partial match: El Moli d'en Vendrell vs. El Molí D'en Vendrell 95 95\n",
      "Matches considered non-matches:\n",
      "     marca_inicial          MARCA\n",
      "82  Cor de fruita  Cor de fruita\n"
     ]
    }
   ],
   "source": [
    "# manually checked for names that where filtered as a match but weren't\n",
    "not_duplicates = ['Celler Lo','Formatgeria Tiraval','Cor de fruita','Granja can Borrell','Maduixes de Munt']\n",
    "\n",
    "matches = ut.get_project_matches(pagesos['MARCA'],abastiment['MARCA'],not_duplicates)"
   ]
  },
  {
   "cell_type": "code",
   "execution_count": 6,
   "metadata": {},
   "outputs": [],
   "source": [
    "common_cols = [c for c in pagesos.columns if c in abastiment.columns]"
   ]
  },
  {
   "cell_type": "code",
   "execution_count": 7,
   "metadata": {},
   "outputs": [],
   "source": [
    "all_data = pd.concat([pagesos[common_cols],\n",
    "          abastiment[~(abastiment.MARCA.isin(matches.MARCA.values))][common_cols]],\n",
    "          axis=0)"
   ]
  },
  {
   "cell_type": "code",
   "execution_count": 9,
   "metadata": {},
   "outputs": [
    {
     "name": "stdout",
     "output_type": "stream",
     "text": [
      "Searching matches in column: Nom productor\n",
      "Partial match: CAL CIGARRO, SL vs. Cal Cigarro SL 97 93\n",
      "Partial match: CAL SERRATS, SCP vs. Cal Serrats SCP 97 93\n",
      "Partial match: CAN GEL SCP vs. Can Gual SCP 87 82\n",
      "Partial match: CAN GUAL, SCP vs. Can Gual SCP 96 92\n",
      "Partial match: CAN MIMO, PASTORS I PRODUCTORS ARTESANS, S.L vs. Can Mimó, Pastors i productors artesans 92 97\n",
      "Partial match: CAN MUNNAR CB vs. Can Munnar SC 92 92\n",
      "Partial match: CAN TABAQUET, SCP vs. Cal Tabaquet 76 92\n",
      "Partial match: CASA BERTRAN SCP vs. Casa Beta 72 89\n",
      "Partial match: CELLER CEDO ANGUERA, S.L. vs. CELLER CEDÓ ANGUERA 82 95\n",
      "Partial match: CELLER COOPERATIU GANDESA, SCCL vs. Celler Cooperatiu de Gandesa 85 89\n",
      "Partial match: CENTRAL PARC DEL BAIX LLOBREGAT S.C.C.L. vs. Central Parc Baix Llobregat 81 85\n",
      "Partial match: COLET VITICULTORS, SL vs. Mulet Viticultors 79 88\n",
      "Partial match: COLLITA PRÒPIA SCP vs. Collita propia 81 93\n",
      "Partial match: COOPERATIVA AGRÍCOLA I CA SANT ISIDRE vs. Cooperativa Agricola Sant Isidre Del Perelló 77 84\n",
      "Partial match: EL TROS D'ORDAL, S.L. vs. El Tros dOrdal SL 87 89\n",
      "Partial match: ESPELT VITICULTORS, SL vs. Mulet Viticultors 72 82\n",
      "Partial match: FAMILIA ESTEVE RAFOLS, SCP vs. Família Esteve Ràfols SCP 90 88\n",
      "Partial match: FORMATGES ARTESANS DE PONENT SCP vs. FORMATGES ARTESANS DE PONENT,S L 91 91\n",
      "Partial match: FORMATGES ARTESANS DE PONENT, SL vs. FORMATGES ARTESANS DE PONENT,S L 97 97\n",
      "Partial match: GRANJA EL ROCALL, S.L. vs. Granja la Roca 72 93\n",
      "Partial match: HORT DE LA CISTELLERA, SCP vs. HORT DE CA LA CISTELLERA 84 88\n",
      "Partial match: LA CABANA D'ALCOVER,SL vs. La Cabana d'Alcover SL 95 95\n",
      "Partial match: M. ASSUMPTA CODINACHS RAMON FONT, CB vs. Assumpta Codinachs i Ramon Font C.B., Aixalda 79 89\n",
      "Partial match: MEL DE CA L'ABELLAIRE, SL vs. Mel ca l'abellaire sl. 89 88\n",
      "Partial match: RAMADERIA AULINA SL vs. Ramaderia l'Illa 74 81\n",
      "Partial match: RAMADERIA CMC, SL vs. ramaderia Mado, scp 78 82\n",
      "Partial match: RAMADERIA ECOLOGICA, SL vs. Ramaderia Ecològica ca l'Andreu 74 83\n",
      "Partial match: RAMADERIA LA ILLA, SC vs. RAMADERIA LA ILLA SC 98 95\n",
      "Partial match: RAMADERIA MADO SCP vs. ramaderia Mado, scp 97 94\n",
      "Partial match: RAMADERIA SOLÉ, SCP vs. ramaderia Mado, scp 84 84\n",
      "Partial match: SAT PASTURES DEL MONTSENY vs. Pollastre del Montseny 81 86\n",
      "Partial match: VERDAGUER OLIVES, SCP vs. Verdaguer Olives scp 98 95\n",
      "Matches considered non-matches:\n",
      "                               marca_inicial  \\\n",
      "410                             CAN GEL SCP   \n",
      "477                        CASA BERTRAN SCP   \n",
      "587                   COLET VITICULTORS, SL   \n",
      "629   COOPERATIVA AGRÍCOLA I CA SANT ISIDRE   \n",
      "774                  ESPELT VITICULTORS, SL   \n",
      "899        FORMATGES ARTESANS DE PONENT SCP   \n",
      "1050                 GRANJA EL ROCALL, S.L.   \n",
      "1730                    RAMADERIA AULINA SL   \n",
      "1733                      RAMADERIA CMC, SL   \n",
      "1735                RAMADERIA ECOLOGICA, SL   \n",
      "1748                    RAMADERIA SOLÉ, SCP   \n",
      "1947              SAT PASTURES DEL MONTSENY   \n",
      "\n",
      "                                             MARCA  \n",
      "410                                   Can Gual SCP  \n",
      "477                                      Casa Beta  \n",
      "587                              Mulet Viticultors  \n",
      "629   Cooperativa Agricola Sant Isidre Del Perelló  \n",
      "774                              Mulet Viticultors  \n",
      "899               FORMATGES ARTESANS DE PONENT,S L  \n",
      "1050                                Granja la Roca  \n",
      "1730                              Ramaderia l'Illa  \n",
      "1733                           ramaderia Mado, scp  \n",
      "1735               Ramaderia Ecològica ca l'Andreu  \n",
      "1748                           ramaderia Mado, scp  \n",
      "1947                        Pollastre del Montseny  \n",
      "=================================\n",
      "\n",
      "\n",
      "Searching matches in column: Marca Comercial\n",
      "Partial match: CAL CIGARRO, SL vs. Cal Cigarro SL 97 93\n",
      "Partial match: CAL SERRATS, SCP vs. Cal Serrats SCP 97 93\n",
      "Partial match: CAN GEL SCP vs. Can Gual SCP 87 82\n",
      "Partial match: CAN GUAL, SCP vs. Can Gual SCP 96 92\n",
      "Partial match: CAN MIMO, PASTORS I PRODUCTORS ARTESANS, S.L vs. Can Mimó, Pastors i productors artesans 92 97\n",
      "Partial match: CAN MUNNAR CB vs. Can Munnar SC 92 92\n",
      "Partial match: CAN TABAQUET, SCP vs. Cal Tabaquet 76 92\n",
      "Partial match: CASA BERTRAN SCP vs. Casa Beta 72 89\n",
      "Partial match: CELLER CEDO ANGUERA, S.L. vs. CELLER CEDÓ ANGUERA 82 95\n",
      "Partial match: CELLER COOPERATIU GANDESA, SCCL vs. Celler Cooperatiu de Gandesa 85 89\n",
      "Partial match: CENTRAL PARC DEL BAIX LLOBREGAT S.C.C.L. vs. Central Parc Baix Llobregat 81 85\n",
      "Partial match: COLET VITICULTORS, SL vs. Mulet Viticultors 79 88\n",
      "Partial match: COLLITA PRÒPIA SCP vs. Collita propia 81 93\n",
      "Partial match: COOPERATIVA AGRÍCOLA I CA SANT ISIDRE vs. Cooperativa Agricola Sant Isidre Del Perelló 77 84\n",
      "Partial match: EL TROS D'ORDAL, S.L. vs. El Tros dOrdal SL 87 89\n",
      "Partial match: ESPELT VITICULTORS, SL vs. Mulet Viticultors 72 82\n",
      "Partial match: FAMILIA ESTEVE RAFOLS, SCP vs. Família Esteve Ràfols SCP 90 88\n",
      "Partial match: FORMATGES ARTESANS DE PONENT SCP vs. FORMATGES ARTESANS DE PONENT,S L 91 91\n",
      "Partial match: FORMATGES ARTESANS DE PONENT, SL vs. FORMATGES ARTESANS DE PONENT,S L 97 97\n",
      "Partial match: GRANJA EL ROCALL, S.L. vs. Granja la Roca 72 93\n",
      "Partial match: HORT DE LA CISTELLERA, SCP vs. HORT DE CA LA CISTELLERA 84 88\n",
      "Partial match: LA CABANA D'ALCOVER,SL vs. La Cabana d'Alcover SL 95 95\n",
      "Partial match: M. ASSUMPTA CODINACHS RAMON FONT, CB vs. Assumpta Codinachs i Ramon Font C.B., Aixalda 79 89\n",
      "Partial match: MEL DE CA L'ABELLAIRE, SL vs. Mel ca l'abellaire sl. 89 88\n",
      "Partial match: RAMADERIA AULINA SL vs. Ramaderia l'Illa 74 81\n",
      "Partial match: RAMADERIA CMC, SL vs. ramaderia Mado, scp 78 82\n",
      "Partial match: RAMADERIA ECOLOGICA, SL vs. Ramaderia Ecològica ca l'Andreu 74 83\n",
      "Partial match: RAMADERIA LA ILLA, SC vs. RAMADERIA LA ILLA SC 98 95\n",
      "Partial match: RAMADERIA MADO SCP vs. ramaderia Mado, scp 97 94\n",
      "Partial match: RAMADERIA SOLÉ, SCP vs. ramaderia Mado, scp 84 84\n",
      "Partial match: SAT PASTURES DEL MONTSENY vs. Pollastre del Montseny 81 86\n",
      "Partial match: VERDAGUER OLIVES, SCP vs. Verdaguer Olives scp 98 95\n",
      "Matches considered non-matches:\n",
      "                               marca_inicial  \\\n",
      "410                             CAN GEL SCP   \n",
      "477                        CASA BERTRAN SCP   \n",
      "587                   COLET VITICULTORS, SL   \n",
      "629   COOPERATIVA AGRÍCOLA I CA SANT ISIDRE   \n",
      "774                  ESPELT VITICULTORS, SL   \n",
      "899        FORMATGES ARTESANS DE PONENT SCP   \n",
      "1730                    RAMADERIA AULINA SL   \n",
      "1733                      RAMADERIA CMC, SL   \n",
      "1735                RAMADERIA ECOLOGICA, SL   \n",
      "1748                    RAMADERIA SOLÉ, SCP   \n",
      "1947              SAT PASTURES DEL MONTSENY   \n",
      "\n",
      "                                             MARCA  \n",
      "410                                   Can Gual SCP  \n",
      "477                                      Casa Beta  \n",
      "587                              Mulet Viticultors  \n",
      "629   Cooperativa Agricola Sant Isidre Del Perelló  \n",
      "774                              Mulet Viticultors  \n",
      "899               FORMATGES ARTESANS DE PONENT,S L  \n",
      "1730                              Ramaderia l'Illa  \n",
      "1733                           ramaderia Mado, scp  \n",
      "1735               Ramaderia Ecològica ca l'Andreu  \n",
      "1748                           ramaderia Mado, scp  \n",
      "1947                        Pollastre del Montseny  \n",
      "=================================\n",
      "\n",
      "\n",
      "Number of coincidences with other datasets: 23\n"
     ]
    }
   ],
   "source": [
    "# find which names are in the dataset from the generalitat\n",
    "# manually checked for names that where filtered as a match but weren't\n",
    "not_duplicates = {'Nom productor':['CAN GEL SCP','CASA BERTRAN SCP','COLET VITICULTORS, SL',\n",
    "                                   'COOPERATIVA AGRÍCOLA I CA SANT ISIDRE','ESPELT VITICULTORS',\n",
    "                                   'GRANJA EL ROCALL','RAMADERIA AULINA SL','RAMADERIA CMC, SL',\n",
    "                                   \"FORMATGES ARTESANS DE PONENT SCP\",\n",
    "                                   'RAMADERIA ECOLOGICA, SL','RAMADERIA SOLÉ, SCP','SAT PASTURES DEL MONTSENY'],\n",
    "                  'Marca Comercial':[\"AGROLI\",'CAN GEL SCP', \"CAL PUJOLET\", \"CAL ROIO\", \"CASA BERTRAN\", \n",
    "                                     \"CELLER COOPERATIU DE SALELLES\", \"FRUITES I VERDURES RAMS\", \n",
    "                                     \"GRANJA VIDAL\", \"HORT DE ANMART\", \"HORTA DE CAL VIU\", \"HORTALISSES PI\", \n",
    "                                     \"HORTS CA L'ALEGRIA\", \"OUS ECOLÒGICS DE L'EMPORDÀ\", \"GRANJA DEL MONTSENY\", \n",
    "                                     \"RAMADERIA AULINA\", \"RAMADERIA SOLÉ, SCP\", \"LA FORMATGERIA A TAULL\", \n",
    "                                     \"RAMADERIA CMC, SL\",\"FORMATGES ARTESANS DE PONENT SCP\",\n",
    "                                     \"COOPERATIVA AGRÍCOLA I CA SANT ISIDRE\",\"GRANJA EL ROCALL, S.L.\",\n",
    "                                     \"L'HORT DEL XIQUET\", \"HORTA DE BEA\", \"MAS LA MORA\", \n",
    "                                     \"COLET VITICULTORS, SL\",\"RAMADERIA ECOLOGICA, SL\",\n",
    "                                     \"ESPELT VITICULTORS, SL\",\"GRANJA EL ROCALL, S.L.\",\n",
    "                                     \"FRUITES I VERDURES E. CAMPOS\", \"LA COROMINA\", \"CAL MESTRET\", \n",
    "                                     \"EL REBOST DE L'ALEGRIA\", \"FRUITES I VERDURES PERE I ANA\", \n",
    "                                     \"L'HORT DEL MOLÍ\", \"MEL DE LA CONCA\", \"MAS EL PUIG\", \"L'HORT D'EN RIPOLL\", \n",
    "                                     \"RAIG D'ARBECA\", \"LA COROMINA\", \"GRANJA FELIP\",\"SAT PASTURES DEL MONTSENY\"]\n",
    "                 }\n",
    "vdp_matches = pd.DataFrame(columns=['exact','marca_inicial','MARCA'])\n",
    "\n",
    "for col in ['Nom productor','Marca Comercial']:\n",
    "    print('Searching matches in column:',col)\n",
    "    matches = ut.get_project_matches(vdp['Nom productor'],all_data['MARCA'],not_duplicates[col])\n",
    "    vdp_matches = pd.concat([vdp_matches, matches],axis=0)\n",
    "    print(\"=================================\\n\\n\")\n",
    "    \n",
    "vdp_matches = vdp_matches.drop_duplicates()\n",
    "vdp_matches = vdp_matches.rename(columns={'marca_inicial':'marca_vdp'})\n",
    "print('Number of coincidences with other datasets:',vdp_matches.shape[0])"
   ]
  },
  {
   "cell_type": "code",
   "execution_count": null,
   "metadata": {},
   "outputs": [],
   "source": [
    "all_data = all_data.merge(vdp_matches[['marca_vdp','MARCA']],on='MARCA',how='left')"
   ]
  },
  {
   "cell_type": "code",
   "execution_count": null,
   "metadata": {},
   "outputs": [],
   "source": [
    "all_data.to_csv(Path(config['input_path']) / 'all_data.csv', index=False)"
   ]
  },
  {
   "cell_type": "code",
   "execution_count": null,
   "metadata": {},
   "outputs": [],
   "source": []
  }
 ],
 "metadata": {
  "kernelspec": {
   "display_name": "dadess",
   "language": "python",
   "name": "dadess"
  },
  "language_info": {
   "codemirror_mode": {
    "name": "ipython",
    "version": 3
   },
   "file_extension": ".py",
   "mimetype": "text/x-python",
   "name": "python",
   "nbconvert_exporter": "python",
   "pygments_lexer": "ipython3",
   "version": "3.7.7"
  }
 },
 "nbformat": 4,
 "nbformat_minor": 4
}

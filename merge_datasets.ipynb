{
 "cells": [
  {
   "cell_type": "code",
   "execution_count": 1,
   "metadata": {},
   "outputs": [],
   "source": [
    "from pathlib import Path # reads paths in the current OS\n",
    "import pandas as pd\n",
    "import numpy as np\n",
    "import yaml\n",
    "import utils as ut"
   ]
  },
  {
   "cell_type": "code",
   "execution_count": 2,
   "metadata": {},
   "outputs": [],
   "source": [
    "with open(Path('conf') / 'paths.yaml') as file:\n",
    "    config = yaml.full_load(file)\n",
    "\n",
    "abastiment = pd.read_csv(Path(config['input_path']) / \"abastiment_clean.csv\", sep=\",\").fillna('')\n",
    "pagesos    = pd.read_csv(Path(config['input_path']) / \"pagesos_clean.csv\", sep=\",\").fillna('')"
   ]
  },
  {
   "cell_type": "code",
   "execution_count": 4,
   "metadata": {},
   "outputs": [],
   "source": [
    "abastiment.rename(columns={'PROJECTE':'MARCA'},inplace=True)\n",
    "pagesos['dataset']    = 'pagesos'\n",
    "abastiment['dataset'] = 'abastiment'"
   ]
  },
  {
   "cell_type": "code",
   "execution_count": 5,
   "metadata": {},
   "outputs": [
    {
     "name": "stdout",
     "output_type": "stream",
     "text": [
      "Partial match: BdeGust Beer Cervesa Compromesa vs. BdeGust Cervesa Compromesa 91 81\n",
      "Partial match: BIOGRASSFEED vs. Biograssfed 96 91\n",
      "Partial match: Tomating vs. Tomàting 88 88\n",
      "Partial match: Ramaderia Ecològica ca l'Andreu vs. Ramaderia ecológica ca l’andreu 94 94\n",
      "Partial match: L'Enllaç de l'Ebre vs. L'Enllaç de l’Ebre, SCCL 79 89\n",
      "Partial match: (Mu)DA Vedella d'Agullana vs. MuDA. Vedella d'Agullana 94 96\n",
      "Partial match: Granja de Montmelús vs. Granja i formatgeria de Montmelús 73 84\n",
      "Partial match: Safra del Montsec vs. Safrà del Montsec 94 94\n",
      "Partial match: Celler Optim vs. Celler Lo 76 89\n",
      "Partial match: FORMATGERIA LAURA vs. Formatgeria Tiraval 78 82\n",
      "Partial match: Cordú Fruits vs. Cor de fruita 80 83\n",
      "Partial match: PLANESES AGRICULTIRA REGENERATIVA vs. Planeses Agricultura Regenerativa 97 97\n",
      "Partial match: Granja Can Torrent vs. Granja can Borrell 83 83\n",
      "Partial match: Maduixes del Maresme vs. Maduixes de Munt 72 81\n",
      "Partial match: Can Terrades Produccio Agraria Ecològica sco vs. Can Terrades, Producció Agrària Ecològica SCP 92 93\n",
      "Partial match: El Moli d'en Vendrell vs. El Molí D'en Vendrell 95 95\n"
     ]
    }
   ],
   "source": [
    "matches = pagesos['MARCA'].apply(lambda row: ut.run_project_match(row, abastiment['MARCA']))\n",
    "matches = matches.str.split(';',expand=True).rename(columns={0:'exact',1:'MARCA'})"
   ]
  },
  {
   "cell_type": "code",
   "execution_count": 6,
   "metadata": {},
   "outputs": [],
   "source": [
    "# manually checked for names that where filtered as a match but weren't\n",
    "not_duplicates = ['Celler Lo','Formatgeria Tiraval','Cor de fruita','Granja can Borrell','Maduixes de Munt']"
   ]
  },
  {
   "cell_type": "code",
   "execution_count": 7,
   "metadata": {},
   "outputs": [],
   "source": [
    "# keep the values that are duplicates only\n",
    "matches = matches[matches.exact != '0']"
   ]
  },
  {
   "cell_type": "code",
   "execution_count": 8,
   "metadata": {},
   "outputs": [],
   "source": [
    "# remove false positives\n",
    "ind = matches[matches['MARCA'].str.contains('\\b'+r'\\b|\\b'.join(not_duplicates)+'\\b')].index\n",
    "matches = matches.drop(ind)"
   ]
  },
  {
   "cell_type": "code",
   "execution_count": 9,
   "metadata": {},
   "outputs": [],
   "source": [
    "common_cols = [c for c in pagesos.columns if c in abastiment.columns]"
   ]
  },
  {
   "cell_type": "code",
   "execution_count": 10,
   "metadata": {},
   "outputs": [],
   "source": [
    "all_data = pd.concat([pagesos[common_cols],\n",
    "          abastiment[~(abastiment.MARCA.isin(matches.MARCA.values))][common_cols]],\n",
    "          axis=0)"
   ]
  },
  {
   "cell_type": "code",
   "execution_count": 11,
   "metadata": {},
   "outputs": [],
   "source": [
    "all_data.to_csv(Path(config['input_path']) / 'all_data.csv', index=False)"
   ]
  }
 ],
 "metadata": {
  "kernelspec": {
   "display_name": "dadess",
   "language": "python",
   "name": "dadess"
  },
  "language_info": {
   "codemirror_mode": {
    "name": "ipython",
    "version": 3
   },
   "file_extension": ".py",
   "mimetype": "text/x-python",
   "name": "python",
   "nbconvert_exporter": "python",
   "pygments_lexer": "ipython3",
   "version": "3.7.7"
  }
 },
 "nbformat": 4,
 "nbformat_minor": 4
}
